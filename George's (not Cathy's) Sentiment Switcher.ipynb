{
 "cells": [
  {
   "cell_type": "markdown",
   "metadata": {},
   "source": [
    "## Greedy Sentiment Transformation\n",
    "11/13/16 - Use a greedy switching method to exchange words based on best antonym.\n",
    "Uses the IMDB dataset folder (http://ai.stanford.edu/~amaas/data/sentiment/)."
   ]
  },
  {
   "cell_type": "code",
   "execution_count": 16,
   "metadata": {
    "collapsed": false
   },
   "outputs": [],
   "source": [
    "from sentiment_utils import *\n",
    "import nltk\n",
    "from nltk.sentiment.vader import SentimentIntensityAnalyzer\n",
    "from nltk import word_tokenize\n",
    "from nltk.corpus import wordnet as wn"
   ]
  },
  {
   "cell_type": "code",
   "execution_count": 35,
   "metadata": {
    "collapsed": false
   },
   "outputs": [],
   "source": [
    "def greedy_transform_func(filename, review, score):\n",
    "    sentiment_analyzer = SentimentIntensityAnalyzer()\n",
    "    tagged_review = nltk.pos_tag(word_tokenize(review))\n",
    "    transformed_review = []\n",
    "    for tagged_word in tagged_review:\n",
    "        if tagged_word[1] in ['JJ', 'JJR', 'JJS', 'RB', 'RBR', 'RBS']:\n",
    "            #1) get sentiment of the tagged word\n",
    "            #2) if the sentiment of the tagged word is opposite of the review score\n",
    "            #3) -get the antonyms of tagged word\n",
    "            #4) -for each antonym, score sentiment, or pick random sentiment?\n",
    "            #5) -append antonym\n",
    "            word_sentiment = sentiment_analyzer.polarity_scores(tagged_word[0])['compound']\n",
    "            print tagged_word[0], tagged_word[1], word_sentiment, score\n",
    "            if word_sentiment*(score - 5) > 0:\n",
    "                antonyms = get_antonyms(tagged_word[0], tagged_word[1])\n",
    "                if len(antonyms) == 0:\n",
    "                    transformed_review.append('not ' + tagged_word[0])\n",
    "                else: transformed_review.append(antonyms[0])\n",
    "            else: transformed_review.append(tagged_word[0])\n",
    "        else:\n",
    "            transformed_review.append(tagged_word[0])\n",
    "    return \" \".join(transformed_review)\n",
    "\n",
    "def get_antonyms(word, word_pos):\n",
    "    all_antonyms = []\n",
    "    pos_dict = {'JJ': wn.ADJ, 'JJR': wn.ADJ, 'JJS': wn.ADJ, 'RB': wn.ADV, 'RBR': wn.ADV, 'RBS': wn.ADV}\n",
    "    wn_pos = pos_dict[word_pos]\n",
    "    for syn in wn.synsets(word, pos = pos_dict[word_pos]):\n",
    "        for lemma in syn.lemmas():\n",
    "            if lemma.antonyms():\n",
    "                all_antonyms.append(lemma.antonyms()[0].name())\n",
    "    antonyms = list(set(all_antonyms))\n",
    "    return antonyms"
   ]
  },
  {
   "cell_type": "markdown",
   "metadata": {},
   "source": [
    "Greedy Test One Review"
   ]
  },
  {
   "cell_type": "code",
   "execution_count": 36,
   "metadata": {
    "collapsed": false
   },
   "outputs": [
    {
     "name": "stdout",
     "output_type": "stream",
     "text": [
      "Original review: \n",
      "I went and saw this movie last night after being coaxed to by a few friends of mine. I'll admit that I was reluctant to see it because from what I knew of Ashton Kutcher he was only able to do comedy. I was wrong. Kutcher played the character of Jake Fischer very well, and Kevin Costner played Ben Randall with such professionalism. The sign of a good movie is that it can toy with our emotions. This one did exactly that. The entire theater (which was sold out) was overcome by laughter during the first half of the movie, and were moved to tears during the second half. While exiting the theater I not only saw many women in tears, but many full grown men as well, trying desperately not to let anyone see them crying. This movie was great, and I suggest that you go see it before you judge.\n",
      "Transformed review:\n",
      "last JJ 0.0 10\n",
      "few JJ 0.0 10\n",
      "reluctant JJ -0.25 10\n",
      "only RB 0.0 10\n",
      "able JJ 0.0 10\n",
      "wrong JJ -0.4767 10\n",
      "very RB 0.0 10\n",
      "well RB 0.2732 10\n",
      "such JJ 0.0 10\n",
      "good JJ 0.4404 10\n",
      "exactly RB 0.0 10\n",
      "entire JJ 0.0 10\n",
      "first JJ 0.0 10\n",
      "second JJ 0.0 10\n",
      "not RB 0.0 10\n",
      "only RB 0.0 10\n",
      "many JJ 0.0 10\n",
      "many JJ 0.0 10\n",
      "full JJ 0.0 10\n",
      "well RB 0.2732 10\n",
      "desperately RB -0.3818 10\n",
      "not RB 0.0 10\n",
      "great JJ 0.6249 10\n",
      "I went and saw this movie last night after being coaxed to by a few friends of mine . I 'll admit that I was reluctant to see it because from what I knew of Ashton Kutcher he was only able to do comedy . I was wrong . Kutcher played the character of Jake Fischer very badly , and Kevin Costner played Ben Randall with such professionalism . The sign of a bad movie is that it can toy with our emotions . This one did exactly that . The entire theater ( which was sold out ) was overcome by laughter during the first half of the movie , and were moved to tears during the second half . While exiting the theater I not only saw many women in tears , but many full grown men as badly , trying desperately not to let anyone see them crying . This movie was not great , and I suggest that you go see it before you judge .\n"
     ]
    }
   ],
   "source": [
    "for (filename, review, score) in imdb_sentiment_reader(dataset_type='val', sentiment='pos'):\n",
    "    print \"Original review: \"\n",
    "    print review\n",
    "    print \"Transformed review:\" \n",
    "    transformed = greedy_transform_func(filename, review, score)\n",
    "    print transformed\n",
    "    break"
   ]
  },
  {
   "cell_type": "code",
   "execution_count": null,
   "metadata": {
    "collapsed": true
   },
   "outputs": [],
   "source": []
  }
 ],
 "metadata": {
  "anaconda-cloud": {},
  "kernelspec": {
   "display_name": "Python [default]",
   "language": "python",
   "name": "python2"
  },
  "language_info": {
   "codemirror_mode": {
    "name": "ipython",
    "version": 2
   },
   "file_extension": ".py",
   "mimetype": "text/x-python",
   "name": "python",
   "nbconvert_exporter": "python",
   "pygments_lexer": "ipython2",
   "version": "2.7.12"
  }
 },
 "nbformat": 4,
 "nbformat_minor": 1
}
