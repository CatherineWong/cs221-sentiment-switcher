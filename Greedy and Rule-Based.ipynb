{
 "cells": [
  {
   "cell_type": "markdown",
   "metadata": {},
   "source": [
    "## Greedy Sentiment Transformation\n",
    "11/13/16 - Use a greedy switching method to exchange words based on best antonym.\n",
    "Uses the IMDB dataset folder (http://ai.stanford.edu/~amaas/data/sentiment/)."
   ]
  },
  {
   "cell_type": "code",
   "execution_count": 1,
   "metadata": {
    "collapsed": false
   },
   "outputs": [
    {
     "name": "stderr",
     "output_type": "stream",
     "text": [
      "//anaconda/lib/python2.7/site-packages/nltk/twitter/__init__.py:20: UserWarning: The twython library has not been installed. Some functionality from the twitter package will not be available.\n",
      "  warnings.warn(\"The twython library has not been installed. \"\n"
     ]
    }
   ],
   "source": [
    "from sentiment_utils import *\n",
    "import nltk\n",
    "from nltk.sentiment.vader import SentimentIntensityAnalyzer\n",
    "from nltk import word_tokenize\n",
    "from nltk.corpus import wordnet as wn"
   ]
  },
  {
   "cell_type": "code",
   "execution_count": 27,
   "metadata": {
    "collapsed": false
   },
   "outputs": [],
   "source": [
    "def greedy_transform_func(filename, review, score):\n",
    "    sentiment_analyzer = SentimentIntensityAnalyzer()\n",
    "    tagged_review = nltk.pos_tag(word_tokenize(review))\n",
    "    transformed_review = []\n",
    "    for tagged_word in tagged_review:\n",
    "        if tagged_word[1] in ['JJ', 'JJR', 'JJS', 'RB', 'RBR', 'RBS']:\n",
    "            #1) get sentiment of the tagged word\n",
    "            #2) if the sentiment of the tagged word is opposite of the review score\n",
    "            #3) -get the antonyms of tagged word\n",
    "            #4) -for each antonym, score sentiment, or pick random sentiment?\n",
    "            #5) -append antonym\n",
    "            word_sentiment = sentiment_analyzer.polarity_scores(tagged_word[0])['compound']\n",
    "            #print tagged_word[0], tagged_word[1], word_sentiment, score\n",
    "            if word_sentiment*(score - 5) > 0:\n",
    "                antonyms = get_antonyms(tagged_word[0], tagged_word[1])\n",
    "                if len(antonyms) == 0:\n",
    "                    transformed_review.append('not ' + tagged_word[0])\n",
    "                else: transformed_review.append(antonyms[0])\n",
    "            else: transformed_review.append(tagged_word[0])\n",
    "        else:\n",
    "            transformed_review.append(tagged_word[0])\n",
    "    return \" \".join(transformed_review)\n",
    "\n",
    "def get_antonyms(word, word_pos):\n",
    "    all_antonyms = []\n",
    "    pos_dict = {'JJ': wn.ADJ, 'JJR': wn.ADJ, 'JJS': wn.ADJ, 'RB': wn.ADV, 'RBR': wn.ADV, 'RBS': wn.ADV}\n",
    "    wn_pos = pos_dict[word_pos]\n",
    "    for syn in wn.synsets(word, pos = pos_dict[word_pos]):\n",
    "        for lemma in syn.lemmas():\n",
    "            if lemma.antonyms():\n",
    "                all_antonyms.append(lemma.antonyms()[0].name())\n",
    "    antonyms = list(set(all_antonyms))\n",
    "    return antonyms"
   ]
  },
  {
   "cell_type": "markdown",
   "metadata": {},
   "source": [
    "Greedy Test One Review"
   ]
  },
  {
   "cell_type": "code",
   "execution_count": 29,
   "metadata": {
    "collapsed": false
   },
   "outputs": [
    {
     "name": "stdout",
     "output_type": "stream",
     "text": [
      "Original review: \n",
      "This movie was sadly under-promoted but proved to be truly exceptional. Entering the theatre I knew nothing about the film except that a friend wanted to see it.<br /><br />I was caught off guard with the high quality of the film. I couldn't image Ashton Kutcher in a serious role, but his performance truly exemplified his character. This movie is exceptional and deserves our monetary support, unlike so many other movies. It does not come lightly for me to recommend any movie, but in this case I highly recommend that everyone see it.<br /><br />This films is Truly Exceptional!\n",
      "Transformed review:\n",
      "This movie was sadly under-promoted but proved to be not truly exceptional . Entering the theatre I knew nothing about the film except that a friend wanted to see it. < br / > < br / > I was caught off guard with the high quality of the film . I could n't image Ashton Kutcher in a serious role , but his performance insincerely exemplified his character . This movie is exceptional and deserves our monetary support , unlike so many other movies . It does not come lightly for me to recommend any movie , but in this case I highly recommend that everyone see it. < br / > < br / > This films is Truly Exceptional !\n"
     ]
    }
   ],
   "source": [
    "i = 0\n",
    "for (filename, review, score) in imdb_sentiment_reader(dataset_type='val', sentiment='pos'):\n",
    "    if i != 4:\n",
    "        i +=1\n",
    "        continue\n",
    "    print \"Original review: \"\n",
    "    print review\n",
    "    print \"Transformed review:\" \n",
    "    transformed = greedy_transform_func(filename, review, score)\n",
    "    print transformed\n",
    "    break"
   ]
  },
  {
   "cell_type": "markdown",
   "metadata": {
    "collapsed": true
   },
   "source": [
    "# Rule-Based"
   ]
  },
  {
   "cell_type": "code",
   "execution_count": 80,
   "metadata": {
    "collapsed": false
   },
   "outputs": [],
   "source": [
    "def newWord(word):\n",
    "    ant = get_antonyms(word[0], word[1])\n",
    "    if len(ant) == 0:\n",
    "        return \"not \" + word[0]\n",
    "    else:\n",
    "        return ant[0]\n",
    "\n",
    "\n",
    "def rule_based_trans_func(filename, review, score):\n",
    "    sentiment_analyzer = SentimentIntensityAnalyzer()\n",
    "    tagged_review = nltk.pos_tag(word_tokenize(review))\n",
    "    transformed_review = []\n",
    "\n",
    "    \n",
    "    \n",
    "    i = 0\n",
    "    appended = False\n",
    "    \n",
    "    while i < (len(tagged_review) - 1):\n",
    "        word1 = tagged_review[i]\n",
    "        word2 = tagged_review[i+1]\n",
    "        \n",
    "        word1_sentiment = sentiment_analyzer.polarity_scores(word1[0])['compound']\n",
    "        word2_sentiment = sentiment_analyzer.polarity_scores(word2[0])['compound']\n",
    "        if (word1[1] in ['JJ', 'JJR', 'JJS', 'RB', 'RBR', 'RBS'] or word2[1] in ['JJ', 'JJR', 'JJS', 'RB', 'RBR', 'RBS']): #and (word1_sentiment*(score - 5) > 0 or word2_sentiment*(score - 5) > 0):\n",
    "\n",
    "            # (adverb, adj/adv) special case\n",
    "            if word1[1] in ['RB', 'RBR', 'RBS'] and word2[1] in ['JJ', 'JJR', 'JJS', 'RB', 'RBR', 'RBS']:\n",
    "                if word1_sentiment*(score - 5) > 0 and word2_sentiment*(score - 5) <= 0:\n",
    "                    word = newWord(word1)\n",
    "                    if not appended: transformed_review.append(word)\n",
    "                    transformed_review.append(word2[0])\n",
    "                elif word1_sentiment*(score - 5) <= 0 and word2_sentiment*(score - 5) > 0:\n",
    "                    word = newWord(word2)\n",
    "                    if not appended: transformed_review.append(word1[0])\n",
    "                    transformed_review.append(word)\n",
    "                else:\n",
    "                    w1 = newWord(word1)\n",
    "                    w2 = newWord(word2)\n",
    "                    if not appended: transformed_review.append(w1)\n",
    "                    transformed_review.append(w2)\n",
    "\n",
    "            # if not in front\n",
    "            elif word1[0].lower() == \"not\" or word1[0].lower() == \"never\":\n",
    "                transformed_review.append(word2[0])\n",
    "\n",
    "            # final special case \n",
    "            elif word1[0].lower() == \"but\" or word1[0].lower() == \"yet\":\n",
    "                word = newWord(word2)\n",
    "                if not appended: transformed_review.append(\"and\")\n",
    "                transformed_review.append(word)\n",
    "\n",
    "            else:\n",
    "                w1 = word1[0]\n",
    "                w2 = word2[0]\n",
    "                if word1_sentiment*(score - 5) > 0 and word1[1] in ['JJ', 'JJR', 'JJS', 'RB', 'RBR', 'RBS']:\n",
    "                    w1 = newWord(word1)\n",
    "                if word2_sentiment*(score - 5) > 0 and word2[1] in ['JJ', 'JJR', 'JJS', 'RB', 'RBR', 'RBS']:\n",
    "                    w2 = newWord(word2)\n",
    "                transformed_review.append(w1)\n",
    "                transformed_review.append(w2)\n",
    "\n",
    "\n",
    "            word3 = tagged_review[i+2]\n",
    "            word3_sentiment = sentiment_analyzer.polarity_scores(word3[0])['compound']\n",
    "\n",
    "            if word2[1] in ['RB', 'RBR', 'RBS'] and word3[1] in ['JJ', 'JJR', 'JJS'] and word1_sentiment*(score - 5) > 0:\n",
    "                i += 1\n",
    "                appended = True\n",
    "            else:\n",
    "                i += 2\n",
    "                appended = False\n",
    "\n",
    "                    \n",
    "        else:\n",
    "            transformed_review.append(word1[0])\n",
    "            transformed_review.append(word2[0])\n",
    "            i += 2\n",
    "            appended = False\n",
    "                \n",
    "                    \n",
    "    return \" \".join(transformed_review)\n",
    "                        \n",
    "                     \n",
    "    \n",
    "\n",
    " \n",
    "                            \n",
    "        \n",
    "        \n",
    "    "
   ]
  },
  {
   "cell_type": "code",
   "execution_count": 82,
   "metadata": {
    "collapsed": false
   },
   "outputs": [
    {
     "name": "stdout",
     "output_type": "stream",
     "text": [
      "Original review: \n",
      "I went and saw this movie last night after being coaxed to by a few friends of mine. I'll admit that I was reluctant to see it because from what I knew of Ashton Kutcher he was only able to do comedy. I was wrong. Kutcher played the character of Jake Fischer very well, and Kevin Costner played Ben Randall with such professionalism. The sign of a good movie is that it can toy with our emotions. This one did exactly that. The entire theater (which was sold out) was overcome by laughter during the first half of the movie, and were moved to tears during the second half. While exiting the theater I not only saw many women in tears, but many full grown men as well, trying desperately not to let anyone see them crying. This movie was great, and I suggest that you go see it before you judge.\n",
      "Transformed review:\n",
      "I went and saw this movie last night after being coaxed to by a few friends of mine . I 'll admit that I was reluctant to see it because from what I knew of Ashton Kutcher he was only able to do comedy . I was wrong . Kutcher played the character of Jake Fischer very badly , and Kevin Costner played Ben Randall with such professionalism . The sign of a bad movie is that it can toy with our emotions . This one did exactly that . The entire theater ( which was sold out ) was overcome by laughter during the first half of the movie , and were moved to tears during the second half . While exiting the theater I not not not only saw many women in tears , and few full grown men as badly , trying desperately to let anyone see them crying . This movie was not great , and I suggest that you go see it before you judge\n"
     ]
    }
   ],
   "source": [
    "i = 0\n",
    "for (filename, review, score) in imdb_sentiment_reader(dataset_type='val', sentiment='pos'):\n",
    "    if len(review) > 900 or i == 0:\n",
    "        i +=1\n",
    "        continue\n",
    "    print \"Original review: \"\n",
    "    print review\n",
    "    print \"Transformed review:\" \n",
    "    transformed = rule_based_trans_func(filename, review, score)\n",
    "    print transformed\n",
    "    break"
   ]
  },
  {
   "cell_type": "code",
   "execution_count": 76,
   "metadata": {
    "collapsed": false
   },
   "outputs": [
    {
     "data": {
      "text/plain": [
       "0.5859"
      ]
     },
     "execution_count": 76,
     "metadata": {},
     "output_type": "execute_result"
    }
   ],
   "source": [
    "sentiment_analyzer = SentimentIntensityAnalyzer()\n",
    "sentiment_analyzer.polarity_scores(\"Brilliant\")['compound']\n"
   ]
  },
  {
   "cell_type": "code",
   "execution_count": 72,
   "metadata": {
    "collapsed": false
   },
   "outputs": [
    {
     "name": "stdout",
     "output_type": "stream",
     "text": [
      "Brilliant and moving performances by Tom Courtenay and Peter Finch\n"
     ]
    }
   ],
   "source": [
    "print transformed"
   ]
  },
  {
   "cell_type": "code",
   "execution_count": null,
   "metadata": {
    "collapsed": true
   },
   "outputs": [],
   "source": []
  }
 ],
 "metadata": {
  "anaconda-cloud": {},
  "kernelspec": {
   "display_name": "Python [default]",
   "language": "python",
   "name": "python2"
  },
  "language_info": {
   "codemirror_mode": {
    "name": "ipython",
    "version": 2
   },
   "file_extension": ".py",
   "mimetype": "text/x-python",
   "name": "python",
   "nbconvert_exporter": "python",
   "pygments_lexer": "ipython2",
   "version": "2.7.12"
  }
 },
 "nbformat": 4,
 "nbformat_minor": 1
}
