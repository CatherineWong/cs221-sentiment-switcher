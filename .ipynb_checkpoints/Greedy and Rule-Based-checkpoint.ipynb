{
 "cells": [
  {
   "cell_type": "markdown",
   "metadata": {},
   "source": [
    "## Greedy Sentiment Transformation\n",
    "11/13/16 - Use a greedy switching method to exchange words based on best antonym.\n",
    "Uses the IMDB dataset folder (http://ai.stanford.edu/~amaas/data/sentiment/)."
   ]
  },
  {
   "cell_type": "code",
   "execution_count": 1,
   "metadata": {
    "collapsed": false
   },
   "outputs": [
    {
     "name": "stderr",
     "output_type": "stream",
     "text": [
      "/Users/Cathy/anaconda/lib/python2.7/site-packages/nltk/twitter/__init__.py:20: UserWarning: The twython library has not been installed. Some functionality from the twitter package will not be available.\n",
      "  warnings.warn(\"The twython library has not been installed. \"\n"
     ]
    }
   ],
   "source": [
    "from sentiment_utils import *\n",
    "import nltk\n",
    "from nltk.sentiment.vader import SentimentIntensityAnalyzer\n",
    "from nltk import word_tokenize\n",
    "from nltk.corpus import wordnet as wn"
   ]
  },
  {
   "cell_type": "code",
   "execution_count": 4,
   "metadata": {
    "collapsed": false
   },
   "outputs": [],
   "source": [
    "def greedy_transform_func(filename, review, score):\n",
    "    sentiment_analyzer = SentimentIntensityAnalyzer()\n",
    "    tagged_review = nltk.pos_tag(word_tokenize(review))\n",
    "    transformed_review = []\n",
    "    for tagged_word in tagged_review:\n",
    "        if tagged_word[1] in ['JJ', 'JJR', 'JJS', 'RB', 'RBR', 'RBS']:\n",
    "            #1) get sentiment of the tagged word\n",
    "            #2) if the sentiment of the tagged word is opposite of the review score\n",
    "            #3) -get the antonyms of tagged word\n",
    "            #4) -for each antonym, score sentiment, or pick random sentiment?\n",
    "            #5) -append antonym\n",
    "            word_sentiment = sentiment_analyzer.polarity_scores(tagged_word[0])['compound']\n",
    "            #print tagged_word[0], tagged_word[1], word_sentiment, score\n",
    "            if word_sentiment*(score - 5) > 0:\n",
    "                antonyms = get_antonyms(tagged_word[0], tagged_word[1])\n",
    "                if len(antonyms) == 0:\n",
    "                    transformed_review.append('not ' + tagged_word[0])\n",
    "                else: transformed_review.append(antonyms[0])\n",
    "            else: transformed_review.append(tagged_word[0])\n",
    "        else:\n",
    "            transformed_review.append(tagged_word[0])\n",
    "    return \" \".join(transformed_review)\n",
    "\n",
    "def get_antonyms(word, word_pos):\n",
    "    all_antonyms = []\n",
    "    pos_dict = {'JJ': wn.ADJ, 'JJR': wn.ADJ, 'JJS': wn.ADJ, 'RB': wn.ADV, 'RBR': wn.ADV, 'RBS': wn.ADV}\n",
    "    wn_pos = pos_dict[word_pos]\n",
    "    for syn in wn.synsets(word, pos = pos_dict[word_pos]):\n",
    "        for lemma in syn.lemmas():\n",
    "            if lemma.antonyms():\n",
    "                all_antonyms.append(lemma.antonyms()[0].name())\n",
    "    antonyms = list(set(all_antonyms))\n",
    "    return antonyms"
   ]
  },
  {
   "cell_type": "markdown",
   "metadata": {},
   "source": [
    "Greedy Test One Review"
   ]
  },
  {
   "cell_type": "code",
   "execution_count": 105,
   "metadata": {
    "collapsed": false
   },
   "outputs": [
    {
     "name": "stdout",
     "output_type": "stream",
     "text": [
      "Original review: \n",
      "Natile Portman and Susan Sarandon play off of each other like a symphony in this coming of age story about a young girl, who is sentenced to life as the daughter of one of the nuttest women you will ever encounter. Sarandon has this ability, call it talent if you will, to play some of the most off-beat characters and bring their humanity to forefront of any film she makes. As the mother of this obviously brilliant and muture beyond her years young girl, Sarandon alternates between being the mom and being the child with the ease of a ballet dancer. More importantly she does it with strength and flare without stomping all over Portman's portrayal of the daughter. The question is always asked when we deconstruct the film plot, who changes? This film is certainly about the daughter, but if you look close at the dreams and sacrifices that Mom makes you come to understand that she changes in step with her daughter. I am willing to bet this makes all of us in the audience change also. The hallmark of fine drama\n",
      "Transformed review:\n",
      "Natile Portman and Susan Sarandon play off of each other like a symphony in this coming of age story about a young girl , who is sentenced to life as the daughter of one of the nuttest women you will ever encounter . Sarandon has this ability , call it not talent if you will , to play some of the most off-beat characters and bring their humanity to forefront of any film she makes . As the mother of this obviously not brilliant and muture beyond her years young girl , Sarandon alternates between being the mom and being the child with the ease of a ballet dancer . More not importantly she does it with strength and flare without stomping all over Portman 's portrayal of the daughter . The question is always asked when we deconstruct the film plot , who changes ? This film is not certainly about the daughter , but if you look close at the dreams and sacrifices that Mom makes you come to understand that she changes in step with her daughter . I am willing to bet this makes all of us in the audience change also . The hallmark of coarse drama\n"
     ]
    }
   ],
   "source": [
    "i = 0\n",
    "for (filename, review, score) in imdb_sentiment_reader(dataset_type='val', sentiment='pos'):\n",
    "    if i != 551:\n",
    "        i +=1\n",
    "        continue\n",
    "    print \"Original review: \"\n",
    "    print review\n",
    "    print \"Transformed review:\" \n",
    "    transformed = greedy_transform_func(filename, review, score)\n",
    "    print transformed\n",
    "    break"
   ]
  },
  {
   "cell_type": "markdown",
   "metadata": {
    "collapsed": true
   },
   "source": [
    "# Rule-Based"
   ]
  },
  {
   "cell_type": "code",
   "execution_count": 2,
   "metadata": {
    "collapsed": false
   },
   "outputs": [],
   "source": [
    "def newWord(word):\n",
    "    ant = get_antonyms(word[0], word[1])\n",
    "    if len(ant) == 0:\n",
    "        return \"not \" + word[0]\n",
    "    else:\n",
    "        return ant[0]\n",
    "\n",
    "\n",
    "def rule_based_trans_func(filename, review, score):\n",
    "    sentiment_analyzer = SentimentIntensityAnalyzer()\n",
    "    tagged_review = nltk.pos_tag(word_tokenize(review))\n",
    "    transformed_review = []\n",
    "\n",
    "    \n",
    "    \n",
    "    i = 0\n",
    "    appended = False\n",
    "    \n",
    "    while i < (len(tagged_review) - 1):\n",
    "        word1 = tagged_review[i]\n",
    "        word2 = tagged_review[i+1]\n",
    "        \n",
    "        word1_sentiment = sentiment_analyzer.polarity_scores(word1[0])['compound']\n",
    "        word2_sentiment = sentiment_analyzer.polarity_scores(word2[0])['compound']\n",
    "        if (word1[1] in ['JJ', 'JJR', 'JJS', 'RB', 'RBR', 'RBS'] or word2[1] in ['JJ', 'JJR', 'JJS', 'RB', 'RBR', 'RBS'])and (word1_sentiment*(score - 5) > 0 or word2_sentiment*(score - 5) > 0):\n",
    "\n",
    "            # (adverb, adj/adv) special case\n",
    "            if word1[1] in ['RB', 'RBR', 'RBS'] and word2[1] in ['JJ', 'JJR', 'JJS', 'RB', 'RBR', 'RBS']:\n",
    "                if word1_sentiment*(score - 5) > 0 and word2_sentiment*(score - 5) <= 0:\n",
    "                    word = newWord(word1)\n",
    "                    if not appended: transformed_review.append(word)\n",
    "                    transformed_review.append(word2[0])\n",
    "                elif word1_sentiment*(score - 5) <= 0 and word2_sentiment*(score - 5) > 0:\n",
    "                    word = newWord(word2)\n",
    "                    if not appended: transformed_review.append(word1[0])\n",
    "                    transformed_review.append(word)\n",
    "                else:\n",
    "                    w1 = newWord(word1)\n",
    "                    w2 = newWord(word2)\n",
    "                    if not appended: transformed_review.append(w1)\n",
    "                    transformed_review.append(w2)\n",
    "\n",
    "            # if not in front\n",
    "            elif word1[0].lower() == \"not\" or word1[0].lower() == \"never\":\n",
    "                transformed_review.append(word2[0])\n",
    "\n",
    "            # final special case \n",
    "            elif word1[0].lower() == \"but\" or word1[0].lower() == \"yet\" and word2[1] in ['JJ', 'JJR', 'JJS', 'RB', 'RBR', 'RBS']:\n",
    "                word = newWord(word2)\n",
    "                if not appended: transformed_review.append(\"and\")\n",
    "                transformed_review.append(word)\n",
    "\n",
    "            else:\n",
    "                w1 = word1[0]\n",
    "                w2 = word2[0]\n",
    "                if word1_sentiment*(score - 5) > 0 and word1[1] in ['JJ', 'JJR', 'JJS', 'RB', 'RBR', 'RBS']:\n",
    "                    w1 = newWord(word1)\n",
    "                if word2_sentiment*(score - 5) > 0 and word2[1] in ['JJ', 'JJR', 'JJS', 'RB', 'RBR', 'RBS']:\n",
    "                    w2 = newWord(word2)\n",
    "                transformed_review.append(w1)\n",
    "                transformed_review.append(w2)\n",
    "\n",
    "            \n",
    "            if i != len(tagged_review) - 2:\n",
    "                word3 = tagged_review[i+2]\n",
    "                word3_sentiment = sentiment_analyzer.polarity_scores(word3[0])['compound']\n",
    "\n",
    "                if word2[1] in ['RB', 'RBR', 'RBS'] and word3[1] in ['JJ', 'JJR', 'JJS'] and word1_sentiment*(score - 5) > 0:\n",
    "                    i += 1\n",
    "                    appended = True\n",
    "                else:\n",
    "                    i += 2\n",
    "                    appended = False\n",
    "                    \n",
    "            else:\n",
    "                i += 2\n",
    "                appended = False\n",
    "\n",
    "                    \n",
    "        else:\n",
    "            transformed_review.append(word1[0])\n",
    "            transformed_review.append(word2[0])\n",
    "            i += 2\n",
    "            appended = False\n",
    "                \n",
    "                    \n",
    "    return \" \".join(transformed_review)\n",
    "                        \n",
    "                     \n",
    "    \n",
    "\n",
    " \n",
    "                            \n",
    "        \n",
    "        \n",
    "    "
   ]
  },
  {
   "cell_type": "code",
   "execution_count": 6,
   "metadata": {
    "collapsed": false
   },
   "outputs": [
    {
     "name": "stdout",
     "output_type": "stream",
     "text": [
      "Original review: \n",
      "My one-line summary hints that this is not a good film, but this is not true. I did enjoy the movie, but was probably expecting too much.<br /><br />Adele, who is solidly portrayed by Susan Sarandon, did not come off as a very likable character. She is flighty and irresponsible to what would be an unforgivable degree were it not for the tremendous love she has for her daughter. This is the one thing she knows how to do without fail. Adele's daughter, Anna, is a sad girl who is so busy making up for her mother's shortcomings that she does not seem to be only 14-17 years old. This, of course, makes Natalie Portman the perfect choice to play Anna since she never seems to be 14- 17 years old either. Portman pulls this role off with such ease that you almost forget that she has not been making movies for 20 years. Yet, even with the two solid leads, Wayne Wang never seems to quite draw the audience in as he did with The Joy Luck Luck and even more so with Smoke. Though I have not read the book, the film feels as if it has made necessary changes to the story to bring it to the big screen, changes which may drain the emotional pungency of the story. I enjoyed the film for the fun of watching two wonderful actresses do their work, but I never got lost in the experience and I never related to their plight.\n",
      "Transformed review:\n",
      "My one-line summary hints that this is not a bad film , but this is not false . I did enjoy the movie , but was probably expecting too much. < br / > < br / > Adele , who is solidly portrayed by Susan Sarandon , did not come off as a very likable character . She is flighty and irresponsible to what would be an unforgivable degree were it not for the tremendous love she has for her daughter . This is the one thing she knows how to do without fail . Adele 's daughter , Anna , is a sad girl who is so busy making up for her mother 's shortcomings that she does not seem to be only 14-17 years old . This , of course , makes Natalie Portman the imperfect choice to play Anna since she never seems to be 14- 17 years old either . Portman pulls this role off with such ease that you almost forget that she has not been making movies for 20 years . Yet , even with the two gaseous leads , Wayne Wang never seems to quite draw the audience in as he did with The Joy Luck Luck and even more so with Smoke . Though I have not read the book , the film feels as if it has made necessary changes to the story to bring it to the big screen , changes which may drain the cerebral pungency of the story . I enjoyed the film for the fun of watching two not wonderful actresses do their work , but I never got lost in the experience and I never related to their plight .\n"
     ]
    }
   ],
   "source": [
    "i = 0\n",
    "for (filename, review, score) in imdb_sentiment_reader(dataset_type='val', sentiment='pos'):\n",
    "    if i != 550:\n",
    "        i +=1\n",
    "        continue\n",
    "    print \"Original review: \"\n",
    "    print review\n",
    "    print \"Transformed review:\" \n",
    "    transformed = rule_based_trans_func(filename, review, score)\n",
    "    print transformed\n",
    "    break"
   ]
  },
  {
   "cell_type": "code",
   "execution_count": 76,
   "metadata": {
    "collapsed": false
   },
   "outputs": [
    {
     "data": {
      "text/plain": [
       "0.5859"
      ]
     },
     "execution_count": 76,
     "metadata": {},
     "output_type": "execute_result"
    }
   ],
   "source": [
    "sentiment_analyzer = SentimentIntensityAnalyzer()\n",
    "sentiment_analyzer.polarity_scores(\"Brilliant\")['compound']\n"
   ]
  },
  {
   "cell_type": "code",
   "execution_count": 72,
   "metadata": {
    "collapsed": false
   },
   "outputs": [
    {
     "name": "stdout",
     "output_type": "stream",
     "text": [
      "Brilliant and moving performances by Tom Courtenay and Peter Finch\n"
     ]
    }
   ],
   "source": [
    "print transformed"
   ]
  },
  {
   "cell_type": "code",
   "execution_count": 7,
   "metadata": {
    "collapsed": false
   },
   "outputs": [
    {
     "name": "stdout",
     "output_type": "stream",
     "text": [
      "Building positive bigram list...\n",
      "Now on: 0\n",
      "Now on: 1000\n",
      "Now on: 2000\n",
      "Now on: 3000\n",
      "Now on: 4000\n",
      "Now on: 5000\n",
      "Now on: 6000\n",
      "Now on: 7000\n",
      "Now on: 8000\n",
      "Now on: 9000\n",
      "Now on: 10000\n",
      "Now on: 11000\n",
      "Now on: 12000\n",
      "Building negative bigram list...\n",
      "Now on: 0\n",
      "Now on: 1000\n",
      "Now on: 2000\n",
      "Now on: 3000\n",
      "Now on: 4000\n",
      "Now on: 5000\n",
      "Now on: 6000\n",
      "Now on: 7000\n",
      "Now on: 8000\n",
      "Now on: 9000\n",
      "Now on: 10000\n",
      "Now on: 11000\n",
      "Now on: 12000\n",
      "Now evaluating: 0\n",
      "Current mean score: nan\n"
     ]
    },
    {
     "name": "stderr",
     "output_type": "stream",
     "text": [
      "/Users/Cathy/anaconda/lib/python2.7/site-packages/numpy/core/_methods.py:59: RuntimeWarning: Mean of empty slice.\n",
      "  warnings.warn(\"Mean of empty slice.\", RuntimeWarning)\n",
      "/Users/Cathy/anaconda/lib/python2.7/site-packages/numpy/core/_methods.py:70: RuntimeWarning: invalid value encountered in double_scalars\n",
      "  ret = ret.dtype.type(ret / rcount)\n"
     ]
    },
    {
     "ename": "IndexError",
     "evalue": "list index out of range",
     "output_type": "error",
     "traceback": [
      "\u001b[0;31m---------------------------------------------------------------------------\u001b[0m",
      "\u001b[0;31mIndexError\u001b[0m                                Traceback (most recent call last)",
      "\u001b[0;32m<ipython-input-7-55b9002756e3>\u001b[0m in \u001b[0;36m<module>\u001b[0;34m()\u001b[0m\n\u001b[1;32m      4\u001b[0m baseline_runner = ExperimentRunner(train_reader, test_reader, rule_based_trans_func, \n\u001b[1;32m      5\u001b[0m                                evaluator=default_evaluator, verbose=True)\n\u001b[0;32m----> 6\u001b[0;31m \u001b[0mbaseline_runner\u001b[0m\u001b[0;34m.\u001b[0m\u001b[0mrun_experiment\u001b[0m\u001b[0;34m(\u001b[0m\u001b[0;34m)\u001b[0m\u001b[0;34m\u001b[0m\u001b[0m\n\u001b[0m",
      "\u001b[0;32m/Users/Cathy/Desktop/Cathy/2016-2017 Senior Year/CS221/cs221-project/sentiment_utils.pyc\u001b[0m in \u001b[0;36mrun_experiment\u001b[0;34m(self)\u001b[0m\n\u001b[1;32m    243\u001b[0m                 \u001b[0;32mprint\u001b[0m \u001b[0;34m\"Current mean score: \"\u001b[0m \u001b[0;34m+\u001b[0m \u001b[0mstr\u001b[0m\u001b[0;34m(\u001b[0m\u001b[0mnp\u001b[0m\u001b[0;34m.\u001b[0m\u001b[0mmean\u001b[0m\u001b[0;34m(\u001b[0m\u001b[0mself\u001b[0m\u001b[0;34m.\u001b[0m\u001b[0mscores\u001b[0m\u001b[0;34m)\u001b[0m\u001b[0;34m)\u001b[0m\u001b[0;34m\u001b[0m\u001b[0m\n\u001b[1;32m    244\u001b[0m             \u001b[0;31m# Transform the review\u001b[0m\u001b[0;34m\u001b[0m\u001b[0;34m\u001b[0m\u001b[0m\n\u001b[0;32m--> 245\u001b[0;31m             \u001b[0mtransformed_review\u001b[0m \u001b[0;34m=\u001b[0m \u001b[0mself\u001b[0m\u001b[0;34m.\u001b[0m\u001b[0mtransform_func\u001b[0m\u001b[0;34m(\u001b[0m\u001b[0mfilename\u001b[0m\u001b[0;34m,\u001b[0m \u001b[0mreview\u001b[0m\u001b[0;34m,\u001b[0m \u001b[0msent_score\u001b[0m\u001b[0;34m)\u001b[0m\u001b[0;34m\u001b[0m\u001b[0m\n\u001b[0m\u001b[1;32m    246\u001b[0m             \u001b[0;31m# Evaluate the transformed review\u001b[0m\u001b[0;34m\u001b[0m\u001b[0;34m\u001b[0m\u001b[0m\n\u001b[1;32m    247\u001b[0m             \u001b[0mnew_score\u001b[0m \u001b[0;34m=\u001b[0m \u001b[0mself\u001b[0m\u001b[0;34m.\u001b[0m\u001b[0meval_func\u001b[0m\u001b[0;34m(\u001b[0m\u001b[0mfilename\u001b[0m\u001b[0;34m,\u001b[0m \u001b[0mreview\u001b[0m\u001b[0;34m,\u001b[0m \u001b[0mtransformed_review\u001b[0m\u001b[0;34m,\u001b[0m \u001b[0msent_score\u001b[0m\u001b[0;34m)\u001b[0m\u001b[0;34m\u001b[0m\u001b[0m\n",
      "\u001b[0;32m<ipython-input-2-825397a34afe>\u001b[0m in \u001b[0;36mrule_based_trans_func\u001b[0;34m(filename, review, score)\u001b[0m\n\u001b[1;32m     62\u001b[0m \u001b[0;34m\u001b[0m\u001b[0m\n\u001b[1;32m     63\u001b[0m \u001b[0;34m\u001b[0m\u001b[0m\n\u001b[0;32m---> 64\u001b[0;31m             \u001b[0mword3\u001b[0m \u001b[0;34m=\u001b[0m \u001b[0mtagged_review\u001b[0m\u001b[0;34m[\u001b[0m\u001b[0mi\u001b[0m\u001b[0;34m+\u001b[0m\u001b[0;36m2\u001b[0m\u001b[0;34m]\u001b[0m\u001b[0;34m\u001b[0m\u001b[0m\n\u001b[0m\u001b[1;32m     65\u001b[0m             \u001b[0mword3_sentiment\u001b[0m \u001b[0;34m=\u001b[0m \u001b[0msentiment_analyzer\u001b[0m\u001b[0;34m.\u001b[0m\u001b[0mpolarity_scores\u001b[0m\u001b[0;34m(\u001b[0m\u001b[0mword3\u001b[0m\u001b[0;34m[\u001b[0m\u001b[0;36m0\u001b[0m\u001b[0;34m]\u001b[0m\u001b[0;34m)\u001b[0m\u001b[0;34m[\u001b[0m\u001b[0;34m'compound'\u001b[0m\u001b[0;34m]\u001b[0m\u001b[0;34m\u001b[0m\u001b[0m\n\u001b[1;32m     66\u001b[0m \u001b[0;34m\u001b[0m\u001b[0m\n",
      "\u001b[0;31mIndexError\u001b[0m: list index out of range"
     ]
    }
   ],
   "source": [
    "train_reader = imdb_sentiment_reader(dataset_type='train', sentiment='both')\n",
    "test_reader = imdb_sentiment_reader(dataset_type='val', sentiment='both')\n",
    "default_evaluator = DefaultEvaluator(verbose=True)\n",
    "baseline_runner = ExperimentRunner(train_reader, test_reader, rule_based_trans_func, \n",
    "                               evaluator=default_evaluator, verbose=True)\n",
    "baseline_runner.run_experiment()"
   ]
  },
  {
   "cell_type": "code",
   "execution_count": null,
   "metadata": {
    "collapsed": true
   },
   "outputs": [],
   "source": []
  }
 ],
 "metadata": {
  "anaconda-cloud": {},
  "kernelspec": {
   "display_name": "Python 2",
   "language": "python",
   "name": "python2"
  },
  "language_info": {
   "codemirror_mode": {
    "name": "ipython",
    "version": 2
   },
   "file_extension": ".py",
   "mimetype": "text/x-python",
   "name": "python",
   "nbconvert_exporter": "python",
   "pygments_lexer": "ipython2",
   "version": "2.7.11"
  }
 },
 "nbformat": 4,
 "nbformat_minor": 1
}
