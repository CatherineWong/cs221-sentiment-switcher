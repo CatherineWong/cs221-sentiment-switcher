{
 "cells": [
  {
   "cell_type": "markdown",
   "metadata": {},
   "source": [
    "## Sentiment Experiment Runner Template\n",
    "10/23/16 - Basic pipeline to run sentiment experiments on the IMDB movie review corpus.\n",
    "Uses the IMDB dataset folder (http://ai.stanford.edu/~amaas/data/sentiment/)."
   ]
  },
  {
   "cell_type": "code",
   "execution_count": 2,
   "metadata": {
    "collapsed": false
   },
   "outputs": [
    {
     "name": "stderr",
     "output_type": "stream",
     "text": [
      "/Users/Cathy/anaconda/lib/python2.7/site-packages/nltk/twitter/__init__.py:20: UserWarning: The twython library has not been installed. Some functionality from the twitter package will not be available.\n",
      "  warnings.warn(\"The twython library has not been installed. \"\n"
     ]
    }
   ],
   "source": [
    "import os\n",
    "import math\n",
    "import numpy as np\n",
    "import nltk\n",
    "from nltk import word_tokenize\n",
    "from nltk.sentiment.vader import SentimentIntensityAnalyzer\n",
    "from collections import Counter\n",
    "imdb_folder_location = \"../aclImdb\" # Change this to wherever your imbd folder is located"
   ]
  },
  {
   "cell_type": "code",
   "execution_count": 3,
   "metadata": {
    "collapsed": false
   },
   "outputs": [
    {
     "name": "stdout",
     "output_type": "stream",
     "text": [
      "2500_8.txt This movie was a sicky sweet cutesy romantic comedy, just the kind of movie I usually dislike but this one was just cute enough to keep me interested. It was really funny in one moment (probably why I liked it) and then just as serious in the next. Plus, it had Ellen in it and I've always had a soft spot for her.<br /><br />Basically, the owner of a book store, Helen (Kate Capshaw) finds a love letter in one of the old couches in her store. She thinks it is for her and goes crazy trying to figure out who sent it. She has kind of shut herself off from the world, so it really throws her for a loop. Eventually, almost everyone connected with her finds this letter and they are all getting mixed signals which creates some really funny moments.<br /><br />Like I said, I am usually not one for this type of movie but I really wound up enjoying it and recommend it highly. 8\n"
     ]
    }
   ],
   "source": [
    "def imdb_sentiment_reader(dataset_type='train', sentiment='both', folder_location=imdb_folder_location):\n",
    "    \"\"\"\n",
    "    Iterator over the imdb dataset.\n",
    "    Args:\n",
    "        is_train: ['train', 'val', 'test] - whether to iterate over the train, val, or test sets.\n",
    "        sentiment: ['pos', 'neg', 'both']: whether to iterate over just the positive, just the\n",
    "                   negative, or both.\n",
    "    Returns: Iterator over (filename, movie_review, sentiment_score) tuples. \n",
    "    \"\"\"\n",
    "    subfolder = 'train' if dataset_type=='train' else 'test'\n",
    "    dataset_path = os.path.join(folder_location, subfolder)\n",
    "    if sentiment=='pos' or sentiment=='both':\n",
    "        # Sort by the index\n",
    "        filenames = sorted(os.listdir(os.path.join(dataset_path, 'pos')), \n",
    "                                key=lambda filename: int(filename.split('_')[0]))\n",
    "        # Take a slice if these are for val/test\n",
    "        if dataset_type == 'val' or dataset_type == 'test':\n",
    "            cutoff = int(math.ceil(len(filenames) * .2))\n",
    "            if dataset_type == 'val':\n",
    "                filenames = filenames[:cutoff]\n",
    "            else:\n",
    "                filenames = filenames[cutoff:]\n",
    "        for filename in filenames:\n",
    "            sentiment_score = int(filename.split('_')[1].split('.')[0])\n",
    "            with open(os.path.join(dataset_path, 'pos', filename)) as f:\n",
    "                review = f.read()\n",
    "            yield filename, review.decode('utf-8'), sentiment_score\n",
    "    if sentiment=='neg' or sentiment=='both':\n",
    "        # Sort by the index \n",
    "        filenames = sorted(os.listdir(os.path.join(dataset_path, 'neg')), \n",
    "                                key=lambda filename: int(filename.split('_')[0]))\n",
    "         # Take a slice if these are for val/test\n",
    "        if dataset_type == 'val' or dataset_type == 'test':\n",
    "            cutoff = int(math.ceil(len(filenames) * .2))\n",
    "            if dataset_type == 'val':\n",
    "                filenames = filenames[:cutoff]\n",
    "            else:\n",
    "                filenames = filenames[cutoff:]\n",
    "        for filename in filenames:\n",
    "            sentiment_score = int(filename.split('_')[1].split('.')[0])\n",
    "            with open(os.path.join(dataset_path, 'neg', filename)) as f:\n",
    "                review = f.read()\n",
    "            yield filename, review.decode('utf-8'), sentiment_score\n",
    "    \n",
    "# ExampleUsage\n",
    "for filename, review, score in imdb_sentiment_reader(dataset_type='test', sentiment='both'):\n",
    "    print filename, review, score\n",
    "    break"
   ]
  },
  {
   "cell_type": "code",
   "execution_count": 7,
   "metadata": {
    "collapsed": false
   },
   "outputs": [
    {
     "name": "stdout",
     "output_type": "stream",
     "text": [
      "Building positive bigram list...\n",
      "Now on: 0\n",
      "Now on: 1000\n",
      "Now on: 2000\n",
      "Now on: 3000\n",
      "Now on: 4000\n",
      "Now on: 5000\n",
      "Now on: 6000\n",
      "Now on: 7000\n",
      "Now on: 8000\n",
      "Now on: 9000\n",
      "Now on: 10000\n",
      "Now on: 11000\n",
      "Now on: 12000\n",
      "Building negative bigram list...\n",
      "Now on: 0\n",
      "Now on: 1000\n",
      "Now on: 2000\n",
      "Now on: 3000\n",
      "Now on: 4000\n",
      "Now on: 5000\n",
      "Now on: 6000\n",
      "Now on: 7000\n",
      "Now on: 8000\n",
      "Now on: 9000\n",
      "Now on: 10000\n",
      "Now on: 11000\n",
      "Now on: 12000\n",
      "[(u'I', 'PRP'), (u'went', 'VBD'), (u'and', 'CC'), (u'saw', 'VBD'), (u'this', 'DT'), (u'movie', 'NN'), (u'last', 'JJ'), (u'night', 'NN'), (u'after', 'IN'), (u'being', 'VBG'), (u'coaxed', 'VBN'), (u'to', 'TO'), (u'by', 'IN'), (u'a', 'DT'), (u'few', 'JJ'), (u'friends', 'NNS'), (u'of', 'IN'), (u'mine', 'NN'), (u'.', '.'), (u'I', 'PRP'), (u\"'ll\", 'MD'), (u'admit', 'VB'), (u'that', 'IN'), (u'I', 'PRP'), (u'was', 'VBD'), (u'reluctant', 'JJ'), (u'to', 'TO'), (u'see', 'VB'), (u'it', 'PRP'), (u'because', 'IN'), (u'from', 'IN'), (u'what', 'WP'), (u'I', 'PRP'), (u'knew', 'VBD'), (u'of', 'IN'), (u'Ashton', 'NNP'), (u'Kutcher', 'NNP'), (u'he', 'PRP'), (u'was', 'VBD'), (u'only', 'RB'), (u'able', 'JJ'), (u'to', 'TO'), (u'do', 'VB'), (u'comedy', 'NN'), (u'.', '.'), (u'I', 'PRP'), (u'was', 'VBD'), (u'wrong', 'JJ'), (u'.', '.'), (u'Kutcher', 'NNP'), (u'played', 'VBD'), (u'the', 'DT'), (u'character', 'NN'), (u'of', 'IN'), (u'Jake', 'NNP'), (u'Fischer', 'NNP'), (u'very', 'RB'), (u'well', 'RB'), (u',', ','), (u'and', 'CC'), (u'Kevin', 'NNP'), (u'Costner', 'NNP'), (u'played', 'VBD'), (u'Ben', 'NNP'), (u'Randall', 'NNP'), (u'with', 'IN'), (u'such', 'JJ'), (u'professionalism', 'NN'), (u'.', '.'), (u'The', 'DT'), (u'sign', 'NN'), (u'of', 'IN'), (u'a', 'DT'), (u'good', 'JJ'), (u'movie', 'NN'), (u'is', 'VBZ'), (u'that', 'IN'), (u'it', 'PRP'), (u'can', 'MD'), (u'toy', 'VB'), (u'with', 'IN'), (u'our', 'PRP$'), (u'emotions', 'NNS'), (u'.', '.'), (u'This', 'DT'), (u'one', 'CD'), (u'did', 'VBD'), (u'exactly', 'RB'), (u'that', 'IN'), (u'.', '.'), (u'The', 'DT'), (u'entire', 'JJ'), (u'theater', 'NN'), (u'(', '('), (u'which', 'WDT'), (u'was', 'VBD'), (u'sold', 'VBN'), (u'out', 'RP'), (u')', ')'), (u'was', 'VBD'), (u'overcome', 'VBN'), (u'by', 'IN'), (u'laughter', 'NN'), (u'during', 'IN'), (u'the', 'DT'), (u'first', 'JJ'), (u'half', 'NN'), (u'of', 'IN'), (u'the', 'DT'), (u'movie', 'NN'), (u',', ','), (u'and', 'CC'), (u'were', 'VBD'), (u'moved', 'VBN'), (u'to', 'TO'), (u'tears', 'NNS'), (u'during', 'IN'), (u'the', 'DT'), (u'second', 'JJ'), (u'half', 'NN'), (u'.', '.'), (u'While', 'IN'), (u'exiting', 'VBG'), (u'the', 'DT'), (u'theater', 'NN'), (u'I', 'PRP'), (u'not', 'RB'), (u'only', 'RB'), (u'saw', 'VBD'), (u'many', 'JJ'), (u'women', 'NNS'), (u'in', 'IN'), (u'tears', 'NNS'), (u',', ','), (u'but', 'CC'), (u'many', 'JJ'), (u'full', 'JJ'), (u'grown', 'VBN'), (u'men', 'NNS'), (u'as', 'IN'), (u'well', 'RB'), (u',', ','), (u'trying', 'VBG'), (u'desperately', 'RB'), (u'not', 'RB'), (u'to', 'TO'), (u'let', 'VB'), (u'anyone', 'NN'), (u'see', 'VB'), (u'them', 'PRP'), (u'crying', 'VBG'), (u'.', '.'), (u'This', 'DT'), (u'movie', 'NN'), (u'was', 'VBD'), (u'great', 'JJ'), (u',', ','), (u'and', 'CC'), (u'I', 'PRP'), (u'suggest', 'VBP'), (u'that', 'IN'), (u'you', 'PRP'), (u'go', 'VBP'), (u'see', 'VB'), (u'it', 'PRP'), (u'before', 'IN'), (u'you', 'PRP'), (u'judge', 'VBP'), (u'.', '.')]\n",
      "I went and saw this movie last night after being coaxed to by a few friends of mine. I'll admit that I was reluctant to see it because from what I knew of Ashton Kutcher he was only able to do comedy. I was wrong. Kutcher played the character of Jake Fischer very well, and Kevin Costner played Ben Randall with such professionalism. The sign of a good movie is that it can toy with our emotions. This one did exactly that. The entire theater (which was sold out) was overcome by laughter during the first half of the movie, and were moved to tears during the second half. While exiting the theater I not only saw many women in tears, but many full grown men as well, trying desperately not to let anyone see them crying. This movie was great, and I suggest that you go see it before you judge.\n",
      "I went and saw this movie not last night after being coaxed to by a not few friends of mine . I 'll admit that I was not reluctant to see it because from what I knew of Ashton Kutcher he was not only not able to do comedy . I was not wrong . Kutcher played the character of Jake Fischer not very not well , and Kevin Costner played Ben Randall with not such professionalism . The sign of a not good movie is that it can toy with our emotions . This one did not exactly that . The not entire theater ( which was sold out ) was overcome by laughter during the not first half of the movie , and were moved to tears during the not second half . While exiting the theater I not not not only saw not many women in tears , but not many not full grown men as not well , trying not desperately not not to let anyone see them crying . This movie was not great , and I suggest that you go see it before you judge .\n",
      "Evaluation score: 0.698671125109\n",
      "[(u'My', 'PRP$'), (u'boyfriend', 'NN'), (u'and', 'CC'), (u'I', 'PRP'), (u'went', 'VBD'), (u'to', 'TO'), (u'watch', 'VB'), (u'The', 'DT'), (u'Guardian.At', 'NNP'), (u'first', 'JJ'), (u'I', 'PRP'), (u'did', 'VBD'), (u\"n't\", 'RB'), (u'want', 'VB'), (u'to', 'TO'), (u'watch', 'VB'), (u'it', 'PRP'), (u',', ','), (u'but', 'CC'), (u'I', 'PRP'), (u'loved', 'VBD'), (u'the', 'DT'), (u'movie-', 'NN'), (u'It', 'PRP'), (u'was', 'VBD'), (u'definitely', 'RB'), (u'the', 'DT'), (u'best', 'JJS'), (u'movie', 'NN'), (u'I', 'PRP'), (u'have', 'VBP'), (u'seen', 'VBN'), (u'in', 'IN'), (u'sometime.They', 'JJ'), (u'portrayed', 'VBD'), (u'the', 'DT'), (u'USCG', 'NNP'), (u'very', 'RB'), (u'well', 'RB'), (u',', ','), (u'it', 'PRP'), (u'really', 'RB'), (u'showed', 'VBD'), (u'me', 'PRP'), (u'what', 'WP'), (u'they', 'PRP'), (u'do', 'VBP'), (u'and', 'CC'), (u'I', 'PRP'), (u'think', 'VBP'), (u'they', 'PRP'), (u'should', 'MD'), (u'really', 'RB'), (u'be', 'VB'), (u'appreciated', 'VBN'), (u'more.Not', 'RBS'), (u'only', 'RB'), (u'did', 'VBD'), (u'it', 'PRP'), (u'teach', 'VB'), (u'but', 'CC'), (u'it', 'PRP'), (u'was', 'VBD'), (u'a', 'DT'), (u'really', 'RB'), (u'good', 'JJ'), (u'movie', 'NN'), (u'.', '.'), (u'The', 'DT'), (u'movie', 'NN'), (u'shows', 'VBZ'), (u'what', 'WP'), (u'the', 'DT'), (u'really', 'RB'), (u'do', 'VBP'), (u'and', 'CC'), (u'how', 'WRB'), (u'hard', 'JJ'), (u'the', 'DT'), (u'job', 'NN'), (u'is.I', 'JJ'), (u'think', 'VBP'), (u'being', 'VBG'), (u'a', 'DT'), (u'USCG', 'NNP'), (u'would', 'MD'), (u'be', 'VB'), (u'challenging', 'VBG'), (u'and', 'CC'), (u'very', 'RB'), (u'scary', 'JJ'), (u'.', '.'), (u'It', 'PRP'), (u'was', 'VBD'), (u'a', 'DT'), (u'great', 'JJ'), (u'movie', 'NN'), (u'all', 'DT'), (u'around', 'IN'), (u'.', '.'), (u'I', 'PRP'), (u'would', 'MD'), (u'suggest', 'VB'), (u'this', 'DT'), (u'movie', 'NN'), (u'for', 'IN'), (u'anyone', 'NN'), (u'to', 'TO'), (u'see.The', 'VB'), (u'ending', 'VBG'), (u'broke', 'IN'), (u'my', 'PRP$'), (u'heart', 'NN'), (u'but', 'CC'), (u'I', 'PRP'), (u'know', 'VBP'), (u'why', 'WRB'), (u'he', 'PRP'), (u'did', 'VBD'), (u'it', 'PRP'), (u'.', '.'), (u'The', 'DT'), (u'storyline', 'NN'), (u'was', 'VBD'), (u'great', 'JJ'), (u'I', 'PRP'), (u'give', 'VBP'), (u'it', 'PRP'), (u'2', 'CD'), (u'thumbs', 'VBZ'), (u'up', 'IN'), (u'.', '.'), (u'I', 'PRP'), (u'cried', 'VBD'), (u'it', 'PRP'), (u'was', 'VBD'), (u'very', 'RB'), (u'emotional', 'JJ'), (u',', ','), (u'I', 'PRP'), (u'would', 'MD'), (u'give', 'VB'), (u'it', 'PRP'), (u'a', 'DT'), (u'20', 'CD'), (u'if', 'IN'), (u'I', 'PRP'), (u'could', 'MD'), (u'!', '.')]\n",
      "My boyfriend and I went to watch The Guardian.At first I didn't want to watch it, but I loved the movie- It was definitely the best movie I have seen in sometime.They portrayed the USCG very well, it really showed me what they do and I think they should really be appreciated more.Not only did it teach but it was a really good movie. The movie shows what the really do and how hard the job is.I think being a USCG would be challenging and very scary. It was a great movie all around. I would suggest this movie for anyone to see.The ending broke my heart but I know why he did it. The storyline was great I give it 2 thumbs up. I cried it was very emotional, I would give it a 20 if I could!\n",
      "My boyfriend and I went to watch The Guardian.At not first I did not n't want to watch it , but I loved the movie- It was not definitely the not best movie I have seen in not sometime.They portrayed the USCG not very not well , it not really showed me what they do and I think they should not really be appreciated not more.Not not only did it teach but it was a not really not good movie . The movie shows what the not really do and how not hard the job not is.I think being a USCG would be challenging and not very not scary . It was a not great movie all around . I would suggest this movie for anyone to see.The ending broke my heart but I know why he did it . The storyline was not great I give it 2 thumbs up . I cried it was not very not emotional , I would give it a 20 if I could !\n",
      "Evaluation score: 0.77131244582\n",
      "[(u'My', 'PRP$'), (u'yardstick', 'NN'), (u'for', 'IN'), (u'measuring', 'VBG'), (u'a', 'DT'), (u'movie', 'NN'), (u\"'s\", 'POS'), (u'watch-ability', 'NN'), (u'is', 'VBZ'), (u'if', 'IN'), (u'I', 'PRP'), (u'get', 'VBP'), (u'squirmy', 'RB'), (u'.', '.'), (u'If', 'IN'), (u'I', 'PRP'), (u'start', 'VBP'), (u'shifting', 'VBG'), (u'positions', 'NNS'), (u'and', 'CC'), (u'noticing', 'VBG'), (u'my', 'PRP$'), (u'butt', 'NN'), (u'is', 'VBZ'), (u'sore', 'RB'), (u',', ','), (u'the', 'DT'), (u'film', 'NN'), (u'is', 'VBZ'), (u'too', 'RB'), (u'long', 'RB'), (u'.', '.'), (u'This', 'DT'), (u'movie', 'NN'), (u'did', 'VBD'), (u'not', 'RB'), (u'even', 'RB'), (u'come', 'VBP'), (u'close', 'RB'), (u'to', 'TO'), (u'being', 'VBG'), (u'boring', 'JJ'), (u'.', '.'), (u'Predictable', 'JJ'), (u'in', 'IN'), (u'some', 'DT'), (u'parts', 'NNS'), (u'sure', 'JJ'), (u',', ','), (u'but', 'CC'), (u'never', 'RB'), (u'boring.', 'VBD'), (u'<', 'NNP'), (u'br', 'NN'), (u'/', 'NNP'), (u'>', 'NNP'), (u'<', 'NNP'), (u'br', 'NN'), (u'/', 'NNP'), (u'>', 'NNP'), (u'All', 'NNP'), (u'of', 'IN'), (u'the', 'DT'), (u'other', 'JJ'), (u'military', 'JJ'), (u'branches', 'NNS'), (u'have', 'VBP'), (u'had', 'VBN'), (u'love', 'VBN'), (u'notes', 'NNS'), (u'written', 'VBN'), (u'about', 'IN'), (u'them', 'PRP'), (u'and', 'CC'), (u'seen', 'VBN'), (u'their', 'PRP$'), (u'recruitment', 'NN'), (u'levels', 'NNS'), (u'go', 'VBP'), (u'up', 'RB'), (u',', ','), (u'why', 'WRB'), (u'not', 'RB'), (u'the', 'DT'), (u'Coast', 'NNP'), (u'Guard', 'NNP'), (u'too', 'RB'), (u'?', '.'), (u'They', 'PRP'), (u'are', 'VBP'), (u'definitely', 'RB'), (u'under-appreciated', 'JJ'), (u',', ','), (u'until', 'IN'), (u'the', 'DT'), (u'day', 'NN'), (u'your', 'PRP$'), (u'boat', 'NN'), (u'sinks', 'NNS'), (u'that', 'WDT'), (u'is.', 'VBP'), (u'<', 'JJ'), (u'br', 'NN'), (u'/', 'NNP'), (u'>', 'NNP'), (u'<', 'NNP'), (u'br', 'NN'), (u'/', 'NNP'), (u'>', 'VBZ'), (u'The', 'DT'), (u'movie', 'NN'), (u'was', 'VBD'), (u'very', 'RB'), (u'enjoyable', 'JJ'), (u'and', 'CC'), (u'fun', 'NN'), (u'.', '.'), (u'Kevin', 'NNP'), (u'Costner', 'NNP'), (u'is', 'VBZ'), (u'perfect', 'JJ'), (u'as', 'IN'), (u'the', 'DT'), (u'aging', 'VBG'), (u'macho', 'JJ'), (u'man', 'NN'), (u'who', 'WP'), (u'does', 'VBZ'), (u\"n't\", 'RB'), (u'know', 'VB'), (u'when', 'WRB'), (u'to', 'TO'), (u'quit', 'VB'), (u'.', '.'), (u'However', 'RB'), (u',', ','), (u'I', 'PRP'), (u'was', 'VBD'), (u'most', 'RBS'), (u'impressed', 'JJ'), (u'by', 'IN'), (u'Ashton', 'NNP'), (u'Kutcher', 'NNP'), (u\"'s\", 'POS'), (u'performance', 'NN'), (u'.', '.'), (u'I', 'PRP'), (u'have', 'VBP'), (u'never', 'RB'), (u'liked', 'VBN'), (u'him', 'PRP'), (u',', ','), (u'never', 'RB'), (u'watched', 'VBD'), (u'any', 'DT'), (u'of', 'IN'), (u'his', 'PRP$'), (u'TV', 'NN'), (u'shows', 'NNS'), (u'and', 'CC'), (u'always', 'RB'), (u'considered', 'VBD'), (u'him', 'PRP'), (u'an', 'DT'), (u'immature', 'NN'), (u'...', ':'), (u'well', 'RB'), (u',', ','), (u'punk', 'NN'), (u'.', '.'), (u'In', 'IN'), (u'this', 'DT'), (u'film', 'NN'), (u',', ','), (u'he', 'PRP'), (u'does', 'VBZ'), (u'a', 'DT'), (u'great', 'JJ'), (u'job', 'NN'), (u'!', '.'), (u'He', 'PRP'), (u'is', 'VBZ'), (u'well', 'RB'), (u'on', 'IN'), (u'his', 'PRP$'), (u'way', 'NN'), (u'to', 'TO'), (u'having', 'VBG'), (u'leading-man', 'JJ'), (u'status', 'NN'), (u'.', '.'), (u'I', 'PRP'), (u'think', 'VBP'), (u'the', 'DT'), (u'film', 'NN'), (u'we', 'PRP'), (u'were', 'VBD'), (u'shown', 'VBN'), (u'must', 'MD'), (u'have', 'VB'), (u'been', 'VBN'), (u'an', 'DT'), (u'advance', 'NN'), (u'rough', 'JJ'), (u'cut', 'NN'), (u'or', 'CC'), (u'something', 'NN'), (u',', ','), (u'because', 'IN'), (u'about', 'IN'), (u'2/3', 'CD'), (u'of', 'IN'), (u'the', 'DT'), (u'way', 'NN'), (u'in', 'IN'), (u',', ','), (u'the', 'DT'), (u'film', 'NN'), (u'stock', 'NN'), (u'turned', 'VBD'), (u'very', 'RB'), (u'grainy', 'JJ'), (u',', ','), (u'the', 'DT'), (u'sound', 'JJ'), (u'level', 'NN'), (u'dropped', 'VBD'), (u'and', 'CC'), (u'microphones', 'NNS'), (u'were', 'VBD'), (u'seen', 'VBN'), (u'dropping', 'VBG'), (u'down', 'RP'), (u'all', 'DT'), (u'over', 'IN'), (u'the', 'DT'), (u'place', 'NN'), (u'.', '.'), (u'Also', 'RB'), (u'at', 'IN'), (u'the', 'DT'), (u'viewing', 'NN'), (u'were', 'VBD'), (u'representatives', 'NNS'), (u'from', 'IN'), (u'the', 'DT'), (u'movie', 'NN'), (u',', ','), (u'looking', 'VBG'), (u'for', 'IN'), (u'audience', 'NN'), (u'feedback', 'NN'), (u'-', ':'), (u'particularly', 'RB'), (u'on', 'IN'), (u'the', 'DT'), (u'parts', 'NNS'), (u'of', 'IN'), (u'the', 'DT'), (u'film', 'NN'), (u'we', 'PRP'), (u'did', 'VBD'), (u\"n't\", 'RB'), (u'like.', 'VB'), (u'<', 'JJ'), (u'br', 'NN'), (u'/', 'NNP'), (u'>', 'NNP'), (u'<', 'NNP'), (u'br', 'NN'), (u'/', 'NNP'), (u'>', 'NNP'), (u'*****POSSIBLE', 'NNP'), (u'SPOILER', 'NNP'), (u':', ':'), (u'The', 'DT'), (u'feedback', 'NN'), (u'I', 'PRP'), (u'gave', 'VBD'), (u'concerned', 'VBN'), (u'a', 'DT'), (u'a', 'DT'), (u'couple', 'NN'), (u'of', 'IN'), (u'lines', 'NNS'), (u'in', 'IN'), (u'the', 'DT'), (u'beginning', 'NN'), (u'.', '.'), (u'Kevin', 'NNP'), (u'Costner', 'NNP'), (u'comes', 'VBZ'), (u'home', 'NN'), (u'to', 'TO'), (u'see', 'VB'), (u'his', 'PRP$'), (u'wife', 'NN'), (u',', ','), (u'Sela', 'NNP'), (u'Ward', 'NNP'), (u',', ','), (u'packing', 'VBG'), (u'her', 'PRP$'), (u'stuff', 'NN'), (u'up', 'RB'), (u'and', 'CC'), (u'moving', 'VBG'), (u'out', 'RB'), (u'.', '.'), (u'He', 'PRP'), (u'says', 'VBZ'), (u',', ','), (u'``', '``'), (u'Maybe', 'RB'), (u'I', 'PRP'), (u'should', 'MD'), (u'be', 'VB'), (u'the', 'DT'), (u'one', 'CD'), (u'to', 'TO'), (u'move', 'VB'), (u'out', 'RP'), (u'.', '.'), (u\"''\", \"''\"), (u'And', 'CC'), (u'she', 'PRP'), (u'replies', 'VBZ'), (u',', ','), (u'``', '``'), (u'No', 'UH'), (u',', ','), (u'you', 'PRP'), (u'do', 'VBP'), (u\"n't\", 'RB'), (u'know', 'VB'), (u'where', 'WRB'), (u'anything', 'NN'), (u'is', 'VBZ'), (u'in', 'IN'), (u'this', 'DT'), (u'house', 'NN'), (u';', ':'), (u'I', 'PRP'), (u'should', 'MD'), (u'be', 'VB'), (u'the', 'DT'), (u'one', 'CD'), (u'to', 'TO'), (u'go', 'VB'), (u'.', '.'), (u\"''\", \"''\"), (u'This', 'DT'), (u'does', 'VBZ'), (u\"n't\", 'RB'), (u'make', 'VB'), (u'sense', 'NN'), (u':', ':'), (u'If', 'IN'), (u'she', 'PRP'), (u'knows', 'VBZ'), (u'the', 'DT'), (u'layout', 'NN'), (u'so', 'RB'), (u'well', 'RB'), (u',', ','), (u'Costner', 'NNP'), (u'is', 'VBZ'), (u'right', 'JJ'), (u',', ','), (u'he', 'PRP'), (u'*should*', 'RB'), (u'be', 'VB'), (u'the', 'DT'), (u'one', 'CD'), (u'to', 'TO'), (u'leave', 'VB'), (u'.', '.')]\n",
      "My yardstick for measuring a movie's watch-ability is if I get squirmy. If I start shifting positions and noticing my butt is sore, the film is too long. This movie did not even come close to being boring. Predictable in some parts sure, but never boring.<br /><br />All of the other military branches have had love notes written about them and seen their recruitment levels go up, why not the Coast Guard too? They are definitely under-appreciated, until the day your boat sinks that is.<br /><br />The movie was very enjoyable and fun. Kevin Costner is perfect as the aging macho man who doesn't know when to quit. However, I was most impressed by Ashton Kutcher's performance. I have never liked him, never watched any of his TV shows and always considered him an immature ... well, punk. In this film, he does a great job! He is well on his way to having leading-man status. I think the film we were shown must have been an advance rough cut or something, because about 2/3 of the way in, the film stock turned very grainy, the sound level dropped and microphones were seen dropping down all over the place. Also at the viewing were representatives from the movie, looking for audience feedback - particularly on the parts of the film we didn't like.<br /><br />*****POSSIBLE SPOILER: The feedback I gave concerned a a couple of lines in the beginning. Kevin Costner comes home to see his wife, Sela Ward, packing her stuff up and moving out. He says, \"Maybe I should be the one to move out.\" And she replies, \"No, you don't know where anything is in this house; I should be the one to go.\" This doesn't make sense: If she knows the layout so well, Costner is right, he *should* be the one to leave.\n",
      "My yardstick for measuring a movie 's watch-ability is if I get not squirmy . If I start shifting positions and noticing my butt is not sore , the film is not too not long . This movie did not not not even come not close to being not boring . not Predictable in some parts not sure , but not never boring. < br / > < br / > All of the not other not military branches have had love notes written about them and seen their recruitment levels go not up , why not not the Coast Guard not too ? They are not definitely not under-appreciated , until the day your boat sinks that is. not < br / > < br / > The movie was not very not enjoyable and fun . Kevin Costner is not perfect as the aging not macho man who does not n't know when to quit . not However , I was not most not impressed by Ashton Kutcher 's performance . I have not never liked him , not never watched any of his TV shows and not always considered him an immature ... not well , punk . In this film , he does a not great job ! He is not well on his way to having not leading-man status . I think the film we were shown must have been an advance not rough cut or something , because about 2/3 of the way in , the film stock turned not very not grainy , the not sound level dropped and microphones were seen dropping down all over the place . not Also at the viewing were representatives from the movie , looking for audience feedback - not particularly on the parts of the film we did not n't like. not < br / > < br / > *****POSSIBLE SPOILER : The feedback I gave concerned a a couple of lines in the beginning . Kevin Costner comes home to see his wife , Sela Ward , packing her stuff not up and moving not out . He says , `` not Maybe I should be the one to move out . '' And she replies , `` No , you do not n't know where anything is in this house ; I should be the one to go . '' This does not n't make sense : If she knows the layout not so not well , Costner is not right , he not *should* be the one to leave .\n",
      "Evaluation score: 0.396198835079\n",
      "[(u'How', 'WRB'), (u'many', 'JJ'), (u'movies', 'NNS'), (u'are', 'VBP'), (u'there', 'RB'), (u'that', 'IN'), (u'you', 'PRP'), (u'can', 'MD'), (u'think', 'VB'), (u'of', 'IN'), (u'when', 'WRB'), (u'you', 'PRP'), (u'see', 'VBP'), (u'a', 'DT'), (u'movie', 'NN'), (u'like', 'IN'), (u'this', 'DT'), (u'?', '.'), (u'I', 'PRP'), (u'ca', 'MD'), (u\"n't\", 'RB'), (u'count', 'VB'), (u'them', 'PRP'), (u'but', 'CC'), (u'it', 'PRP'), (u'sure', 'RB'), (u'seemed', 'VBD'), (u'like', 'IN'), (u'the', 'DT'), (u'movie', 'NN'), (u'makers', 'NNS'), (u'were', 'VBD'), (u'trying', 'VBG'), (u'to', 'TO'), (u'give', 'VB'), (u'me', 'PRP'), (u'a', 'DT'), (u'hint', 'NN'), (u'.', '.'), (u'I', 'PRP'), (u'was', 'VBD'), (u'reminded', 'VBN'), (u'so', 'RB'), (u'often', 'RB'), (u'of', 'IN'), (u'other', 'JJ'), (u'movies', 'NNS'), (u',', ','), (u'it', 'PRP'), (u'became', 'VBD'), (u'a', 'DT'), (u'big', 'JJ'), (u'distraction', 'NN'), (u'.', '.'), (u'One', 'CD'), (u'of', 'IN'), (u'the', 'DT'), (u'borrowed', 'VBN'), (u'memorable', 'JJ'), (u'lines', 'NNS'), (u'came', 'VBD'), (u'from', 'IN'), (u'a', 'DT'), (u'movie', 'NN'), (u'from', 'IN'), (u'2003', 'CD'), (u'-', ':'), (u'Day', 'NN'), (u'After', 'IN'), (u'Tomorrow', 'NNP'), (u'.', '.'), (u'One', 'CD'), (u'line', 'NN'), (u'by', 'IN'), (u'itself', 'PRP'), (u',', ','), (u'is', 'VBZ'), (u'not', 'RB'), (u'so', 'RB'), (u'bad', 'JJ'), (u'but', 'CC'), (u'this', 'DT'), (u'movie', 'NN'), (u'borrows', 'VBZ'), (u'so', 'RB'), (u'much', 'JJ'), (u'from', 'IN'), (u'so', 'RB'), (u'many', 'JJ'), (u'movies', 'NNS'), (u'it', 'PRP'), (u'becomes', 'VBZ'), (u'a', 'DT'), (u'bad', 'JJ'), (u'risk.', 'NN'), (u'<', 'NNP'), (u'br', 'NN'), (u'/', 'NNP'), (u'>', 'NNP'), (u'<', 'NNP'), (u'br', 'NN'), (u'/', 'NNP'), (u'>', 'NN'), (u'BUT', 'NNP'), (u'...', ':'), (u'<', 'VBP'), (u'br', 'JJ'), (u'/', 'NNP'), (u'>', 'NNP'), (u'<', 'NNP'), (u'br', 'NN'), (u'/', 'NNP'), (u'>', 'NNP'), (u'See', 'NNP'), (u'The', 'DT'), (u'Movie', 'NNP'), (u'!', '.'), (u'Despite', 'IN'), (u'its', 'PRP$'), (u'downfalls', 'NNS'), (u'there', 'EX'), (u'is', 'VBZ'), (u'enough', 'JJ'), (u'to', 'TO'), (u'make', 'VB'), (u'it', 'PRP'), (u'interesting', 'JJ'), (u'and', 'CC'), (u'maybe', 'RB'), (u'make', 'VB'), (u'it', 'PRP'), (u'appear', 'VB'), (u'clever', 'NN'), (u'.', '.'), (u'While', 'IN'), (u'borrowing', 'VBG'), (u'so', 'RB'), (u'much', 'RB'), (u'from', 'IN'), (u'other', 'JJ'), (u'movies', 'NNS'), (u'it', 'PRP'), (u'never', 'RB'), (u'goes', 'VBZ'), (u'overboard', 'RB'), (u'.', '.'), (u'In', 'IN'), (u'fact', 'NN'), (u',', ','), (u'you', 'PRP'), (u\"'ll\", 'MD'), (u'probably', 'RB'), (u'find', 'VB'), (u'yourself', 'PRP'), (u'battening', 'VBG'), (u'down', 'RP'), (u'the', 'DT'), (u'hatches', 'NNS'), (u'and', 'CC'), (u'riding', 'VBG'), (u'the', 'DT'), (u'storm', 'NN'), (u'out', 'RP'), (u'.', '.'), (u'Why', 'WRB'), (u'?', '.'), (u'...', ':'), (u'Costner', 'NNP'), (u'and', 'CC'), (u'Kutcher', 'NNP'), (u'played', 'VBD'), (u'their', 'PRP$'), (u'characters', 'NNS'), (u'very', 'RB'), (u'well', 'RB'), (u'.', '.'), (u'I', 'PRP'), (u'have', 'VBP'), (u'never', 'RB'), (u'been', 'VBN'), (u'a', 'DT'), (u'fan', 'NN'), (u'of', 'IN'), (u'Kutcher', 'NNP'), (u\"'s\", 'POS'), (u'and', 'CC'), (u'I', 'PRP'), (u'nearly', 'RB'), (u'gave', 'VBD'), (u'up', 'RP'), (u'on', 'IN'), (u'him', 'PRP'), (u'in', 'IN'), (u'The', 'DT'), (u'Guardian', 'NNP'), (u',', ','), (u'but', 'CC'), (u'he', 'PRP'), (u'surfaced', 'VBD'), (u'in', 'IN'), (u'good', 'JJ'), (u'fashion', 'NN'), (u'.', '.'), (u'Costner', 'NNP'), (u'carries', 'VBZ'), (u'the', 'DT'), (u'movie', 'NN'), (u'swimmingly', 'RB'), (u'with', 'IN'), (u'the', 'DT'), (u'best', 'JJS'), (u'of', 'IN'), (u'Costner', 'NNP'), (u\"'s\", 'POS'), (u'ability', 'NN'), (u'.', '.'), (u'I', 'PRP'), (u'do', 'VBP'), (u\"n't\", 'RB'), (u'think', 'VB'), (u'Mrs.', 'NNP'), (u'Robinson', 'NNP'), (u'had', 'VBD'), (u'anything', 'NN'), (u'to', 'TO'), (u'do', 'VB'), (u'with', 'IN'), (u'his', 'PRP$'), (u'success.', 'NN'), (u'<', 'NNP'), (u'br', 'NN'), (u'/', 'NNP'), (u'>', 'NNP'), (u'<', 'NNP'), (u'br', 'NN'), (u'/', 'NNP'), (u'>', 'VBZ'), (u'The', 'DT'), (u'supporting', 'VBG'), (u'cast', 'NN'), (u'all', 'DT'), (u'around', 'IN'), (u'played', 'VBN'), (u'their', 'PRP$'), (u'parts', 'NNS'), (u'well', 'RB'), (u'.', '.'), (u'I', 'PRP'), (u'had', 'VBD'), (u'no', 'DT'), (u'problem', 'NN'), (u'with', 'IN'), (u'any', 'DT'), (u'of', 'IN'), (u'them', 'PRP'), (u'in', 'IN'), (u'the', 'DT'), (u'end', 'NN'), (u'.', '.'), (u'But', 'CC'), (u'some', 'DT'), (u'of', 'IN'), (u'these', 'DT'), (u'characters', 'NNS'), (u'were', 'VBD'), (u'used', 'VBN'), (u'too', 'RB'), (u'much.', 'JJ'), (u'<', 'NNP'), (u'br', 'NN'), (u'/', 'NNP'), (u'>', 'NNP'), (u'<', 'NNP'), (u'br', 'NN'), (u'/', 'NNP'), (u'>', 'NN'), (u'From', 'NNP'), (u'here', 'RB'), (u'on', 'IN'), (u'out', 'IN'), (u'I', 'PRP'), (u'can', 'MD'), (u'only', 'RB'), (u'nit-pick', 'VB'), (u'so', 'RB'), (u'I', 'PRP'), (u'will', 'MD'), (u'save', 'VB'), (u'you', 'PRP'), (u'the', 'DT'), (u'wear', 'NN'), (u'and', 'CC'), (u'tear', 'NN'), (u'.', '.'), (u'Enjoy', 'VB'), (u'the', 'DT'), (u'movie', 'NN'), (u',', ','), (u'the', 'DT'), (u'parts', 'NNS'), (u'that', 'WDT'), (u'work', 'VBP'), (u',', ','), (u'work', 'VBP'), (u'well', 'RB'), (u'enough', 'RB'), (u'to', 'TO'), (u'keep', 'VB'), (u'your', 'PRP$'), (u'head', 'NN'), (u'above', 'IN'), (u'water', 'NN'), (u'.', '.'), (u'Just', 'NNP'), (u'do', 'VBP'), (u\"n't\", 'RB'), (u'expect', 'VB'), (u'a', 'DT'), (u'smooth', 'JJ'), (u'ride.', 'NN'), (u'<', 'NNP'), (u'br', 'NN'), (u'/', 'NNP'), (u'>', 'NNP'), (u'<', 'NNP'), (u'br', 'NN'), (u'/', 'NNP'), (u'>', 'NNP'), (u'7', 'CD'), (u'of', 'IN'), (u'10', 'CD'), (u'but', 'CC'), (u'almost', 'RB'), (u'a', 'DT'), (u'6', 'CD'), (u'.', '.')]\n",
      "How many movies are there that you can think of when you see a movie like this? I can't count them but it sure seemed like the movie makers were trying to give me a hint. I was reminded so often of other movies, it became a big distraction. One of the borrowed memorable lines came from a movie from 2003 - Day After Tomorrow. One line by itself, is not so bad but this movie borrows so much from so many movies it becomes a bad risk.<br /><br />BUT...<br /><br />See The Movie! Despite its downfalls there is enough to make it interesting and maybe make it appear clever. While borrowing so much from other movies it never goes overboard. In fact, you'll probably find yourself battening down the hatches and riding the storm out. Why? ...Costner and Kutcher played their characters very well. I have never been a fan of Kutcher's and I nearly gave up on him in The Guardian, but he surfaced in good fashion. Costner carries the movie swimmingly with the best of Costner's ability. I don't think Mrs. Robinson had anything to do with his success.<br /><br />The supporting cast all around played their parts well. I had no problem with any of them in the end. But some of these characters were used too much.<br /><br />From here on out I can only nit-pick so I will save you the wear and tear. Enjoy the movie, the parts that work, work well enough to keep your head above water. Just don't expect a smooth ride.<br /><br />7 of 10 but almost a 6.\n",
      "How not many movies are not there that you can think of when you see a movie like this ? I ca not n't count them but it not sure seemed like the movie makers were trying to give me a hint . I was reminded not so not often of not other movies , it became a not big distraction . One of the borrowed not memorable lines came from a movie from 2003 - Day After Tomorrow . One line by itself , is not not not so not bad but this movie borrows not so not much from not so not many movies it becomes a not bad risk. < br / > < br / > BUT ... < not br / > < br / > See The Movie ! Despite its downfalls there is not enough to make it not interesting and not maybe make it appear clever . While borrowing not so not much from not other movies it not never goes not overboard . In fact , you 'll not probably find yourself battening down the hatches and riding the storm out . Why ? ... Costner and Kutcher played their characters not very not well . I have not never been a fan of Kutcher 's and I not nearly gave up on him in The Guardian , but he surfaced in not good fashion . Costner carries the movie not swimmingly with the not best of Costner 's ability . I do not n't think Mrs. Robinson had anything to do with his success. < br / > < br / > The supporting cast all around played their parts not well . I had no problem with any of them in the end . But some of these characters were used not too not much. < br / > < br / > From not here on out I can not only nit-pick not so I will save you the wear and tear . Enjoy the movie , the parts that work , work not well not enough to keep your head above water . Just do not n't expect a not smooth ride. < br / > < br / > 7 of 10 but not almost a 6 .\n",
      "Evaluation score: 0.25471719739\n",
      "[(u'This', 'DT'), (u'movie', 'NN'), (u'was', 'VBD'), (u'sadly', 'RB'), (u'under-promoted', 'JJ'), (u'but', 'CC'), (u'proved', 'VBD'), (u'to', 'TO'), (u'be', 'VB'), (u'truly', 'JJ'), (u'exceptional', 'JJ'), (u'.', '.'), (u'Entering', 'VBG'), (u'the', 'DT'), (u'theatre', 'NN'), (u'I', 'PRP'), (u'knew', 'VBD'), (u'nothing', 'NN'), (u'about', 'IN'), (u'the', 'DT'), (u'film', 'NN'), (u'except', 'IN'), (u'that', 'IN'), (u'a', 'DT'), (u'friend', 'NN'), (u'wanted', 'VBD'), (u'to', 'TO'), (u'see', 'VB'), (u'it.', 'JJ'), (u'<', 'NNP'), (u'br', 'NN'), (u'/', 'NNP'), (u'>', 'NNP'), (u'<', 'NNP'), (u'br', 'NN'), (u'/', 'NNP'), (u'>', 'NNP'), (u'I', 'PRP'), (u'was', 'VBD'), (u'caught', 'VBN'), (u'off', 'RP'), (u'guard', 'NN'), (u'with', 'IN'), (u'the', 'DT'), (u'high', 'JJ'), (u'quality', 'NN'), (u'of', 'IN'), (u'the', 'DT'), (u'film', 'NN'), (u'.', '.'), (u'I', 'PRP'), (u'could', 'MD'), (u\"n't\", 'RB'), (u'image', 'NN'), (u'Ashton', 'NNP'), (u'Kutcher', 'NNP'), (u'in', 'IN'), (u'a', 'DT'), (u'serious', 'JJ'), (u'role', 'NN'), (u',', ','), (u'but', 'CC'), (u'his', 'PRP$'), (u'performance', 'NN'), (u'truly', 'RB'), (u'exemplified', 'VBD'), (u'his', 'PRP$'), (u'character', 'NN'), (u'.', '.'), (u'This', 'DT'), (u'movie', 'NN'), (u'is', 'VBZ'), (u'exceptional', 'JJ'), (u'and', 'CC'), (u'deserves', 'VBZ'), (u'our', 'PRP$'), (u'monetary', 'JJ'), (u'support', 'NN'), (u',', ','), (u'unlike', 'IN'), (u'so', 'RB'), (u'many', 'JJ'), (u'other', 'JJ'), (u'movies', 'NNS'), (u'.', '.'), (u'It', 'PRP'), (u'does', 'VBZ'), (u'not', 'RB'), (u'come', 'VB'), (u'lightly', 'RB'), (u'for', 'IN'), (u'me', 'PRP'), (u'to', 'TO'), (u'recommend', 'VB'), (u'any', 'DT'), (u'movie', 'NN'), (u',', ','), (u'but', 'CC'), (u'in', 'IN'), (u'this', 'DT'), (u'case', 'NN'), (u'I', 'PRP'), (u'highly', 'RB'), (u'recommend', 'VBP'), (u'that', 'IN'), (u'everyone', 'NN'), (u'see', 'VBP'), (u'it.', 'JJ'), (u'<', 'NNP'), (u'br', 'NN'), (u'/', 'NNP'), (u'>', 'NNP'), (u'<', 'NNP'), (u'br', 'NN'), (u'/', 'NNP'), (u'>', 'NNP'), (u'This', 'DT'), (u'films', 'NN'), (u'is', 'VBZ'), (u'Truly', 'NNP'), (u'Exceptional', 'NNP'), (u'!', '.')]\n",
      "This movie was sadly under-promoted but proved to be truly exceptional. Entering the theatre I knew nothing about the film except that a friend wanted to see it.<br /><br />I was caught off guard with the high quality of the film. I couldn't image Ashton Kutcher in a serious role, but his performance truly exemplified his character. This movie is exceptional and deserves our monetary support, unlike so many other movies. It does not come lightly for me to recommend any movie, but in this case I highly recommend that everyone see it.<br /><br />This films is Truly Exceptional!\n",
      "This movie was not sadly not under-promoted but proved to be not truly not exceptional . Entering the theatre I knew nothing about the film except that a friend wanted to see not it. < br / > < br / > I was caught off guard with the not high quality of the film . I could not n't image Ashton Kutcher in a not serious role , but his performance not truly exemplified his character . This movie is not exceptional and deserves our not monetary support , unlike not so not many not other movies . It does not not come not lightly for me to recommend any movie , but in this case I not highly recommend that everyone see not it. < br / > < br / > This films is Truly Exceptional !\n",
      "Evaluation score: 0.0452126375273\n",
      "[(u'I', 'PRP'), (u'only', 'RB'), (u'went', 'VBD'), (u'to', 'TO'), (u'see', 'VB'), (u'this', 'DT'), (u'movie', 'NN'), (u'because', 'IN'), (u'I', 'PRP'), (u'have', 'VBP'), (u'always', 'RB'), (u'liked', 'VBN'), (u'Kevin', 'NNP'), (u'Costner', 'NNP'), (u'.', '.'), (u'I', 'PRP'), (u'felt', 'VBD'), (u'that', 'IN'), (u'Ashton', 'NNP'), (u'did', 'VBD'), (u'a', 'DT'), (u'great', 'JJ'), (u'job', 'NN'), (u'in', 'IN'), (u'the', 'DT'), (u'Butterfly', 'NNP'), (u'Effect', 'NNP'), (u'.', '.'), (u'Unfortunately', 'RB'), (u',', ','), (u'even', 'RB'), (u'though', 'IN'), (u'these', 'DT'), (u'two', 'CD'), (u'actors', 'NNS'), (u'were/are', 'VBP'), (u'capable', 'JJ'), (u'of', 'IN'), (u'good', 'JJ'), (u'if', 'IN'), (u'not', 'RB'), (u'great', 'JJ'), (u'acting', 'VBG'), (u'moments', 'NNS'), (u'some', 'DT'), (u'of', 'IN'), (u'that', 'DT'), (u'was', 'VBD'), (u'missing', 'VBG'), (u'here', 'RB'), (u'.', '.'), (u'Some', 'DT'), (u'of', 'IN'), (u'the', 'DT'), (u'scenes', 'NNS'), (u'were', 'VBD'), (u'just', 'RB'), (u'not', 'RB'), (u'believable', 'JJ'), (u'and', 'CC'), (u'did', 'VBD'), (u\"n't\", 'RB'), (u'have', 'VB'), (u'enough', 'JJ'), (u'story', 'NN'), (u'line', 'NN'), (u'support.', 'NN'), (u'<', 'NNP'), (u'br', 'NN'), (u'/', 'NNP'), (u'>', 'NNP'), (u'<', 'NNP'), (u'br', 'NN'), (u'/', 'NNP'), (u'>', 'NNP'), (u'Though', 'IN'), (u'the', 'DT'), (u'movie', 'NN'), (u'claims', 'NNS'), (u'influence', 'NN'), (u'from', 'IN'), (u'the', 'DT'), (u'hurricane', 'NN'), (u'Katrina', 'NNP'), (u'aftermath', 'NN'), (u',', ','), (u'there', 'EX'), (u'was', 'VBD'), (u'very', 'RB'), (u'little', 'JJ'), (u'(', '('), (u'none', 'NN'), (u')', ')'), (u'to', 'TO'), (u'that', 'DT'), (u'effect', 'NN'), (u'in', 'IN'), (u'the', 'DT'), (u'movie.', 'NN'), (u'<', 'NNP'), (u'br', 'NN'), (u'/', 'NNP'), (u'>', 'NNP'), (u'<', 'NNP'), (u'br', 'NN'), (u'/', 'NNP'), (u'>', 'NNP'), (u'Overall', 'NNP'), (u',', ','), (u'I', 'PRP'), (u'liked', 'VBD'), (u'the', 'DT'), (u'fact', 'NN'), (u'that', 'IN'), (u'the', 'DT'), (u'movie', 'NN'), (u'brought', 'VBD'), (u'forward', 'RB'), (u'some', 'DT'), (u'of', 'IN'), (u'what', 'WP'), (u'goes', 'VBZ'), (u'into', 'IN'), (u'saving', 'VBG'), (u'lives', 'NNS'), (u'from', 'IN'), (u'a', 'DT'), (u'water', 'NN'), (u'perspective.', 'NN'), (u'<', 'NNP'), (u'br', 'NN'), (u'/', 'NNP'), (u'>', 'NNP'), (u'<', 'NNP'), (u'br', 'NN'), (u'/', 'NNP'), (u'>', 'VBZ'), (u'The', 'DT'), (u'special', 'JJ'), (u'effects', 'NNS'), (u'were', 'VBD'), (u'pretty', 'RB'), (u'good', 'JJ'), (u'and', 'CC'), (u'more', 'JJR'), (u'than', 'IN'), (u'a', 'DT'), (u'little', 'JJ'), (u'intimidating', 'NN'), (u'.', '.'), (u'Not', 'RB'), (u'sure', 'JJ'), (u'I', 'PRP'), (u\"'ll\", 'MD'), (u'ever', 'RB'), (u'go', 'VB'), (u'deep', 'JJ'), (u'sea', 'NN'), (u'fishing', 'NN'), (u'again', 'RB'), (u'...', ':'), (u'<', 'NNP'), (u'br', 'VBD'), (u'/', 'NNP'), (u'>', 'NNP'), (u'<', 'NNP'), (u'br', 'NN'), (u'/', 'NNP'), (u'>', 'NNP'), (u'I', 'PRP'), (u'expected', 'VBD'), (u'a', 'DT'), (u'little', 'RB'), (u'more', 'JJR'), (u'emotion', 'NN'), (u'in', 'IN'), (u'the', 'DT'), (u'film', 'NN'), (u'than', 'IN'), (u'what', 'WP'), (u'was', 'VBD'), (u'presented.', 'JJ'), (u'<', 'NNP'), (u'br', 'NN'), (u'/', 'NNP'), (u'>', 'NNP'), (u'<', 'NNP'), (u'br', 'NN'), (u'/', 'NNP'), (u'>', 'NNP'), (u'Definitely', 'NNP'), (u'a', 'DT'), (u'movie', 'NN'), (u'that', 'WDT'), (u'could', 'MD'), (u\"'ve\", 'VBP'), (u'been', 'VBN'), (u'seen', 'VBN'), (u'on', 'IN'), (u'DVD', 'NNP'), (u'.', '.')]\n",
      "I only went to see this movie because I have always liked Kevin Costner. I felt that Ashton did a great job in the Butterfly Effect. Unfortunately, even though these two actors were/are capable of good if not great acting moments some of that was missing here. Some of the scenes were just not believable and didn't have enough story line support.<br /><br />Though the movie claims influence from the hurricane Katrina aftermath, there was very little (none) to that effect in the movie.<br /><br />Overall, I liked the fact that the movie brought forward some of what goes into saving lives from a water perspective.<br /><br />The special effects were pretty good and more than a little intimidating. Not sure I'll ever go deep sea fishing again...<br /><br />I expected a little more emotion in the film than what was presented.<br /><br />Definitely a movie that could've been seen on DVD.\n",
      "I not only went to see this movie because I have not always liked Kevin Costner . I felt that Ashton did a not great job in the Butterfly Effect . not Unfortunately , not even though these two actors were/are not capable of not good if not not not great acting moments some of that was missing not here . Some of the scenes were not just not not not believable and did not n't have not enough story line support. < br / > < br / > Though the movie claims influence from the hurricane Katrina aftermath , there was not very not little ( none ) to that effect in the movie. < br / > < br / > Overall , I liked the fact that the movie brought not forward some of what goes into saving lives from a water perspective. < br / > < br / > The not special effects were not pretty not good and not more than a not little intimidating . not Not not sure I 'll not ever go not deep sea fishing not again ... < br / > < br / > I expected a not little not more emotion in the film than what was not presented. < br / > < br / > Definitely a movie that could 've been seen on DVD .\n",
      "Evaluation score: 0.397264094242\n",
      "[(u'I', 'PRP'), (u'was', 'VBD'), (u'fortunate', 'JJ'), (u'enough', 'RB'), (u'to', 'TO'), (u'see', 'VB'), (u'this', 'DT'), (u'movie', 'NN'), (u'on', 'IN'), (u'pre-release', 'NN'), (u'last', 'JJ'), (u'night', 'NN'), (u'and', 'CC'), (u',', ','), (u'though', 'IN'), (u'I', 'PRP'), (u'was', 'VBD'), (u\"n't\", 'RB'), (u'expecting', 'VBG'), (u'to', 'TO'), (u',', ','), (u'actually', 'RB'), (u'really', 'RB'), (u'enjoyed', 'VBN'), (u'the', 'DT'), (u'movie', 'NN'), (u'for', 'IN'), (u'the', 'DT'), (u'most', 'JJS'), (u'part', 'NN'), (u'.', '.'), (u'The', 'DT'), (u'rescues', 'NNS'), (u'and', 'CC'), (u'sea', 'NN'), (u'effects', 'NNS'), (u'were', 'VBD'), (u'amazing', 'VBG'), (u'to', 'TO'), (u'watch', 'VB'), (u'and', 'CC'), (u'definitely', 'RB'), (u'provided', 'VBD'), (u'edge', 'NN'), (u'of', 'IN'), (u'the', 'DT'), (u'seat', 'NN'), (u'tense', 'NN'), (u'moments', 'NNS'), (u',', ','), (u'probably', 'RB'), (u'all', 'PDT'), (u'the', 'DT'), (u'more', 'RBR'), (u'so', 'RB'), (u'knowing', 'VBG'), (u'that', 'IN'), (u'there', 'EX'), (u'are', 'VBP'), (u'guys', 'NNS'), (u'who', 'WP'), (u'do', 'VBP'), (u'this', 'DT'), (u'for', 'IN'), (u'a', 'DT'), (u'living', 'NN'), (u'.', '.'), (u'The', 'DT'), (u'weaker', 'JJR'), (u'parts', 'NNS'), (u'of', 'IN'), (u'the', 'DT'), (u'movie', 'NN'), (u'revolve', 'NN'), (u'largely', 'RB'), (u'around', 'IN'), (u'using', 'VBG'), (u'stereotypical', 'JJ'), (u'set', 'NN'), (u'scenes', 'NNS'), (u'.', '.'), (u'I', 'PRP'), (u\"'m\", 'VBP'), (u'not', 'RB'), (u'going', 'VBG'), (u'to', 'TO'), (u'spoil', 'VB'), (u'the', 'DT'), (u'movie', 'NN'), (u'but', 'CC'), (u'this', 'DT'), (u'really', 'RB'), (u'follows', 'VBZ'), (u'along', 'IN'), (u'the', 'DT'), (u'lines', 'NNS'), (u'of', 'IN'), (u'An', 'DT'), (u'Officer', 'NNP'), (u'and', 'CC'), (u'a', 'DT'), (u'Gentleman', 'NNP'), (u'and', 'CC'), (u'those', 'DT'), (u'moments', 'NNS'), (u'give', 'VBP'), (u'it', 'PRP'), (u'a', 'DT'), (u'little', 'JJ'), (u'bit', 'NN'), (u'of', 'IN'), (u'a', 'DT'), (u'cheesy', 'NN'), (u'aftertaste.', 'NN'), (u'<', 'NNP'), (u'br', 'NN'), (u'/', 'NNP'), (u'>', 'NNP'), (u'<', 'NNP'), (u'br', 'NN'), (u'/', 'NNP'), (u'>', 'NNP'), (u'Like', 'IN'), (u'I', 'PRP'), (u'said', 'VBD'), (u'over', 'IN'), (u'all', 'PDT'), (u'this', 'DT'), (u'movie', 'NN'), (u'is', 'VBZ'), (u'pretty', 'RB'), (u'good', 'JJ'), (u'and', 'CC'), (u'worth', 'JJ'), (u'checking', 'VBG'), (u'out', 'RP'), (u'as', 'RB'), (u'long', 'RB'), (u'as', 'IN'), (u'you', 'PRP'), (u'can', 'MD'), (u'get', 'VB'), (u'past', 'IN'), (u'the', 'DT'), (u'clich\\xe9s', 'NN'), (u'.', '.')]\n",
      "I was fortunate enough to see this movie on pre-release last night and, though I wasn't expecting to, actually really enjoyed the movie for the most part. The rescues and sea effects were amazing to watch and definitely provided edge of the seat tense moments, probably all the more so knowing that there are guys who do this for a living. The weaker parts of the movie revolve largely around using stereotypical set scenes. I'm not going to spoil the movie but this really follows along the lines of An Officer and a Gentleman and those moments give it a little bit of a cheesy aftertaste.<br /><br />Like I said over all this movie is pretty good and worth checking out as long as you can get past the clichés.\n",
      "I was not fortunate not enough to see this movie on pre-release not last night and , though I was not n't expecting to , not actually not really enjoyed the movie for the not most part . The rescues and sea effects were amazing to watch and not definitely provided edge of the seat tense moments , not probably all the not more not so knowing that there are guys who do this for a living . The not weaker parts of the movie revolve not largely around using not stereotypical set scenes . I 'm not not going to spoil the movie but this not really follows along the lines of An Officer and a Gentleman and those moments give it a not little bit of a cheesy aftertaste. < br / > < br / > Like I said over all this movie is not pretty not good and not worth checking out not as not long as you can get past the clichés .\n",
      "Evaluation score: 0.12197025641\n",
      "[(u'Our', 'PRP$'), (u'family', 'NN'), (u'(', '('), (u'and', 'CC'), (u'the', 'DT'), (u'entire', 'JJ'), (u'sold', 'VBN'), (u'out', 'RP'), (u'sneak', 'JJ'), (u'preview', 'NN'), (u'audience', 'NN'), (u')', ')'), (u'enjoyed', 'VBD'), (u'``', '``'), (u'The', 'DT'), (u'Guardian', 'NNP'), (u\"''\", \"''\"), (u'.', '.'), (u'Kevin', 'NNP'), (u'Costner', 'NNP'), (u'and', 'CC'), (u'Ashton', 'NNP'), (u'Kutcher', 'NNP'), (u'gave', 'VBD'), (u'convincing', 'VBG'), (u'performances', 'NNS'), (u'as', 'IN'), (u'the', 'DT'), (u'fictional', 'JJ'), (u'helicopter', 'NN'), (u'rescue', 'NN'), (u'swimmer', 'NN'), (u'characters', 'NNS'), (u'Ben', 'NNP'), (u'and', 'CC'), (u'Jake', 'NNP'), (u'.', '.'), (u'After', 'IN'), (u'seeing', 'VBG'), (u'this', 'DT'), (u'movie', 'NN'), (u',', ','), (u'you', 'PRP'), (u'ca', 'MD'), (u\"n't\", 'RB'), (u'help', 'VB'), (u'but', 'CC'), (u'imagine', 'VB'), (u'how', 'WRB'), (u'difficult', 'JJ'), (u'it', 'PRP'), (u'must', 'MD'), (u'be', 'VB'), (u'to', 'TO'), (u'graduate', 'VB'), (u'from', 'IN'), (u'the', 'DT'), (u'USCG', 'NNP'), (u'helicopter', 'NN'), (u'rescue', 'NN'), (u'swimmer', 'JJ'), (u'school', 'NN'), (u'and', 'CC'), (u'one', 'CD'), (u'day', 'NN'), (u'take', 'VB'), (u'part', 'NN'), (u'in', 'IN'), (u'real', 'JJ'), (u'rescues.', 'NN'), (u'<', 'NNP'), (u'br', 'NN'), (u'/', 'NNP'), (u'>', 'NNP'), (u'<', 'NNP'), (u'br', 'NN'), (u'/', 'NNP'), (u'>', 'NNP'), (u'Even', 'RB'), (u'though', 'IN'), (u'this', 'DT'), (u'is', 'VBZ'), (u'a', 'DT'), (u'fictional', 'JJ'), (u'movie', 'NN'), (u',', ','), (u'it', 'PRP'), (u'delivered', 'VBD'), (u'rather', 'RB'), (u'convincing', 'VBG'), (u'virtues', 'NNS'), (u'of', 'IN'), (u'team', 'NN'), (u'spirit', 'NN'), (u',', ','), (u'dedication', 'NN'), (u'and', 'CC'), (u'bravery', 'NN'), (u'exhibited', 'VBN'), (u'by', 'IN'), (u'all', 'PDT'), (u'the', 'DT'), (u'members', 'NNS'), (u'of', 'IN'), (u'the', 'DT'), (u'actual', 'JJ'), (u'U.', 'NNP'), (u'S.', 'NNP'), (u'Coast', 'NNP'), (u'Guard.', 'NNP'), (u'<', 'NNP'), (u'br', 'NN'), (u'/', 'NNP'), (u'>', 'NNP'), (u'<', 'NNP'), (u'br', 'NN'), (u'/', 'NNP'), (u'>', 'VBZ'), (u'The', 'DT'), (u'special', 'JJ'), (u'effects', 'NNS'), (u'used', 'VBN'), (u'to', 'TO'), (u'create', 'VB'), (u'the', 'DT'), (u'rescue', 'NN'), (u'scenes', 'NNS'), (u'were', 'VBD'), (u'incredible', 'JJ'), (u'.', '.'), (u'You', 'PRP'), (u'actually', 'RB'), (u'felt', 'VBD'), (u'like', 'IN'), (u'you', 'PRP'), (u'were', 'VBD'), (u'taking', 'VBG'), (u'part', 'NN'), (u'in', 'IN'), (u'a', 'DT'), (u'real', 'JJ'), (u'rescue.', 'NN'), (u'<', 'NNP'), (u'br', 'NN'), (u'/', 'NNP'), (u'>', 'NNP'), (u'<', 'NNP'), (u'br', 'NN'), (u'/', 'NNP'), (u'>', 'NNP'), (u'I', 'PRP'), (u'feel', 'VBP'), (u'the', 'DT'), (u'movie', 'NN'), (u'could', 'MD'), (u'have', 'VB'), (u'been', 'VBN'), (u'made', 'VBN'), (u'without', 'IN'), (u'the', 'DT'), (u'``', '``'), (u'Hollywood', 'NNP'), (u\"''\", \"''\"), (u'bar', 'NN'), (u'scene', 'NN'), (u'(', '('), (u'when', 'WRB'), (u'you', 'PRP'), (u'see', 'VBP'), (u'the', 'DT'), (u'movie', 'NN'), (u',', ','), (u'you', 'PRP'), (u'might', 'MD'), (u'agree', 'VB'), (u')', ')'), (u'since', 'IN'), (u'the', 'DT'), (u'real', 'JJ'), (u'Coast', 'NNP'), (u'Guard', 'NNP'), (u'does', 'VBZ'), (u'not', 'RB'), (u'condone', 'VB'), (u'such', 'JJ'), (u'behavior', 'NN'), (u'.', '.'), (u'<', 'CC'), (u'br', 'JJ'), (u'/', 'NNP'), (u'>', 'NNP'), (u'<', 'NNP'), (u'br', 'NN'), (u'/', 'NNP'), (u'>', 'NNP'), (u'Very', 'NNP'), (u'entertaining', 'JJ'), (u',', ','), (u'very', 'RB'), (u'action', 'NN'), (u'packed', 'VBD'), (u',', ','), (u'definitely', 'RB'), (u'worth', 'JJ'), (u'seeing', 'VBG'), (u'.', '.'), (u'Thank', 'NNP'), (u'you', 'PRP'), (u',', ','), (u'U.', 'NNP'), (u'S.', 'NNP'), (u'Coast', 'NNP'), (u'Guard', 'NNP'), (u'and', 'CC'), (u'the', 'DT'), (u'REAL', 'NNP'), (u'helicopter', 'NN'), (u'rescue', 'NN'), (u'swimmers', 'NNS'), (u',', ','), (u'``', '``'), (u'So', 'IN'), (u'Others', 'NNP'), (u'May', 'NNP'), (u'Live', 'NNP'), (u\"''\", \"''\"), (u'.', '.'), (u'I', 'PRP'), (u\"'d\", 'MD'), (u'highly', 'RB'), (u'recommend', 'VB'), (u'this', 'DT'), (u'movie', 'NN'), (u'to', 'TO'), (u'everyone', 'NN'), (u'.', '.')]\n",
      "Our family (and the entire sold out sneak preview audience) enjoyed \"The Guardian\". Kevin Costner and Ashton Kutcher gave convincing performances as the fictional helicopter rescue swimmer characters Ben and Jake. After seeing this movie, you can't help but imagine how difficult it must be to graduate from the USCG helicopter rescue swimmer school and one day take part in real rescues.<br /><br />Even though this is a fictional movie, it delivered rather convincing virtues of team spirit, dedication and bravery exhibited by all the members of the actual U. S. Coast Guard.<br /><br />The special effects used to create the rescue scenes were incredible. You actually felt like you were taking part in a real rescue.<br /><br />I feel the movie could have been made without the \"Hollywood\" bar scene (when you see the movie, you might agree) since the real Coast Guard does not condone such behavior. <br /><br />Very entertaining, very action packed, definitely worth seeing. Thank you, U. S. Coast Guard and the REAL helicopter rescue swimmers, \"So Others May Live\". I'd highly recommend this movie to everyone.\n",
      "Our family ( and the not entire sold out not sneak preview audience ) enjoyed `` The Guardian '' . Kevin Costner and Ashton Kutcher gave convincing performances as the not fictional helicopter rescue swimmer characters Ben and Jake . After seeing this movie , you ca not n't help but imagine how not difficult it must be to graduate from the USCG helicopter rescue not swimmer school and one day take part in not real rescues. < br / > < br / > not Even though this is a not fictional movie , it delivered not rather convincing virtues of team spirit , dedication and bravery exhibited by all the members of the not actual U. S. Coast Guard. < br / > < br / > The not special effects used to create the rescue scenes were not incredible . You not actually felt like you were taking part in a not real rescue. < br / > < br / > I feel the movie could have been made without the `` Hollywood '' bar scene ( when you see the movie , you might agree ) since the not real Coast Guard does not not condone not such behavior . < not br / > < br / > Very not entertaining , not very action packed , not definitely not worth seeing . Thank you , U. S. Coast Guard and the REAL helicopter rescue swimmers , `` So Others May Live '' . I 'd not highly recommend this movie to everyone .\n",
      "Evaluation score: 0.527229468406\n",
      "[(u'I', 'PRP'), (u\"'m\", 'VBP'), (u'a', 'DT'), (u'Petty', 'NNP'), (u'Officer', 'NNP'), (u'1st', 'CD'), (u'Class', 'NNP'), (u'(', '('), (u'E-6', 'NNP'), (u')', ')'), (u'and', 'CC'), (u'have', 'VBP'), (u'been', 'VBN'), (u'in', 'IN'), (u'the', 'DT'), (u'USCG', 'NNP'), (u'for', 'IN'), (u'6', 'CD'), (u'years', 'NNS'), (u'and', 'CC'), (u'feel', 'VB'), (u'that', 'IN'), (u'this', 'DT'), (u'movie', 'NN'), (u'strongly', 'RB'), (u'represents', 'VBZ'), (u'the', 'DT'), (u'Coast', 'NNP'), (u'Guard', 'NNP'), (u'.', '.'), (u'There', 'EX'), (u'were', 'VBD'), (u'only', 'RB'), (u'a', 'DT'), (u'few', 'JJ'), (u'scenes', 'NNS'), (u'that', 'WDT'), (u'were', 'VBD'), (u'far', 'RB'), (u'fetched', 'VBN'), (u'.', '.'), (u'The', 'DT'), (u'most', 'RBS'), (u'far-fetched', 'JJ'), (u'was', 'VBD'), (u'when', 'WRB'), (u'PO', 'NNP'), (u'Fischer', 'NNP'), (u'(', '('), (u'Kutcher', 'NNP'), (u')', ')'), (u'went', 'VBD'), (u'down', 'IN'), (u'inside', 'NN'), (u'of', 'IN'), (u'the', 'DT'), (u'sinking', 'VBG'), (u'vessel', 'NN'), (u'to', 'TO'), (u'pull', 'VB'), (u'the', 'DT'), (u'vessel', 'NN'), (u\"'s\", 'POS'), (u'captain', 'NN'), (u'out', 'IN'), (u'of', 'IN'), (u'the', 'DT'), (u'engine', 'NN'), (u'room', 'NN'), (u'...', ':'), (u'that', 'WDT'), (u'would', 'MD'), (u'never', 'RB'), (u'happen', 'VB'), (u'.', '.'), (u'Swimmers', 'NNS'), (u'are', 'VBP'), (u'not', 'RB'), (u'allowed', 'VBN'), (u'to', 'TO'), (u'go', 'VB'), (u'inside', 'RB'), (u'of', 'IN'), (u'any', 'DT'), (u'vessel', 'JJ'), (u'no', 'DT'), (u'matter', 'NN'), (u'the', 'DT'), (u'circumstances', 'NNS'), (u'.', '.'), (u'Second', 'NNP'), (u',', ','), (u'the', 'DT'), (u'Command', 'NNP'), (u'Center', 'NNP'), (u'(', '('), (u'supposedly', 'RB'), (u'in', 'IN'), (u'Kodiak', 'NNP'), (u')', ')'), (u',', ','), (u'it', 'PRP'), (u'looked', 'VBD'), (u'more', 'RBR'), (u'like', 'IN'), (u'a', 'DT'), (u'NASA', 'NNP'), (u'command', 'NN'), (u'center', 'NN'), (u'...', ':'), (u'we', 'PRP'), (u'do', 'VBP'), (u\"n't\", 'RB'), (u'have', 'VB'), (u'any', 'DT'), (u'gear', 'JJ'), (u'that', 'IN'), (u'hi-tech', 'NN'), (u'.', '.'), (u'Third', 'NNP'), (u',', ','), (u'the', 'DT'), (u'Captain', 'NNP'), (u'of', 'IN'), (u'the', 'DT'), (u'Airstation', 'NNP'), (u'would', 'MD'), (u'not', 'RB'), (u'be', 'VB'), (u'running', 'VBG'), (u'the', 'DT'), (u'search', 'NN'), (u'&', 'CC'), (u'rescue', 'NN'), (u'cases', 'NNS'), (u'with', 'IN'), (u'like', 'JJ'), (u'10', 'CD'), (u'people', 'NNS'), (u'on', 'IN'), (u'watch', 'NN'), (u'.', '.'), (u'In', 'IN'), (u'reality', 'NN'), (u'it', 'PRP'), (u'would', 'MD'), (u'be', 'VB'), (u'an', 'DT'), (u'E-6', 'JJ'), (u'or', 'CC'), (u'E-7', 'JJ'), (u'as', 'IN'), (u'the', 'DT'), (u'SAR', 'NNP'), (u'Controller', 'NNP'), (u'and', 'CC'), (u'maybe', 'RB'), (u'2', 'CD'), (u'other', 'JJ'), (u'support', 'NN'), (u'personnel', 'NNS'), (u'like', 'IN'), (u'an', 'DT'), (u'assist', 'JJ'), (u'SAR', 'NNP'), (u'Controller', 'NNP'), (u'&', 'CC'), (u'a', 'DT'), (u'Radio', 'NN'), (u'Watchstander', 'NNP'), (u'.', '.'), (u'Otherwise', 'VB'), (u'the', 'DT'), (u'movie', 'NN'), (u'was', 'VBD'), (u'dead', 'JJ'), (u'on', 'IN'), (u',', ','), (u'I', 'PRP'), (u'think', 'VBP'), (u'they', 'PRP'), (u'should', 'MD'), (u'have', 'VB'), (u'incorporated', 'VBN'), (u'more', 'JJR'), (u'of', 'IN'), (u'the', 'DT'), (u'other', 'JJ'), (u'rates', 'NNS'), (u'in', 'IN'), (u'the', 'DT'), (u'CG', 'NNP'), (u'and', 'CC'), (u'their', 'PRP$'), (u'roles', 'NNS'), (u'in', 'IN'), (u'search', 'NN'), (u'&', 'CC'), (u'rescue', 'NN'), (u'instead', 'RB'), (u'of', 'IN'), (u'just', 'RB'), (u'Aviation', 'NNP'), (u'based', 'VBN'), (u'rates', 'NNS'), (u'.', '.'), (u'Some', 'DT'), (u'of', 'IN'), (u'the', 'DT'), (u'scenes', 'NNS'), (u'from', 'IN'), (u'``', '``'), (u'A', 'NNP'), (u\"''\", \"''\"), (u'school', 'NN'), (u'reminded', 'VBD'), (u'me', 'PRP'), (u'of', 'IN'), (u'my', 'PRP$'), (u'days', 'NNS'), (u'their', 'PRP$'), (u'and', 'CC'), (u'the', 'DT'), (u'dumb', 'JJ'), (u'stuff', 'NN'), (u'I', 'PRP'), (u'did', 'VBD'), (u'and', 'CC'), (u'got', 'VBD'), (u'in', 'IN'), (u'trouble', 'NN'), (u'for', 'IN'), (u'in', 'IN'), (u'my', 'PRP$'), (u'younger', 'JJR'), (u'days', 'NNS'), (u'.', '.')]\n",
      "I'm a Petty Officer 1st Class (E-6) and have been in the USCG for 6 years and feel that this movie strongly represents the Coast Guard. There were only a few scenes that were far fetched. The most far-fetched was when PO Fischer (Kutcher) went down inside of the sinking vessel to pull the vessel's captain out of the engine room... that would never happen. Swimmers are not allowed to go inside of any vessel no matter the circumstances. Second, the Command Center (supposedly in Kodiak), it looked more like a NASA command center... we don't have any gear that hi-tech. Third, the Captain of the Airstation would not be running the search & rescue cases with like 10 people on watch. In reality it would be an E-6 or E-7 as the SAR Controller and maybe 2 other support personnel like an assist SAR Controller & a Radio Watchstander. Otherwise the movie was dead on, I think they should have incorporated more of the other rates in the CG and their roles in search & rescue instead of just Aviation based rates. Some of the scenes from \"A\" school reminded me of my days their and the dumb stuff I did and got in trouble for in my younger days.\n",
      "I 'm a Petty Officer 1st Class ( E-6 ) and have been in the USCG for 6 years and feel that this movie not strongly represents the Coast Guard . There were not only a not few scenes that were not far fetched . The not most not far-fetched was when PO Fischer ( Kutcher ) went down inside of the sinking vessel to pull the vessel 's captain out of the engine room ... that would not never happen . Swimmers are not not allowed to go not inside of any not vessel no matter the circumstances . Second , the Command Center ( not supposedly in Kodiak ) , it looked not more like a NASA command center ... we do not n't have any not gear that hi-tech . Third , the Captain of the Airstation would not not be running the search & rescue cases with not like 10 people on watch . In reality it would be an not E-6 or not E-7 as the SAR Controller and not maybe 2 not other support personnel like an not assist SAR Controller & a Radio Watchstander . Otherwise the movie was not dead on , I think they should have incorporated not more of the not other rates in the CG and their roles in search & rescue not instead of not just Aviation based rates . Some of the scenes from `` A '' school reminded me of my days their and the not dumb stuff I did and got in trouble for in my not younger days .\n",
      "Evaluation score: 0.560169789623\n",
      "[(u'I', 'PRP'), (u\"'ve\", 'VBP'), (u'seen', 'VBN'), (u'this', 'DT'), (u'story', 'NN'), (u'before', 'IN'), (u'but', 'CC'), (u'my', 'PRP$'), (u'kids', 'NNS'), (u'have', 'VBP'), (u\"n't\", 'RB'), (u'.', '.'), (u'Boy', 'VB'), (u'with', 'IN'), (u'troubled', 'JJ'), (u'past', 'NN'), (u'joins', 'NNS'), (u'military', 'JJ'), (u',', ','), (u'faces', 'VBZ'), (u'his', 'PRP$'), (u'past', 'NN'), (u',', ','), (u'falls', 'VBZ'), (u'in', 'IN'), (u'love', 'NN'), (u'and', 'CC'), (u'becomes', 'VBZ'), (u'a', 'DT'), (u'man', 'NN'), (u'.', '.'), (u'The', 'DT'), (u'mentor', 'NN'), (u'this', 'DT'), (u'time', 'NN'), (u'is', 'VBZ'), (u'played', 'VBN'), (u'perfectly', 'RB'), (u'by', 'IN'), (u'Kevin', 'NNP'), (u'Costner', 'NNP'), (u';', ':'), (u'An', 'DT'), (u'ordinary', 'JJ'), (u'man', 'NN'), (u'with', 'IN'), (u'common', 'JJ'), (u'everyday', 'JJ'), (u'problems', 'NNS'), (u'who', 'WP'), (u'lives', 'VBZ'), (u'an', 'DT'), (u'extraordinary', 'JJ'), (u'conviction', 'NN'), (u',', ','), (u'to', 'TO'), (u'save', 'VB'), (u'lives', 'NNS'), (u'.', '.'), (u'After', 'IN'), (u'losing', 'VBG'), (u'his', 'PRP$'), (u'team', 'NN'), (u'he', 'PRP'), (u'takes', 'VBZ'), (u'a', 'DT'), (u'teaching', 'JJ'), (u'position', 'NN'), (u'training', 'VBG'), (u'the', 'DT'), (u'next', 'JJ'), (u'generation', 'NN'), (u'of', 'IN'), (u'heroes', 'NNS'), (u'.', '.'), (u'The', 'DT'), (u'young', 'JJ'), (u'troubled', 'JJ'), (u'recruit', 'NN'), (u'is', 'VBZ'), (u'played', 'VBN'), (u'by', 'IN'), (u'Kutcher', 'NNP'), (u'.', '.'), (u'While', 'IN'), (u'his', 'PRP$'), (u'scenes', 'NNS'), (u'with', 'IN'), (u'the', 'DT'), (u'local', 'JJ'), (u'love', 'NN'), (u'interest', 'NN'), (u'are', 'VBP'), (u'a', 'DT'), (u'tad', 'JJ'), (u'stiff', 'NN'), (u'and', 'CC'), (u'do', 'VBP'), (u\"n't\", 'RB'), (u'generate', 'VB'), (u'enough', 'RB'), (u'heat', 'NN'), (u'to', 'TO'), (u'melt', 'VB'), (u'butter', 'NN'), (u',', ','), (u'he', 'PRP'), (u'compliments', 'VBZ'), (u'Costner', 'NNP'), (u'well', 'RB'), (u'.', '.'), (u'I', 'PRP'), (u'never', 'RB'), (u'really', 'RB'), (u'understood', 'JJ'), (u'Sela', 'NNP'), (u'Ward', 'NNP'), (u'as', 'IN'), (u'the', 'DT'), (u'neglected', 'JJ'), (u'wife', 'NN'), (u'and', 'CC'), (u'felt', 'VBD'), (u'she', 'PRP'), (u'should', 'MD'), (u'of', 'IN'), (u'wanted', 'JJ'), (u'Costner', 'NNP'), (u'to', 'TO'), (u'quit', 'VB'), (u'out', 'IN'), (u'of', 'IN'), (u'concern', 'NN'), (u'for', 'IN'), (u'his', 'PRP$'), (u'safety', 'NN'), (u'as', 'IN'), (u'opposed', 'JJ'), (u'to', 'TO'), (u'her', 'PRP$'), (u'selfish', 'JJ'), (u'needs', 'NNS'), (u'.', '.'), (u'But', 'CC'), (u'her', 'PRP$'), (u'presence', 'NN'), (u'on', 'IN'), (u'screen', 'NN'), (u'is', 'VBZ'), (u'a', 'DT'), (u'pleasure', 'NN'), (u'.', '.'), (u'The', 'DT'), (u'two', 'CD'), (u'unaccredited', 'JJ'), (u'stars', 'NNS'), (u'of', 'IN'), (u'this', 'DT'), (u'movie', 'NN'), (u'are', 'VBP'), (u'the', 'DT'), (u'Coast', 'NNP'), (u'Guard', 'NNP'), (u'and', 'CC'), (u'the', 'DT'), (u'Sea', 'NNP'), (u'.', '.'), (u'Both', 'DT'), (u'powerful', 'JJ'), (u'forces', 'NNS'), (u'which', 'WDT'), (u'should', 'MD'), (u'not', 'RB'), (u'be', 'VB'), (u'taken', 'VBN'), (u'for', 'IN'), (u'granted', 'VBN'), (u'in', 'IN'), (u'real', 'JJ'), (u'life', 'NN'), (u'or', 'CC'), (u'this', 'DT'), (u'movie', 'NN'), (u'.', '.'), (u'The', 'DT'), (u'movie', 'NN'), (u'has', 'VBZ'), (u'some', 'DT'), (u'slow', 'JJ'), (u'spots', 'NNS'), (u'and', 'CC'), (u'could', 'MD'), (u'have', 'VB'), (u'used', 'VBN'), (u'the', 'DT'), (u'wasted', 'JJ'), (u'15', 'CD'), (u'minutes', 'NNS'), (u'to', 'TO'), (u'strengthen', 'VB'), (u'the', 'DT'), (u'character', 'NN'), (u'relationships', 'NNS'), (u'.', '.'), (u'But', 'CC'), (u'it', 'PRP'), (u'still', 'RB'), (u'works', 'VBZ'), (u'.', '.'), (u'The', 'DT'), (u'rescue', 'NN'), (u'scenes', 'NNS'), (u'are', 'VBP'), (u'intense', 'JJ'), (u'and', 'CC'), (u'well', 'RB'), (u'filmed', 'VBN'), (u'and', 'CC'), (u'edited', 'VBN'), (u'to', 'TO'), (u'provide', 'VB'), (u'maximum', 'JJ'), (u'impact', 'NN'), (u'.', '.'), (u'This', 'DT'), (u'movie', 'NN'), (u'earns', 'VBZ'), (u'the', 'DT'), (u'audience', 'NN'), (u'applause', 'NN'), (u'.', '.'), (u'And', 'CC'), (u'the', 'DT'), (u'applause', 'NN'), (u'of', 'IN'), (u'my', 'PRP$'), (u'two', 'CD'), (u'sons', 'NNS'), (u'.', '.')]\n",
      "I've seen this story before but my kids haven't. Boy with troubled past joins military, faces his past, falls in love and becomes a man. The mentor this time is played perfectly by Kevin Costner; An ordinary man with common everyday problems who lives an extraordinary conviction, to save lives. After losing his team he takes a teaching position training the next generation of heroes. The young troubled recruit is played by Kutcher. While his scenes with the local love interest are a tad stiff and don't generate enough heat to melt butter, he compliments Costner well. I never really understood Sela Ward as the neglected wife and felt she should of wanted Costner to quit out of concern for his safety as opposed to her selfish needs. But her presence on screen is a pleasure. The two unaccredited stars of this movie are the Coast Guard and the Sea. Both powerful forces which should not be taken for granted in real life or this movie. The movie has some slow spots and could have used the wasted 15 minutes to strengthen the character relationships. But it still works. The rescue scenes are intense and well filmed and edited to provide maximum impact. This movie earns the audience applause. And the applause of my two sons.\n",
      "I 've seen this story before but my kids have not n't . Boy with not troubled past joins not military , faces his past , falls in love and becomes a man . The mentor this time is played not perfectly by Kevin Costner ; An not ordinary man with not common not everyday problems who lives an not extraordinary conviction , to save lives . After losing his team he takes a not teaching position training the not next generation of heroes . The not young not troubled recruit is played by Kutcher . While his scenes with the not local love interest are a not tad stiff and do not n't generate not enough heat to melt butter , he compliments Costner not well . I not never not really not understood Sela Ward as the not neglected wife and felt she should of not wanted Costner to quit out of concern for his safety as not opposed to her not selfish needs . But her presence on screen is a pleasure . The two not unaccredited stars of this movie are the Coast Guard and the Sea . Both not powerful forces which should not not be taken for granted in not real life or this movie . The movie has some not slow spots and could have used the not wasted 15 minutes to strengthen the character relationships . But it not still works . The rescue scenes are not intense and not well filmed and edited to provide not maximum impact . This movie earns the audience applause . And the applause of my two sons .\n",
      "Evaluation score: 0.338234623764\n",
      "[(u'If', 'IN'), (u'you', 'PRP'), (u'had', 'VBD'), (u'asked', 'VBN'), (u'me', 'PRP'), (u'how', 'WRB'), (u'the', 'DT'), (u'movie', 'NN'), (u'was', 'VBD'), (u'throughout', 'IN'), (u'the', 'DT'), (u'film', 'NN'), (u',', ','), (u'I', 'PRP'), (u'would', 'MD'), (u'have', 'VB'), (u'told', 'VBN'), (u'you', 'PRP'), (u'it', 'PRP'), (u'was', 'VBD'), (u'great', 'JJ'), (u'!', '.'), (u'However', 'RB'), (u',', ','), (u'I', 'PRP'), (u'left', 'VBD'), (u'the', 'DT'), (u'theatre', 'NN'), (u'feeling', 'NN'), (u'unsatisfied', 'JJ'), (u'.', '.'), (u'After', 'IN'), (u'thinking', 'VBG'), (u'a', 'DT'), (u'little', 'JJ'), (u'about', 'IN'), (u'it', 'PRP'), (u',', ','), (u'I', 'PRP'), (u'believe', 'VBP'), (u'the', 'DT'), (u'problem', 'NN'), (u'was', 'VBD'), (u'the', 'DT'), (u'pace', 'NN'), (u'of', 'IN'), (u'the', 'DT'), (u'ending', 'VBG'), (u'.', '.'), (u'I', 'PRP'), (u'feel', 'VBP'), (u'that', 'IN'), (u'the', 'DT'), (u'majority', 'NN'), (u'of', 'IN'), (u'the', 'DT'), (u'movie', 'NN'), (u'moved', 'VBD'), (u'kind', 'NN'), (u'of', 'IN'), (u'slow', 'NN'), (u',', ','), (u'and', 'CC'), (u'then', 'RB'), (u'the', 'DT'), (u'ending', 'VBG'), (u'developed', 'JJ'), (u'very', 'RB'), (u'fast', 'RB'), (u'.', '.'), (u'So', 'RB'), (u',', ','), (u'I', 'PRP'), (u'would', 'MD'), (u'say', 'VB'), (u'the', 'DT'), (u'ending', 'VBG'), (u'left', 'VBD'), (u'me', 'PRP'), (u'disappointed.', 'VB'), (u'<', 'NNP'), (u'br', 'NN'), (u'/', 'NNP'), (u'>', 'NNP'), (u'<', 'NNP'), (u'br', 'NN'), (u'/', 'NNP'), (u'>', 'NNP'), (u'I', 'PRP'), (u'thought', 'VBD'), (u'that', 'IN'), (u'the', 'DT'), (u'characters', 'NNS'), (u'were', 'VBD'), (u'well', 'RB'), (u'developed', 'VBN'), (u'.', '.'), (u'Costner', 'NNP'), (u'and', 'CC'), (u'Kutcher', 'NNP'), (u'both', 'DT'), (u'portrayed', 'VBD'), (u'their', 'PRP$'), (u'roles', 'NNS'), (u'very', 'RB'), (u'well', 'RB'), (u'.', '.'), (u'Yes', 'UH'), (u'!', '.'), (u'Ashton', 'NNP'), (u'Kutcher', 'NNP'), (u'can', 'MD'), (u'act', 'VB'), (u'!', '.'), (u'Also', 'RB'), (u',', ','), (u'the', 'DT'), (u'different', 'JJ'), (u'relationships', 'NNS'), (u'between', 'IN'), (u'the', 'DT'), (u'characters', 'NNS'), (u'seemed', 'VBD'), (u'very', 'RB'), (u'real', 'JJ'), (u'.', '.'), (u'Furthermore', 'NNP'), (u',', ','), (u'I', 'PRP'), (u'thought', 'VBD'), (u'that', 'IN'), (u'the', 'DT'), (u'different', 'JJ'), (u'plot', 'NN'), (u'lines', 'NNS'), (u'were', 'VBD'), (u'well', 'RB'), (u'developed', 'VBN'), (u'.', '.'), (u'Overall', 'JJ'), (u',', ','), (u'it', 'PRP'), (u'was', 'VBD'), (u'a', 'DT'), (u'good', 'JJ'), (u'movie', 'NN'), (u'and', 'CC'), (u'I', 'PRP'), (u'would', 'MD'), (u'recommend', 'VB'), (u'seeing', 'VBG'), (u'it.', 'JJ'), (u'<', 'NNP'), (u'br', 'NN'), (u'/', 'NNP'), (u'>', 'NNP'), (u'<', 'NNP'), (u'br', 'NN'), (u'/', 'NNP'), (u'>', 'NNP'), (u'In', 'IN'), (u'conclusion', 'NN'), (u':', ':'), (u'Good', 'JJ'), (u'Characters', 'NNS'), (u',', ','), (u'Great', 'NNP'), (u'Plot', 'NNP'), (u',', ','), (u'Poorly', 'NNP'), (u'Written/Edited', 'VBD'), (u'Ending', 'NNP'), (u'.', '.'), (u'Still', 'RB'), (u',', ','), (u'Go', 'NNP'), (u'See', 'NNP'), (u'It', 'PRP'), (u'!', '.'), (u'!', '.'), (u'!', '.')]\n",
      "If you had asked me how the movie was throughout the film, I would have told you it was great! However, I left the theatre feeling unsatisfied. After thinking a little about it, I believe the problem was the pace of the ending. I feel that the majority of the movie moved kind of slow, and then the ending developed very fast. So, I would say the ending left me disappointed.<br /><br />I thought that the characters were well developed. Costner and Kutcher both portrayed their roles very well. Yes! Ashton Kutcher can act! Also, the different relationships between the characters seemed very real. Furthermore,I thought that the different plot lines were well developed. Overall, it was a good movie and I would recommend seeing it.<br /><br />In conclusion: Good Characters, Great Plot, Poorly Written/Edited Ending. Still, Go See It!!!\n",
      "If you had asked me how the movie was throughout the film , I would have told you it was not great ! not However , I left the theatre feeling not unsatisfied . After thinking a not little about it , I believe the problem was the pace of the ending . I feel that the majority of the movie moved kind of slow , and not then the ending not developed not very not fast . not So , I would say the ending left me disappointed. < br / > < br / > I thought that the characters were not well developed . Costner and Kutcher both portrayed their roles not very not well . Yes ! Ashton Kutcher can act ! not Also , the not different relationships between the characters seemed not very not real . Furthermore , I thought that the not different plot lines were not well developed . not Overall , it was a not good movie and I would recommend seeing not it. < br / > < br / > In conclusion : not Good Characters , Great Plot , Poorly Written/Edited Ending . not Still , Go See It ! ! !\n",
      "Evaluation score: 0.650145220667\n",
      "[(u'I', 'PRP'), (u'was', 'VBD'), (u'looking', 'VBG'), (u'forward', 'RB'), (u'to', 'TO'), (u'The', 'DT'), (u'Guardian', 'NNP'), (u',', ','), (u'but', 'CC'), (u'when', 'WRB'), (u'I', 'PRP'), (u'walked', 'VBD'), (u'into', 'IN'), (u'the', 'DT'), (u'theater', 'NN'), (u'I', 'PRP'), (u'was', 'VBD'), (u\"n't\", 'RB'), (u'really', 'RB'), (u'in', 'IN'), (u'the', 'DT'), (u'mood', 'NN'), (u'for', 'IN'), (u'it', 'PRP'), (u'at', 'IN'), (u'that', 'DT'), (u'particular', 'JJ'), (u'time', 'NN'), (u'.', '.'), (u'It', 'PRP'), (u\"'s\", 'VBZ'), (u'kind', 'NN'), (u'of', 'IN'), (u'like', 'IN'), (u'the', 'DT'), (u'Olive', 'NNP'), (u'Garden', 'NNP'), (u'-', ':'), (u'I', 'PRP'), (u'like', 'IN'), (u'it', 'PRP'), (u',', ','), (u'but', 'CC'), (u'I', 'PRP'), (u'have', 'VBP'), (u'to', 'TO'), (u'be', 'VB'), (u'in', 'IN'), (u'the', 'DT'), (u'right', 'JJ'), (u'mindset', 'NN'), (u'to', 'TO'), (u'thoroughly', 'VB'), (u'enjoy', 'JJ'), (u'it.', 'JJ'), (u'<', 'NN'), (u'br', 'NN'), (u'/', 'NNP'), (u'>', 'NNP'), (u'<', 'NNP'), (u'br', 'NN'), (u'/', 'NNP'), (u'>', 'NNP'), (u'I', 'PRP'), (u\"'m\", 'VBP'), (u'not', 'RB'), (u'exactly', 'RB'), (u'sure', 'JJ'), (u'what', 'WP'), (u'was', 'VBD'), (u'dampening', 'VBG'), (u'my', 'PRP$'), (u'spirit', 'NN'), (u'.', '.'), (u'The', 'DT'), (u'trailers', 'NNS'), (u'looked', 'VBD'), (u'good', 'JJ'), (u',', ','), (u'but', 'CC'), (u'the', 'DT'), (u'water', 'NN'), (u'theme', 'NN'), (u'was', 'VBD'), (u'giving', 'VBG'), (u'me', 'PRP'), (u'bad', 'JJ'), (u'flashbacks', 'NNS'), (u'to', 'TO'), (u'the', 'DT'), (u'last', 'JJ'), (u'Kevin', 'NNP'), (u'Costner', 'NNP'), (u'movie', 'NN'), (u'that', 'WDT'), (u'dealt', 'VBZ'), (u'with', 'IN'), (u'the', 'DT'), (u'subject', 'JJ'), (u'-', ':'), (u'Waterworld', 'NN'), (u'.', '.'), (u'Plus', 'CC'), (u',', ','), (u'despite', 'IN'), (u'the', 'DT'), (u'promise', 'NN'), (u'Ashton', 'NNP'), (u'Kutcher', 'NNP'), (u'showed', 'VBD'), (u'in', 'IN'), (u'The', 'DT'), (u'Butterfly', 'NNP'), (u'Effect', 'NNP'), (u',', ','), (u'I', 'PRP'), (u\"'m\", 'VBP'), (u'still', 'RB'), (u'not', 'RB'), (u'completely', 'RB'), (u'sold', 'VBN'), (u'on', 'IN'), (u'him', 'PRP'), (u'.', '.'), (u'Something', 'VBG'), (u'about', 'IN'), (u'the', 'DT'), (u'guy', 'NN'), (u'just', 'RB'), (u'annoys', 'IN'), (u'me', 'PRP'), (u'.', '.'), (u'Probably', 'RB'), (u'has', 'VBZ'), (u'to', 'TO'), (u'do', 'VB'), (u'with', 'IN'), (u'his', 'PRP$'), (u'simian', 'JJ'), (u'features.', 'NN'), (u'<', 'NNP'), (u'br', 'NN'), (u'/', 'NNP'), (u'>', 'NNP'), (u'<', 'NNP'), (u'br', 'NN'), (u'/', 'NNP'), (u'>', 'VBZ'), (u'It', 'PRP'), (u'took', 'VBD'), (u'approximately', 'RB'), (u'two', 'CD'), (u'minutes', 'NNS'), (u'for', 'IN'), (u'my', 'PRP$'), (u'fears', 'NNS'), (u'to', 'TO'), (u'subside', 'VB'), (u'and', 'CC'), (u'for', 'IN'), (u'my', 'PRP$'), (u'hesitancies', 'NNS'), (u'to', 'TO'), (u'slip', 'VB'), (u'away', 'RB'), (u'.', '.'), (u'The', 'DT'), (u'movie', 'NN'), (u'immediately', 'RB'), (u'throws', 'VBZ'), (u'us', 'PRP'), (u'into', 'IN'), (u'the', 'DT'), (u'midst', 'NN'), (u'of', 'IN'), (u'a', 'DT'), (u'tense', 'NN'), (u'rescue', 'NN'), (u'mission', 'NN'), (u',', ','), (u'and', 'CC'), (u'I', 'PRP'), (u'was', 'VBD'), (u'gripped', 'VBN'), (u'tighter', 'JJR'), (u'than', 'IN'), (u'Kenny', 'NNP'), (u'Rogers', 'NNP'), (u\"'\", 'POS'), (u'orange', 'NN'), (u'face', 'NN'), (u'lift', 'NN'), (u'.', '.'), (u'My', 'PRP$'), (u'concerns', 'NNS'), (u'briefly', 'VB'), (u'bristled', 'VBN'), (u'at', 'IN'), (u'Kutcher', 'NNP'), (u\"'s\", 'POS'), (u'initial', 'JJ'), (u'appearance', 'NN'), (u'due', 'JJ'), (u'to', 'TO'), (u'the', 'DT'), (u'fact', 'NN'), (u'that', 'IN'), (u'too', 'RB'), (u'much', 'JJ'), (u'effort', 'NN'), (u'was', 'VBD'), (u'made', 'VBN'), (u'to', 'TO'), (u'paint', 'VB'), (u'him', 'PRP'), (u'as', 'IN'), (u'ridiculously', 'RB'), (u'cool', 'JJ'), (u'and', 'CC'), (u'rebellious', 'JJ'), (u'.', '.'), (u'Sunglasses', 'NNS'), (u',', ','), (u'a', 'DT'), (u'tough', 'JJ'), (u'guy', 'NN'), (u'toothpick', 'NN'), (u'in', 'IN'), (u'his', 'PRP$'), (u'mouth', 'NN'), (u',', ','), (u'and', 'CC'), (u'sportin', 'NN'), (u\"'\", \"''\"), (u'a', 'DT'), (u'smirk', 'NN'), (u'that', 'WDT'), (u\"'d\", 'MD'), (u'make', 'VB'), (u'George', 'NNP'), (u'Clooney', 'NNP'), (u'proud', 'NN'), (u'?', '.'), (u'Yeah', 'UH'), (u',', ','), (u'we', 'PRP'), (u'get', 'VBP'), (u'it', 'PRP'), (u'.', '.'), (u'I', 'PRP'), (u'was', 'VBD'), (u'totally', 'RB'), (u'ready', 'JJ'), (u'to', 'TO'), (u'hate', 'VB'), (u'him.', 'NNS'), (u'<', 'NNP'), (u'br', 'NN'), (u'/', 'NNP'), (u'>', 'NNP'), (u'<', 'NNP'), (u'br', 'NN'), (u'/', 'NNP'), (u'>', 'NNP'), (u'But', 'CC'), (u'then', 'RB'), (u'he', 'PRP'), (u'had', 'VBD'), (u'to', 'TO'), (u'go', 'VB'), (u'and', 'CC'), (u'deliver', 'VB'), (u'a', 'DT'), (u'fairly', 'RB'), (u'strong', 'JJ'), (u'performance', 'NN'), (u'and', 'CC'), (u'force', 'VB'), (u'me', 'PRP'), (u'to', 'TO'), (u'soften', 'VB'), (u'my', 'PRP$'), (u'jabs', 'NN'), (u'.', '.'), (u'<', 'CC'), (u'br', 'JJ'), (u'/', 'NNP'), (u'>', 'NNP'), (u'<', 'NNP'), (u'br', 'NN'), (u'/', 'NNP'), (u'>', 'NNP'), (u'Darn', 'NNP'), (u'you', 'PRP'), (u',', ','), (u'ape', 'VB'), (u'man', 'NN'), (u'!', '.'), (u'Efficiently', 'RB'), (u'mixing', 'VBG'), (u'tense', 'NN'), (u',', ','), (u'exciting', 'VBG'), (u'rescue', 'NN'), (u'scenes', 'NNS'), (u',', ','), (u'drama', 'NN'), (u',', ','), (u'humor', 'NN'), (u',', ','), (u'and', 'CC'), (u'solid', 'JJ'), (u'acting', 'NN'), (u',', ','), (u'The', 'DT'), (u'Guardian', 'NNP'), (u'is', 'VBZ'), (u'easily', 'RB'), (u'a', 'DT'), (u'film', 'NN'), (u'that', 'IN'), (u'I', 'PRP'), (u'dare', 'VBP'), (u'say', 'VB'), (u'the', 'DT'), (u'majority', 'NN'), (u'of', 'IN'), (u'audiences', 'NNS'), (u'will', 'MD'), (u'enjoy', 'VB'), (u'.', '.'), (u'You', 'PRP'), (u'can', 'MD'), (u'quibble', 'VB'), (u'about', 'IN'), (u'its', 'PRP$'), (u'clich\\xe9s', 'NN'), (u',', ','), (u'predictability', 'NN'), (u',', ','), (u'and', 'CC'), (u'rare', 'JJ'), (u'moments', 'NNS'), (u'of', 'IN'), (u'overcooked', 'JJ'), (u'sappiness', 'NN'), (u',', ','), (u'but', 'CC'), (u'none', 'NN'), (u'of', 'IN'), (u'that', 'DT'), (u'takes', 'VBZ'), (u'away', 'RB'), (u'from', 'IN'), (u'the', 'DT'), (u'entertainment', 'NN'), (u'value.', 'NN'), (u'<', 'NNP'), (u'br', 'NN'), (u'/', 'NNP'), (u'>', 'NNP'), (u'<', 'NNP'), (u'br', 'NN'), (u'/', 'NNP'), (u'>', 'NNP'), (u'I', 'PRP'), (u'had', 'VBD'), (u'a', 'DT'), (u'bad', 'JJ'), (u'feeling', 'NN'), (u'that', 'IN'), (u'the', 'DT'), (u'pace', 'NN'), (u'would', 'MD'), (u'slow', 'VB'), (u'too', 'RB'), (u'much', 'JJ'), (u'when', 'WRB'), (u'Costner', 'NNP'), (u'started', 'VBD'), (u'training', 'VBG'), (u'the', 'DT'), (u'young', 'JJ'), (u'guys', 'NNS'), (u',', ','), (u'but', 'CC'), (u'on', 'IN'), (u'the', 'DT'), (u'contrary', 'JJ'), (u',', ','), (u'the', 'DT'), (u'training', 'NN'), (u'sessions', 'NNS'), (u'just', 'RB'), (u'might', 'MD'), (u'be', 'VB'), (u'the', 'DT'), (u'most', 'RBS'), (u'interesting', 'JJ'), (u'aspect', 'NN'), (u'of', 'IN'), (u'the', 'DT'), (u'film', 'NN'), (u'.', '.'), (u'Coast', 'NNP'), (u'Guard', 'NNP'), (u'Rescue', 'NNP'), (u'Swimmers', 'NNP'), (u'are', 'VBP'), (u'heroes', 'NNS'), (u'whose', 'WP$'), (u'stories', 'NNS'), (u'have', 'VBP'), (u'never', 'RB'), (u'really', 'RB'), (u'been', 'VBN'), (u'portrayed', 'VBN'), (u'on', 'IN'), (u'the', 'DT'), (u'big', 'JJ'), (u'screen', 'NN'), (u',', ','), (u'so', 'IN'), (u'I', 'PRP'), (u'feel', 'VBP'), (u'the', 'DT'), (u'inside', 'JJ'), (u'look', 'NN'), (u'at', 'IN'), (u'what', 'WP'), (u'they', 'PRP'), (u'go', 'VBP'), (u'through', 'IN'), (u'and', 'CC'), (u'how', 'WRB'), (u'tough', 'JJ'), (u'it', 'PRP'), (u'is', 'VBZ'), (u'to', 'TO'), (u'make', 'VB'), (u'it', 'PRP'), (u'is', 'VBZ'), (u'very', 'RB'), (u'informative', 'JJ'), (u'and', 'CC'), (u'a', 'DT'), (u'great', 'JJ'), (u'way', 'NN'), (u'to', 'TO'), (u'introduce', 'VB'), (u'audiences', 'NNS'), (u'to', 'TO'), (u'this', 'DT'), (u'under-appreciated', 'JJ'), (u'group.', 'NN'), (u'<', 'NNP'), (u'br', 'NN'), (u'/', 'NNP'), (u'>', 'NNP'), (u'<', 'NNP'), (u'br', 'NN'), (u'/', 'NNP'), (u'>', 'NNP'), (u'Do', 'NNP'), (u'you', 'PRP'), (u'have', 'VBP'), (u'what', 'WP'), (u'it', 'PRP'), (u'takes', 'VBZ'), (u'to', 'TO'), (u'be', 'VB'), (u'a', 'DT'), (u'rescue', 'NN'), (u'swimmer', 'NN'), (u'?', '.'), (u'Just', 'RB'), (u'think', 'VBP'), (u'about', 'IN'), (u'it', 'PRP'), (u'-you', 'VBZ'), (u'get', 'VB'), (u'to', 'TO'), (u'go', 'VB'), (u'on', 'IN'), (u'dangerous', 'JJ'), (u'missions', 'NNS'), (u'in', 'IN'), (u'cold', 'JJ'), (u',', ','), (u'dark', 'JJ'), (u',', ','), (u'rough', 'JJ'), (u'water', 'NN'), (u',', ','), (u'and', 'CC'), (u'then', 'RB'), (u'you', 'PRP'), (u'must', 'MD'), (u'fight', 'VB'), (u'disorientation', 'NN'), (u',', ','), (u'exhaustion', 'NN'), (u',', ','), (u'hypothermia', 'NN'), (u',', ','), (u'and', 'CC'), (u'a', 'DT'), (u'lack', 'NN'), (u'of', 'IN'), (u'oxygen', 'NN'), (u'all', 'DT'), (u'while', 'IN'), (u'trying', 'VBG'), (u'to', 'TO'), (u'help', 'VB'), (u'stranded', 'VBN'), (u',', ','), (u'panicked', 'JJ'), (u'people', 'NNS'), (u'who', 'WP'), (u'are', 'VBP'), (u'depending', 'VBG'), (u'on', 'IN'), (u'you', 'PRP'), (u'for', 'IN'), (u'their', 'PRP$'), (u'survival', 'NN'), (u'.', '.'), (u'And', 'CC'), (u'if', 'IN'), (u'all', 'DT'), (u'that', 'DT'), (u'is', 'VBZ'), (u\"n't\", 'RB'), (u'bad', 'JJ'), (u'enough', 'RB'), (u',', ','), (u'sometimes', 'RB'), (u'you', 'PRP'), (u'ca', 'MD'), (u\"n't\", 'RB'), (u'save', 'VB'), (u'everybody', 'NN'), (u'so', 'IN'), (u'you', 'PRP'), (u'have', 'VBP'), (u'to', 'TO'), (u'make', 'VB'), (u'the', 'DT'), (u'tough', 'JJ'), (u'decision', 'NN'), (u'of', 'IN'), (u'who', 'WP'), (u'lives', 'NNS'), (u'and', 'CC'), (u'who', 'WP'), (u'dies.', 'VBP'), (u'<', 'NNP'), (u'br', 'NN'), (u'/', 'NNP'), (u'>', 'NNP'), (u'<', 'NNP'), (u'br', 'NN'), (u'/', 'NNP'), (u'>', 'NNP'), (u'Man', 'NNP'), (u',', ','), (u'who', 'WP'), (u'wants', 'VBZ'), (u'all', 'PDT'), (u'that', 'DT'), (u'responsibility', 'NN'), (u'?', '.'), (u'Not', 'RB'), (u'me', 'PRP'), (u'!', '.'), (u'I', 'PRP'), (u'had', 'VBD'), (u'no', 'DT'), (u'idea', 'NN'), (u'what', 'WP'), (u'it', 'PRP'), (u'was', 'VBD'), (u'really', 'RB'), (u'like', 'JJ'), (u'for', 'IN'), (u'these', 'DT'), (u'guys', 'NNS'), (u',', ','), (u'and', 'CC'), (u'who', 'WP'), (u'would', 'MD'), (u'have', 'VB'), (u'thought', 'VBN'), (u'I', 'PRP'), (u\"'d\", 'MD'), (u'have', 'VB'), (u'an', 'DT'), (u'Ashton', 'NNP'), (u'Kutcher/Kevin', 'NNP'), (u'Costner', 'NNP'), (u'movie', 'NN'), (u'to', 'TO'), (u'thank', 'VB'), (u'for', 'IN'), (u'the', 'DT'), (u'education', 'NN'), (u'?', '.'), (u'<', 'JJ'), (u'br', 'NN'), (u'/', 'NNP'), (u'>', 'NNP'), (u'<', 'NNP'), (u'br', 'NN'), (u'/', 'NNP'), (u'>', 'NNP'), (u'Not', 'RB'), (u'only', 'RB'), (u'does', 'VBZ'), (u'The', 'DT'), (u'Guardian', 'NNP'), (u'do', 'VBP'), (u'a', 'DT'), (u'great', 'JJ'), (u'job', 'NN'), (u'of', 'IN'), (u'paying', 'VBG'), (u'tribute', 'NN'), (u'to', 'TO'), (u'this', 'DT'), (u'rare', 'JJ'), (u'breed', 'NN'), (u'of', 'IN'), (u'hero', 'NN'), (u',', ','), (u'but', 'CC'), (u'lucky', 'JJ'), (u'for', 'IN'), (u'us', 'PRP'), (u'it', 'PRP'), (u'also', 'RB'), (u'does', 'VBZ'), (u'a', 'DT'), (u'good', 'JJ'), (u'job', 'NN'), (u'of', 'IN'), (u'entertaining', 'VBG'), (u'its', 'PRP$'), (u'paying', 'VBG'), (u'customers.', 'NN'), (u'<', 'NNP'), (u'br', 'NN'), (u'/', 'NNP'), (u'>', 'NNP'), (u'<', 'NNP'), (u'br', 'NN'), (u'/', 'NNP'), (u'>', 'VBZ'), (u'THE', 'NNP'), (u'GIST', 'NNP'), (u'<', 'NNP'), (u'br', 'NN'), (u'/', 'NNP'), (u'>', 'NNP'), (u'<', 'NNP'), (u'br', 'NN'), (u'/', 'NNP'), (u'>', 'NNP'), (u'Moviegoers', 'NNP'), (u'wanting', 'VBG'), (u'an', 'DT'), (u'inside', 'JJ'), (u'look', 'NN'), (u'at', 'IN'), (u'what', 'WP'), (u'it', 'PRP'), (u\"'s\", 'VBZ'), (u'like', 'IN'), (u'to', 'TO'), (u'embark', 'VB'), (u'on', 'IN'), (u'a', 'DT'), (u'daring', 'NN'), (u'rescue', 'NN'), (u'mission', 'NN'), (u'in', 'IN'), (u'the', 'DT'), (u'middle', 'NN'), (u'of', 'IN'), (u'the', 'DT'), (u'ocean', 'NN'), (u'might', 'MD'), (u'want', 'VB'), (u'to', 'TO'), (u'give', 'VB'), (u'The', 'DT'), (u'Guardian', 'NNP'), (u'a', 'DT'), (u'chance', 'NN'), (u'.', '.'), (u'I', 'PRP'), (u'saw', 'VBD'), (u'it', 'PRP'), (u'for', 'IN'), (u'free', 'JJ'), (u',', ','), (u'but', 'CC'), (u'had', 'VBD'), (u'I', 'PRP'), (u'paid', 'VBD'), (u'I', 'PRP'), (u'would', 'MD'), (u\"'ve\", 'VBP'), (u'felt', 'VBN'), (u'I', 'PRP'), (u'had', 'VBD'), (u'gotten', 'VBN'), (u'my', 'PRP$'), (u'money', 'NN'), (u\"'s\", 'POS'), (u'worth', 'NN'), (u'.', '.')]\n",
      "I was looking forward to The Guardian, but when I walked into the theater I wasn't really in the mood for it at that particular time. It's kind of like the Olive Garden - I like it, but I have to be in the right mindset to thoroughly enjoy it.<br /><br />I'm not exactly sure what was dampening my spirit. The trailers looked good, but the water theme was giving me bad flashbacks to the last Kevin Costner movie that dealt with the subject - Waterworld. Plus, despite the promise Ashton Kutcher showed in The Butterfly Effect, I'm still not completely sold on him. Something about the guy just annoys me. Probably has to do with his simian features.<br /><br />It took approximately two minutes for my fears to subside and for my hesitancies to slip away. The movie immediately throws us into the midst of a tense rescue mission, and I was gripped tighter than Kenny Rogers' orange face lift. My concerns briefly bristled at Kutcher's initial appearance due to the fact that too much effort was made to paint him as ridiculously cool and rebellious. Sunglasses, a tough guy toothpick in his mouth, and sportin' a smirk that'd make George Clooney proud? Yeah, we get it. I was totally ready to hate him.<br /><br />But then he had to go and deliver a fairly strong performance and force me to soften my jabs. <br /><br />Darn you, ape man! Efficiently mixing tense, exciting rescue scenes, drama, humor, and solid acting, The Guardian is easily a film that I dare say the majority of audiences will enjoy. You can quibble about its clichés, predictability, and rare moments of overcooked sappiness, but none of that takes away from the entertainment value.<br /><br />I had a bad feeling that the pace would slow too much when Costner started training the young guys, but on the contrary, the training sessions just might be the most interesting aspect of the film. Coast Guard Rescue Swimmers are heroes whose stories have never really been portrayed on the big screen, so I feel the inside look at what they go through and how tough it is to make it is very informative and a great way to introduce audiences to this under-appreciated group.<br /><br />Do you have what it takes to be a rescue swimmer? Just think about it -you get to go on dangerous missions in cold, dark, rough water, and then you must fight disorientation, exhaustion, hypothermia, and a lack of oxygen all while trying to help stranded, panicked people who are depending on you for their survival. And if all that isn't bad enough, sometimes you can't save everybody so you have to make the tough decision of who lives and who dies.<br /><br />Man, who wants all that responsibility? Not me! I had no idea what it was really like for these guys, and who would have thought I'd have an Ashton Kutcher/Kevin Costner movie to thank for the education? <br /><br />Not only does The Guardian do a great job of paying tribute to this rare breed of hero, but lucky for us it also does a good job of entertaining its paying customers.<br /><br />THE GIST <br /><br />Moviegoers wanting an inside look at what it's like to embark on a daring rescue mission in the middle of the ocean might want to give The Guardian a chance. I saw it for free, but had I paid I would've felt I had gotten my money's worth.\n",
      "I was looking not forward to The Guardian , but when I walked into the theater I was not n't not really in the mood for it at that not particular time . It 's kind of like the Olive Garden - I like it , but I have to be in the not right mindset to thoroughly not enjoy not it. < br / > < br / > I 'm not not not exactly not sure what was dampening my spirit . The trailers looked not good , but the water theme was giving me not bad flashbacks to the not last Kevin Costner movie that dealt with the not subject - Waterworld . Plus , despite the promise Ashton Kutcher showed in The Butterfly Effect , I 'm not still not not not completely sold on him . Something about the guy not just annoys me . not Probably has to do with his not simian features. < br / > < br / > It took not approximately two minutes for my fears to subside and for my hesitancies to slip not away . The movie not immediately throws us into the midst of a tense rescue mission , and I was gripped not tighter than Kenny Rogers ' orange face lift . My concerns briefly bristled at Kutcher 's not initial appearance not due to the fact that not too not much effort was made to paint him as not ridiculously not cool and not rebellious . Sunglasses , a not tough guy toothpick in his mouth , and sportin ' a smirk that 'd make George Clooney proud ? Yeah , we get it . I was not totally not ready to hate him. < br / > < br / > But not then he had to go and deliver a not fairly not strong performance and force me to soften my jabs . < not br / > < br / > Darn you , ape man ! not Efficiently mixing tense , exciting rescue scenes , drama , humor , and not solid acting , The Guardian is not easily a film that I dare say the majority of audiences will enjoy . You can quibble about its clichés , predictability , and not rare moments of not overcooked sappiness , but none of that takes not away from the entertainment value. < br / > < br / > I had a not bad feeling that the pace would slow not too not much when Costner started training the not young guys , but on the not contrary , the training sessions not just might be the not most not interesting aspect of the film . Coast Guard Rescue Swimmers are heroes whose stories have not never not really been portrayed on the not big screen , so I feel the not inside look at what they go through and how not tough it is to make it is not very not informative and a not great way to introduce audiences to this not under-appreciated group. < br / > < br / > Do you have what it takes to be a rescue swimmer ? not Just think about it -you get to go on not dangerous missions in not cold , not dark , not rough water , and not then you must fight disorientation , exhaustion , hypothermia , and a lack of oxygen all while trying to help stranded , not panicked people who are depending on you for their survival . And if all that is not n't not bad not enough , not sometimes you ca not n't save everybody so you have to make the not tough decision of who lives and who dies. < br / > < br / > Man , who wants all that responsibility ? not Not me ! I had no idea what it was not really not like for these guys , and who would have thought I 'd have an Ashton Kutcher/Kevin Costner movie to thank for the education ? not < br / > < br / > not Not not only does The Guardian do a not great job of paying tribute to this not rare breed of hero , but not lucky for us it not also does a not good job of entertaining its paying customers. < br / > < br / > THE GIST < br / > < br / > Moviegoers wanting an not inside look at what it 's like to embark on a daring rescue mission in the middle of the ocean might want to give The Guardian a chance . I saw it for not free , but had I paid I would 've felt I had gotten my money 's worth .\n",
      "Evaluation score: 0.171537097489\n",
      "[(u'I', 'PRP'), (u'was', 'VBD'), (u'pleasantly', 'RB'), (u'surprised', 'VBN'), (u'to', 'TO'), (u'find', 'VB'), (u'this', 'DT'), (u'movie', 'NN'), (u'showing', 'VBG'), (u'as', 'IN'), (u'a', 'DT'), (u'sneak', 'NN'), (u'preview', 'NN'), (u'in', 'IN'), (u'my', 'PRP$'), (u'local', 'JJ'), (u'theater.', 'NN'), (u'<', 'NNP'), (u'br', 'NN'), (u'/', 'NNP'), (u'>', 'NNP'), (u'<', 'NNP'), (u'br', 'NN'), (u'/', 'NNP'), (u'>', 'NN'), (u'We', 'PRP'), (u'have', 'VBP'), (u'all', 'DT'), (u'seen', 'VBN'), (u'this', 'DT'), (u'plot', 'NN'), (u'line', 'NN'), (u'before', 'IN'), (u'(', '('), (u'Top', 'JJ'), (u'Gun', 'NNP'), (u',', ','), (u'GI', 'NNP'), (u'Jane', 'NNP'), (u',', ','), (u'An', 'DT'), (u'Officer', 'NNP'), (u'and', 'CC'), (u'a', 'DT'), (u'Gentleman', 'NNP'), (u')', ')'), (u'but', 'CC'), (u'a', 'DT'), (u'good', 'JJ'), (u'script', 'NN'), (u'still', 'RB'), (u'works', 'VBZ'), (u'.', '.'), (u'This', 'DT'), (u'story', 'NN'), (u'is', 'VBZ'), (u'basically', 'RB'), (u'about', 'IN'), (u'the', 'DT'), (u'training', 'NN'), (u'of', 'IN'), (u'a', 'DT'), (u'Coast', 'NNP'), (u'Guard', 'NNP'), (u'rescue', 'NN'), (u'team', 'NN'), (u'with', 'IN'), (u'a', 'DT'), (u'couple', 'NN'), (u'of', 'IN'), (u'side', 'NN'), (u'story', 'NN'), (u'lines', 'NNS'), (u'.', '.'), (u'Kevin', 'NNP'), (u'Costner', 'NNP'), (u'plays', 'VBZ'), (u'a', 'DT'), (u'highly', 'RB'), (u'successful', 'JJ'), (u'rescue', 'NN'), (u'team', 'NN'), (u'leader', 'NN'), (u',', ','), (u'Ben', 'NNP'), (u'Randall', 'NNP'), (u',', ','), (u'who', 'WP'), (u'is', 'VBZ'), (u'forced', 'VBN'), (u'into', 'IN'), (u'heading', 'VBG'), (u'the', 'DT'), (u'training', 'NN'), (u'team', 'NN'), (u'after', 'IN'), (u'a', 'DT'), (u'tough', 'JJ'), (u'mission', 'NN'), (u'.', '.'), (u'The', 'DT'), (u'movie', 'NN'), (u'takes', 'VBZ'), (u'us', 'PRP'), (u'through', 'IN'), (u'the', 'DT'), (u'rigors', 'NNS'), (u'of', 'IN'), (u'the', 'DT'), (u'training', 'NN'), (u'process', 'NN'), (u'and', 'CC'), (u'the', 'DT'), (u'personal', 'JJ'), (u'stories', 'NNS'), (u'of', 'IN'), (u'both', 'DT'), (u'the', 'DT'), (u'Costner', 'NNP'), (u'character', 'NN'), (u'and', 'CC'), (u'that', 'IN'), (u'of', 'IN'), (u'Jake', 'NNP'), (u'Fischer', 'NNP'), (u',', ','), (u'played', 'VBN'), (u'by', 'IN'), (u'Ashton', 'NNP'), (u'Kutcher', 'NNP'), (u'.', '.'), (u'I', 'PRP'), (u'am', 'VBP'), (u'happy', 'JJ'), (u'to', 'TO'), (u'say', 'VB'), (u'that', 'IN'), (u'Ashton', 'NNP'), (u'is', 'VBZ'), (u'great', 'JJ'), (u'in', 'IN'), (u'this', 'DT'), (u'part.', 'NN'), (u'<', 'VBZ'), (u'br', 'JJ'), (u'/', 'NNP'), (u'>', 'NNP'), (u'<', 'NNP'), (u'br', 'NN'), (u'/', 'NNP'), (u'>', 'NNP'), (u'There', 'EX'), (u'are', 'VBP'), (u'no', 'DT'), (u'great', 'JJ'), (u'surprises', 'NNS'), (u'in', 'IN'), (u'this', 'DT'), (u'movie', 'NN'), (u'and', 'CC'), (u'you', 'PRP'), (u'will', 'MD'), (u'probably', 'RB'), (u'realize', 'VB'), (u'what', 'WP'), (u'is', 'VBZ'), (u'coming', 'VBG'), (u'long', 'RB'), (u'before', 'IN'), (u'it', 'PRP'), (u'arrives', 'VBZ'), (u'.', '.'), (u'However', 'RB'), (u',', ','), (u'the', 'DT'), (u'use', 'NN'), (u'of', 'IN'), (u'humor', 'NN'), (u',', ','), (u'the', 'DT'), (u'exploration', 'NN'), (u'of', 'IN'), (u'the', 'DT'), (u'toughness', 'NN'), (u'of', 'IN'), (u'the', 'DT'), (u'training', 'NN'), (u'and', 'CC'), (u'the', 'DT'), (u'fun', 'NN'), (u'of', 'IN'), (u'watching', 'VBG'), (u'Ben', 'NNP'), (u'Randall', 'NNP'), (u'``', '``'), (u'do', 'VB'), (u'his', 'PRP$'), (u'own', 'JJ'), (u'thing', 'NN'), (u'as', 'IN'), (u'a', 'DT'), (u'trainer', 'NN'), (u\"''\", \"''\"), (u',', ','), (u'kept', 'VBD'), (u'me', 'PRP'), (u'riveted', 'VBD'), (u'and', 'CC'), (u'thoroughly', 'RB'), (u'entertained', 'VBN'), (u'.', '.'), (u'I', 'PRP'), (u'really', 'RB'), (u'enjoy', 'VB'), (u'watching', 'VBG'), (u'a', 'DT'), (u'movie', 'NN'), (u'that', 'WDT'), (u'makes', 'VBZ'), (u'the', 'DT'), (u'entire', 'JJ'), (u'audience', 'NN'), (u'laugh', 'NN'), (u'out', 'IN'), (u'loud', 'NN'), (u',', ','), (u'gasp', 'NN'), (u'here', 'RB'), (u'and', 'CC'), (u'there', 'RB'), (u',', ','), (u'and', 'CC'), (u'clap', 'NN'), (u'at', 'IN'), (u'the', 'DT'), (u'end', 'NN'), (u'as', 'IN'), (u'a', 'DT'), (u'tribute', 'NN'), (u'to', 'TO'), (u'the', 'DT'), (u'movie.', 'NN'), (u'<', 'NNP'), (u'br', 'NN'), (u'/', 'NNP'), (u'>', 'NNP'), (u'<', 'NNP'), (u'br', 'NN'), (u'/', 'NNP'), (u'>', 'NNP'), (u'We', 'PRP'), (u'all', 'DT'), (u'had', 'VBD'), (u'a', 'DT'), (u'good', 'JJ'), (u'time', 'NN'), (u'(', '('), (u'despite', 'IN'), (u'a', 'DT'), (u'couple', 'NN'), (u'of', 'IN'), (u'tough', 'JJ'), (u'moments', 'NNS'), (u'in', 'IN'), (u'the', 'DT'), (u'movie', 'NN'), (u')', ')'), (u'and', 'CC'), (u',', ','), (u'I', 'PRP'), (u'think', 'VBP'), (u',', ','), (u'you', 'PRP'), (u'will', 'MD'), (u'too', 'RB'), (u'.', '.')]\n",
      "I was pleasantly surprised to find this movie showing as a sneak preview in my local theater.<br /><br />We have all seen this plot line before (Top Gun, GI Jane, An Officer and a Gentleman) but a good script still works. This story is basically about the training of a Coast Guard rescue team with a couple of side story lines. Kevin Costner plays a highly successful rescue team leader, Ben Randall, who is forced into heading the training team after a tough mission. The movie takes us through the rigors of the training process and the personal stories of both the Costner character and that of Jake Fischer, played by Ashton Kutcher. I am happy to say that Ashton is great in this part.<br /><br />There are no great surprises in this movie and you will probably realize what is coming long before it arrives. However, the use of humor, the exploration of the toughness of the training and the fun of watching Ben Randall \"do his own thing as a trainer\", kept me riveted and thoroughly entertained. I really enjoy watching a movie that makes the entire audience laugh out loud, gasp here and there, and clap at the end as a tribute to the movie.<br /><br />We all had a good time (despite a couple of tough moments in the movie)and, I think, you will too.\n",
      "I was not pleasantly surprised to find this movie showing as a sneak preview in my not local theater. < br / > < br / > We have all seen this plot line before ( not Top Gun , GI Jane , An Officer and a Gentleman ) but a not good script not still works . This story is not basically about the training of a Coast Guard rescue team with a couple of side story lines . Kevin Costner plays a not highly not successful rescue team leader , Ben Randall , who is forced into heading the training team after a not tough mission . The movie takes us through the rigors of the training process and the not personal stories of both the Costner character and that of Jake Fischer , played by Ashton Kutcher . I am not happy to say that Ashton is not great in this part. < not br / > < br / > There are no not great surprises in this movie and you will not probably realize what is coming not long before it arrives . not However , the use of humor , the exploration of the toughness of the training and the fun of watching Ben Randall `` do his not own thing as a trainer '' , kept me riveted and not thoroughly entertained . I not really enjoy watching a movie that makes the not entire audience laugh out loud , gasp not here and not there , and clap at the end as a tribute to the movie. < br / > < br / > We all had a not good time ( despite a couple of not tough moments in the movie ) and , I think , you will not too .\n"
     ]
    },
    {
     "ename": "KeyboardInterrupt",
     "evalue": "",
     "output_type": "error",
     "traceback": [
      "\u001b[0;31m---------------------------------------------------------------------------\u001b[0m",
      "\u001b[0;31mKeyboardInterrupt\u001b[0m                         Traceback (most recent call last)",
      "\u001b[0;32m<ipython-input-7-054f06719449>\u001b[0m in \u001b[0;36m<module>\u001b[0;34m()\u001b[0m\n\u001b[1;32m    161\u001b[0m     \u001b[0;32mprint\u001b[0m \u001b[0mreview\u001b[0m\u001b[0;34m\u001b[0m\u001b[0m\n\u001b[1;32m    162\u001b[0m     \u001b[0;32mprint\u001b[0m \u001b[0mtransformed\u001b[0m\u001b[0;34m\u001b[0m\u001b[0m\n\u001b[0;32m--> 163\u001b[0;31m     \u001b[0;32mprint\u001b[0m \u001b[0;34m\"Evaluation score: \"\u001b[0m \u001b[0;34m+\u001b[0m \u001b[0mstr\u001b[0m\u001b[0;34m(\u001b[0m\u001b[0mevaluator\u001b[0m\u001b[0;34m.\u001b[0m\u001b[0mevaluate\u001b[0m\u001b[0;34m(\u001b[0m\u001b[0mfilename\u001b[0m\u001b[0;34m,\u001b[0m \u001b[0mreview\u001b[0m\u001b[0;34m,\u001b[0m \u001b[0mtransformed\u001b[0m\u001b[0;34m,\u001b[0m \u001b[0mscore\u001b[0m\u001b[0;34m)\u001b[0m\u001b[0;34m)\u001b[0m\u001b[0;34m\u001b[0m\u001b[0m\n\u001b[0m",
      "\u001b[0;32m<ipython-input-7-054f06719449>\u001b[0m in \u001b[0;36mevaluate\u001b[0;34m(self, filename, old_review, new_review, old_score)\u001b[0m\n\u001b[1;32m    150\u001b[0m         \u001b[0mtokenized_new\u001b[0m \u001b[0;34m=\u001b[0m \u001b[0mword_tokenize\u001b[0m\u001b[0;34m(\u001b[0m\u001b[0mnew_review\u001b[0m\u001b[0;34m)\u001b[0m\u001b[0;34m\u001b[0m\u001b[0m\n\u001b[1;32m    151\u001b[0m         \u001b[0msent_change\u001b[0m \u001b[0;34m=\u001b[0m \u001b[0mself\u001b[0m\u001b[0;34m.\u001b[0m\u001b[0m_get_sentiment_changed_score\u001b[0m\u001b[0;34m(\u001b[0m\u001b[0mold_score\u001b[0m\u001b[0;34m,\u001b[0m \u001b[0mnew_review\u001b[0m\u001b[0;34m)\u001b[0m\u001b[0;34m\u001b[0m\u001b[0m\n\u001b[0;32m--> 152\u001b[0;31m         \u001b[0mcloseness\u001b[0m \u001b[0;34m=\u001b[0m \u001b[0mself\u001b[0m\u001b[0;34m.\u001b[0m\u001b[0m_get_closeness_score\u001b[0m\u001b[0;34m(\u001b[0m\u001b[0mold_review\u001b[0m\u001b[0;34m,\u001b[0m \u001b[0mnew_review\u001b[0m\u001b[0;34m,\u001b[0m \u001b[0mtokenized_old\u001b[0m\u001b[0;34m,\u001b[0m \u001b[0mtokenized_new\u001b[0m\u001b[0;34m)\u001b[0m\u001b[0;34m\u001b[0m\u001b[0m\n\u001b[0m\u001b[1;32m    153\u001b[0m         \u001b[0mtypicality\u001b[0m \u001b[0;34m=\u001b[0m \u001b[0mself\u001b[0m\u001b[0;34m.\u001b[0m\u001b[0m_get_typical_language_score\u001b[0m\u001b[0;34m(\u001b[0m\u001b[0mtokenized_old\u001b[0m\u001b[0;34m,\u001b[0m \u001b[0mold_score\u001b[0m\u001b[0;34m,\u001b[0m \u001b[0mtokenized_new\u001b[0m\u001b[0;34m)\u001b[0m\u001b[0;34m\u001b[0m\u001b[0m\n\u001b[1;32m    154\u001b[0m         \u001b[0;32mreturn\u001b[0m \u001b[0msent_change\u001b[0m \u001b[0;34m*\u001b[0m \u001b[0mcloseness\u001b[0m \u001b[0;34m*\u001b[0m \u001b[0mtypicality\u001b[0m\u001b[0;34m\u001b[0m\u001b[0m\n",
      "\u001b[0;32m<ipython-input-7-054f06719449>\u001b[0m in \u001b[0;36m_get_closeness_score\u001b[0;34m(self, old_review, new_review, tokenized_old_review, tokenized_new_review)\u001b[0m\n\u001b[1;32m    113\u001b[0m         Calculated as (proper noun overlap) * (# sentences score) * (# POS score)\n\u001b[1;32m    114\u001b[0m         \"\"\"\n\u001b[0;32m--> 115\u001b[0;31m         \u001b[0mtagged_old_review\u001b[0m \u001b[0;34m=\u001b[0m \u001b[0mnltk\u001b[0m\u001b[0;34m.\u001b[0m\u001b[0mpos_tag\u001b[0m\u001b[0;34m(\u001b[0m\u001b[0mtokenized_old_review\u001b[0m\u001b[0;34m)\u001b[0m\u001b[0;34m\u001b[0m\u001b[0m\n\u001b[0m\u001b[1;32m    116\u001b[0m         \u001b[0mtagged_new_review\u001b[0m \u001b[0;34m=\u001b[0m \u001b[0mnltk\u001b[0m\u001b[0;34m.\u001b[0m\u001b[0mpos_tag\u001b[0m\u001b[0;34m(\u001b[0m\u001b[0mtokenized_new_review\u001b[0m\u001b[0;34m)\u001b[0m\u001b[0;34m\u001b[0m\u001b[0m\n\u001b[1;32m    117\u001b[0m \u001b[0;34m\u001b[0m\u001b[0m\n",
      "\u001b[0;32m/Users/Cathy/anaconda/lib/python2.7/site-packages/nltk/tag/__init__.pyc\u001b[0m in \u001b[0;36mpos_tag\u001b[0;34m(tokens, tagset)\u001b[0m\n\u001b[1;32m    108\u001b[0m     \u001b[0;34m:\u001b[0m\u001b[0mrtype\u001b[0m\u001b[0;34m:\u001b[0m \u001b[0mlist\u001b[0m\u001b[0;34m(\u001b[0m\u001b[0mtuple\u001b[0m\u001b[0;34m(\u001b[0m\u001b[0mstr\u001b[0m\u001b[0;34m,\u001b[0m \u001b[0mstr\u001b[0m\u001b[0;34m)\u001b[0m\u001b[0;34m)\u001b[0m\u001b[0;34m\u001b[0m\u001b[0m\n\u001b[1;32m    109\u001b[0m     \"\"\"\n\u001b[0;32m--> 110\u001b[0;31m     \u001b[0mtagger\u001b[0m \u001b[0;34m=\u001b[0m \u001b[0mPerceptronTagger\u001b[0m\u001b[0;34m(\u001b[0m\u001b[0;34m)\u001b[0m\u001b[0;34m\u001b[0m\u001b[0m\n\u001b[0m\u001b[1;32m    111\u001b[0m     \u001b[0;32mreturn\u001b[0m \u001b[0m_pos_tag\u001b[0m\u001b[0;34m(\u001b[0m\u001b[0mtokens\u001b[0m\u001b[0;34m,\u001b[0m \u001b[0mtagset\u001b[0m\u001b[0;34m,\u001b[0m \u001b[0mtagger\u001b[0m\u001b[0;34m)\u001b[0m\u001b[0;34m\u001b[0m\u001b[0m\n\u001b[1;32m    112\u001b[0m \u001b[0;34m\u001b[0m\u001b[0m\n",
      "\u001b[0;32m/Users/Cathy/anaconda/lib/python2.7/site-packages/nltk/tag/perceptron.pyc\u001b[0m in \u001b[0;36m__init__\u001b[0;34m(self, load)\u001b[0m\n\u001b[1;32m    140\u001b[0m         \u001b[0;32mif\u001b[0m \u001b[0mload\u001b[0m\u001b[0;34m:\u001b[0m\u001b[0;34m\u001b[0m\u001b[0m\n\u001b[1;32m    141\u001b[0m             \u001b[0mAP_MODEL_LOC\u001b[0m \u001b[0;34m=\u001b[0m \u001b[0mstr\u001b[0m\u001b[0;34m(\u001b[0m\u001b[0mfind\u001b[0m\u001b[0;34m(\u001b[0m\u001b[0;34m'taggers/averaged_perceptron_tagger/'\u001b[0m\u001b[0;34m+\u001b[0m\u001b[0mPICKLE\u001b[0m\u001b[0;34m)\u001b[0m\u001b[0;34m)\u001b[0m\u001b[0;34m\u001b[0m\u001b[0m\n\u001b[0;32m--> 142\u001b[0;31m             \u001b[0mself\u001b[0m\u001b[0;34m.\u001b[0m\u001b[0mload\u001b[0m\u001b[0;34m(\u001b[0m\u001b[0mAP_MODEL_LOC\u001b[0m\u001b[0;34m)\u001b[0m\u001b[0;34m\u001b[0m\u001b[0m\n\u001b[0m\u001b[1;32m    143\u001b[0m \u001b[0;34m\u001b[0m\u001b[0m\n\u001b[1;32m    144\u001b[0m     \u001b[0;32mdef\u001b[0m \u001b[0mtag\u001b[0m\u001b[0;34m(\u001b[0m\u001b[0mself\u001b[0m\u001b[0;34m,\u001b[0m \u001b[0mtokens\u001b[0m\u001b[0;34m)\u001b[0m\u001b[0;34m:\u001b[0m\u001b[0;34m\u001b[0m\u001b[0m\n",
      "\u001b[0;32m/Users/Cathy/anaconda/lib/python2.7/site-packages/nltk/tag/perceptron.pyc\u001b[0m in \u001b[0;36mload\u001b[0;34m(self, loc)\u001b[0m\n\u001b[1;32m    209\u001b[0m \u001b[0;34m\u001b[0m\u001b[0m\n\u001b[1;32m    210\u001b[0m         \u001b[0;32mwith\u001b[0m \u001b[0mopen\u001b[0m\u001b[0;34m(\u001b[0m\u001b[0mloc\u001b[0m\u001b[0;34m,\u001b[0m \u001b[0;34m'rb'\u001b[0m\u001b[0;34m)\u001b[0m \u001b[0;32mas\u001b[0m \u001b[0mfin\u001b[0m\u001b[0;34m:\u001b[0m\u001b[0;34m\u001b[0m\u001b[0m\n\u001b[0;32m--> 211\u001b[0;31m             \u001b[0mw_td_c\u001b[0m \u001b[0;34m=\u001b[0m \u001b[0mpickle\u001b[0m\u001b[0;34m.\u001b[0m\u001b[0mload\u001b[0m\u001b[0;34m(\u001b[0m\u001b[0mfin\u001b[0m\u001b[0;34m)\u001b[0m\u001b[0;34m\u001b[0m\u001b[0m\n\u001b[0m\u001b[1;32m    212\u001b[0m \u001b[0;34m\u001b[0m\u001b[0m\n\u001b[1;32m    213\u001b[0m         \u001b[0mself\u001b[0m\u001b[0;34m.\u001b[0m\u001b[0mmodel\u001b[0m\u001b[0;34m.\u001b[0m\u001b[0mweights\u001b[0m\u001b[0;34m,\u001b[0m \u001b[0mself\u001b[0m\u001b[0;34m.\u001b[0m\u001b[0mtagdict\u001b[0m\u001b[0;34m,\u001b[0m \u001b[0mself\u001b[0m\u001b[0;34m.\u001b[0m\u001b[0mclasses\u001b[0m \u001b[0;34m=\u001b[0m \u001b[0mw_td_c\u001b[0m\u001b[0;34m\u001b[0m\u001b[0m\n",
      "\u001b[0;32m/Users/Cathy/anaconda/lib/python2.7/pickle.pyc\u001b[0m in \u001b[0;36mload\u001b[0;34m(file)\u001b[0m\n\u001b[1;32m   1382\u001b[0m \u001b[0;34m\u001b[0m\u001b[0m\n\u001b[1;32m   1383\u001b[0m \u001b[0;32mdef\u001b[0m \u001b[0mload\u001b[0m\u001b[0;34m(\u001b[0m\u001b[0mfile\u001b[0m\u001b[0;34m)\u001b[0m\u001b[0;34m:\u001b[0m\u001b[0;34m\u001b[0m\u001b[0m\n\u001b[0;32m-> 1384\u001b[0;31m     \u001b[0;32mreturn\u001b[0m \u001b[0mUnpickler\u001b[0m\u001b[0;34m(\u001b[0m\u001b[0mfile\u001b[0m\u001b[0;34m)\u001b[0m\u001b[0;34m.\u001b[0m\u001b[0mload\u001b[0m\u001b[0;34m(\u001b[0m\u001b[0;34m)\u001b[0m\u001b[0;34m\u001b[0m\u001b[0m\n\u001b[0m\u001b[1;32m   1385\u001b[0m \u001b[0;34m\u001b[0m\u001b[0m\n\u001b[1;32m   1386\u001b[0m \u001b[0;32mdef\u001b[0m \u001b[0mloads\u001b[0m\u001b[0;34m(\u001b[0m\u001b[0mstr\u001b[0m\u001b[0;34m)\u001b[0m\u001b[0;34m:\u001b[0m\u001b[0;34m\u001b[0m\u001b[0m\n",
      "\u001b[0;32m/Users/Cathy/anaconda/lib/python2.7/pickle.pyc\u001b[0m in \u001b[0;36mload\u001b[0;34m(self)\u001b[0m\n\u001b[1;32m    862\u001b[0m             \u001b[0;32mwhile\u001b[0m \u001b[0;36m1\u001b[0m\u001b[0;34m:\u001b[0m\u001b[0;34m\u001b[0m\u001b[0m\n\u001b[1;32m    863\u001b[0m                 \u001b[0mkey\u001b[0m \u001b[0;34m=\u001b[0m \u001b[0mread\u001b[0m\u001b[0;34m(\u001b[0m\u001b[0;36m1\u001b[0m\u001b[0;34m)\u001b[0m\u001b[0;34m\u001b[0m\u001b[0m\n\u001b[0;32m--> 864\u001b[0;31m                 \u001b[0mdispatch\u001b[0m\u001b[0;34m[\u001b[0m\u001b[0mkey\u001b[0m\u001b[0;34m]\u001b[0m\u001b[0;34m(\u001b[0m\u001b[0mself\u001b[0m\u001b[0;34m)\u001b[0m\u001b[0;34m\u001b[0m\u001b[0m\n\u001b[0m\u001b[1;32m    865\u001b[0m         \u001b[0;32mexcept\u001b[0m \u001b[0m_Stop\u001b[0m\u001b[0;34m,\u001b[0m \u001b[0mstopinst\u001b[0m\u001b[0;34m:\u001b[0m\u001b[0;34m\u001b[0m\u001b[0m\n\u001b[1;32m    866\u001b[0m             \u001b[0;32mreturn\u001b[0m \u001b[0mstopinst\u001b[0m\u001b[0;34m.\u001b[0m\u001b[0mvalue\u001b[0m\u001b[0;34m\u001b[0m\u001b[0m\n",
      "\u001b[0;31mKeyboardInterrupt\u001b[0m: "
     ]
    }
   ],
   "source": [
    "class DefaultEvaluator():\n",
    "    \"\"\"\n",
    "    Default evaluator for the sentiment IMDB problem.\n",
    "    Uses the default evaluation metric defined in the paper.\n",
    "    \"\"\"\n",
    "    def __init__(self, verbose=False):\n",
    "        self.verbose=verbose\n",
    "        self.sentiment_analyzer = SentimentIntensityAnalyzer()\n",
    "        self.sentence_tokenizer = nltk.data.load('tokenizers/punkt/english.pickle')\n",
    "        self.build_bigram_lists()\n",
    "    \n",
    "    def get_bigrams(self, tokens):\n",
    "        # Gets bigrams from lowercased tokens\n",
    "        return [(tokens[i].lower(), tokens[i+1].lower()) for i in range(len(tokens) - 1)]\n",
    "    \n",
    "    def build_bigram_lists(self):\n",
    "        \"\"\"\n",
    "        Build lists of all positive and negative training bigrams.\n",
    "        \"\"\"\n",
    "        self.pos_bigrams = set()\n",
    "        print \"Building positive bigram list...\"\n",
    "        for index, (filename, review, score) in enumerate(\n",
    "            imdb_sentiment_reader(dataset_type='train', sentiment='pos')):\n",
    "            try:\n",
    "                tokens = word_tokenize(review)\n",
    "                self.pos_bigrams.update(self.get_bigrams(tokens))\n",
    "            except:\n",
    "                print \"Failed to tokenize: pos \" + filename\n",
    "            if self.verbose and index % 1000 == 0:\n",
    "                print \"Now on: \" + str(index)\n",
    "    \n",
    "        print \"Building negative bigram list...\"     \n",
    "        self.neg_bigrams = set()\n",
    "        for index, (filename, review, score) in enumerate(\n",
    "            imdb_sentiment_reader(dataset_type='train', sentiment='neg')):\n",
    "            try:\n",
    "                tokens = word_tokenize(review)\n",
    "                self.neg_bigrams.update(self.get_bigrams(tokens))\n",
    "            except:\n",
    "                print \"Failed to tokenize: neg \" + filename\n",
    "            if self.verbose and index % 1000 == 0:\n",
    "                print \"Now on: \" + str(index)\n",
    "                    \n",
    "    def _convert_imdb_sent_score(self, imdb_score):\n",
    "        \"\"\"\n",
    "        Converts the IMDB sentiment score (on a 0-10 scale) to a binary (-1, 1) sentiment score.\n",
    "        \"\"\"\n",
    "        # IMDB metric: positive is >=7, negative is <= 4\n",
    "        if imdb_score >= 7:\n",
    "            return 1.0\n",
    "        elif imdb_score <= 4:\n",
    "            return -1.0\n",
    "        else:\n",
    "            raise Exception('IMDB score not >=7 or <= 4')\n",
    "            \n",
    "    def _convert_vader_sent_score(self, vader_score):\n",
    "        \"\"\"\n",
    "        Converts the vader score, a normalized score between -1 and 1 (where -1 is negative) \n",
    "        to a uniform mapping onto [1, 10]\n",
    "        to its valence (negative scores are negative, positive are positive).\n",
    "        \"\"\"\n",
    "        return np.interp(vader_score, [-1,1], [1,10])\n",
    "    \n",
    "    def _get_sentiment_changed_score(self, old_score, new_review):\n",
    "        \"\"\"\n",
    "        Return a value between 0 and 1 denoting the degree of change in sentiment.\n",
    "        \"\"\"\n",
    "        new_sent_score = self._convert_vader_sent_score(\n",
    "            self.sentiment_analyzer.polarity_scores(new_review)['compound'])\n",
    "        return (abs(new_sent_score - old_score) / max(old_score - 1, 10 - old_score))\n",
    "    \n",
    "    def _get_sentence_score(self, old_review, new_review):\n",
    "        \"\"\"\n",
    "        Return a closeness score based on the similarity of number of sentences.\n",
    "        \"\"\"\n",
    "        num_old_sentences = len(self.sentence_tokenizer.tokenize(old_review))\n",
    "        num_new_sentences = len(self.sentence_tokenizer.tokenize(new_review))\n",
    "        return min(num_old_sentences/float(num_new_sentences), num_new_sentences/float(num_old_sentences))\n",
    "    \n",
    "    def _get_proper_noun_score(self, tagged_old_review, tagged_new_review):\n",
    "        \"\"\"\n",
    "        Returns a metric between 0-1 based on the overlap between proper nouns in the two reviews.\n",
    "        \"\"\"\n",
    "        proper_nouns_old = set([token for token in tagged_old_review if token[1] == 'NNP'])\n",
    "        proper_nouns_new = set([token for token in tagged_new_review if token[1] == 'NNP'])\n",
    "        num_overlap = len(proper_nouns_old.intersection(proper_nouns_new))\n",
    "        num_nouns = max(len(proper_nouns_old), len(proper_nouns_new))\n",
    "        if num_nouns == 0:\n",
    "            return 0\n",
    "        else:\n",
    "            return float(num_overlap) / max(len(proper_nouns_old), len(proper_nouns_new))\n",
    "    \n",
    "    def _get_pos_score(self, tagged_old_review, tagged_new_review):\n",
    "        \"\"\"\n",
    "        Returns a value between 0 and 1 based on the multiset overlap between the POS tags in \n",
    "        both reviews.\n",
    "        \"\"\"\n",
    "        pos_tags_old=[tagged_token[1] for tagged_token in tagged_old_review]\n",
    "        pos_tags_new=[tagged_token[1] for tagged_token in tagged_new_review]\n",
    "        intersection = Counter(pos_tags_old) & Counter(pos_tags_new)\n",
    "        num_overlap = sum(intersection.values())\n",
    "        num_pos = max(len(pos_tags_old), len(pos_tags_new))\n",
    "        if num_pos == 0:\n",
    "            return 0\n",
    "        else:\n",
    "            return float(num_overlap) / num_pos\n",
    "    \n",
    "    def _get_closeness_score(self, old_review, new_review, tokenized_old_review, tokenized_new_review):\n",
    "        \"\"\"\n",
    "        Return a value between 0 and 1 evaluating how similar the old_review is in lingustic \n",
    "        structure to the new one.\n",
    "        Calculated as (proper noun overlap) * (# sentences score) * (# POS score)\n",
    "        \"\"\"\n",
    "        tagged_old_review = nltk.pos_tag(tokenized_old_review)\n",
    "        tagged_new_review = nltk.pos_tag(tokenized_new_review)\n",
    "        \n",
    "        sentence_score = self._get_sentence_score(old_review, new_review)\n",
    "        proper_noun_score = self._get_proper_noun_score(tagged_old_review, tagged_new_review)\n",
    "        pos_score = self._get_pos_score(tagged_old_review, tagged_new_review)\n",
    "        return sentence_score * proper_noun_score * pos_score\n",
    "    \n",
    "    def _get_typical_language_score(self, tokenized_old_review, old_score, tokenized_new_review):\n",
    "        \"\"\"\n",
    "        Returns a value between 0 and 1 evaluating how similar the new_review is to existing reviews of \n",
    "        its desired sentiment.\n",
    "        Concretely, evaluates the fraction of bigrams in the new_review that appear in either \n",
    "        all other training data reviews of the same sentiment, or within the old_review.\n",
    "        \"\"\"\n",
    "        # Note: make sure to compare to other reviews that are the opposite of the old_score,\n",
    "        # NOT the vader score.\n",
    "        old_review_bigrams = set(self.get_bigrams(tokenized_old_review))\n",
    "        new_review_bigrams = self.get_bigrams(tokenized_new_review)\n",
    "        # Target sentiment is opposite of the old review sentiment\n",
    "        target_sentiment = -1 * self._convert_imdb_sent_score(old_score) \n",
    "        num_similar_bigrams = 0\n",
    "        for bigram in new_review_bigrams:\n",
    "            if (bigram in old_review_bigrams) or \\\n",
    "            (target_sentiment > 0 and bigram in self.pos_bigrams) or \\\n",
    "            (target_sentiment < 0 and bigram in self.neg_bigrams):\n",
    "                num_similar_bigrams += 1\n",
    "        if len(new_review_bigrams) == 0:\n",
    "            return 0\n",
    "        else:\n",
    "            return num_similar_bigrams / float(len(new_review_bigrams))\n",
    "        \n",
    "    def evaluate(self, filename, old_review, new_review, old_score):\n",
    "        \"\"\"\n",
    "        Evaluation based on a sentiment changed score, closeness score, and 'typical language' score.\n",
    "        \"\"\"\n",
    "        tokenized_old = word_tokenize(old_review)\n",
    "        tokenized_new = word_tokenize(new_review)\n",
    "        sent_change = self._get_sentiment_changed_score(old_score, new_review)\n",
    "        closeness = self._get_closeness_score(old_review, new_review, tokenized_old, tokenized_new)\n",
    "        typicality = self._get_typical_language_score(tokenized_old, old_score, tokenized_new)\n",
    "        return sent_change * closeness * typicality\n",
    "\n",
    "# Example Usage - uses the baseline transformer defined below\n",
    "\n",
    "evaluator = DefaultEvaluator(verbose=True)\n",
    "for (filename, review, score) in imdb_sentiment_reader(dataset_type='val', sentiment='pos'): \n",
    "    transformed = baseline_transform_func(filename, review, score)\n",
    "    print review\n",
    "    print transformed\n",
    "    print \"Evaluation score: \" + str(evaluator.evaluate(filename, review, transformed, score))\n",
    "    break"
   ]
  },
  {
   "cell_type": "code",
   "execution_count": null,
   "metadata": {
    "collapsed": true
   },
   "outputs": [],
   "source": []
  },
  {
   "cell_type": "code",
   "execution_count": 100,
   "metadata": {
    "collapsed": false
   },
   "outputs": [
    {
     "data": {
      "text/plain": [
       "'\\ndef demo_transform_func(filename, review, score):\\n    return review\\n\\nclass DemoEval:\\n    def __init__(self):\\n        pass\\n    def evaluate(self, filename, old_review, new_review, old_score):\\n        return old_score\\n\\ndemo_runner = ExperimentRunner(demo_train, demo_test, demo_transform_func, \\n                               evaluator=DemoEval(), verbose=True)\\ndemo_runner.run_experiment()\\n'"
      ]
     },
     "execution_count": 100,
     "metadata": {},
     "output_type": "execute_result"
    }
   ],
   "source": [
    "class ExperimentRunner():\n",
    "    \"\"\"\n",
    "    Runs a sentiment experiment runner experiment. \n",
    "    Trains on the training set, then iterates over the reviews in the test set,\n",
    "    transforming them using the transform_func and evaluating them using the eval_func.\n",
    "    \n",
    "    Outputs the average performance on the test set.\n",
    "    \n",
    "    Args:\n",
    "        train_reader: an iterator over (filename, review, score) tuples.\n",
    "        test_reader: an iterator over (filename, review, score) tuples.\n",
    "        transform_func: should take (filename, review, score) and return a transformed string review.\n",
    "        eval_func: should take (filename, old_review, new_review, old_sentiment_score) and return a score.\n",
    "        verbose: default = False\n",
    "    \"\"\"\n",
    "    def __init__(self, train_reader, test_reader, transform_func, evaluator=None, verbose=False):\n",
    "        self.train_reader = train_reader\n",
    "        self.test_reader = test_reader\n",
    "        self.transform_func = transform_func\n",
    "        if evaluator is None:\n",
    "            self.evaluator = DefaultEvaluator()\n",
    "            self.eval_func = self.evaluator.evaluate\n",
    "        else:\n",
    "            self.eval_func = evaluator.evaluate\n",
    "        self.verbose = verbose\n",
    "        self.scores = []\n",
    "    \n",
    "    def run_experiment(self):\n",
    "        # Iterate over the test set, transforming the reviews and evaluating them\n",
    "        for index, (filename, review, sent_score) in enumerate(self.test_reader):\n",
    "            if self.verbose and index % 500 == 0:\n",
    "                print \"Now evaluating: \" + str(index)\n",
    "                # Print the running mean\n",
    "                print \"Current mean score: \" + str(np.mean(self.scores))\n",
    "            # Transform the review\n",
    "            transformed_review = self.transform_func(filename, review, sent_score)\n",
    "            # Evaluate the transformed review\n",
    "            new_score = self.eval_func(filename, review, transformed_review, sent_score)\n",
    "            self.scores.append(new_score)\n",
    "        if self.verbose:\n",
    "            print \"Finished evaluating \" + str(index) + \" test reviews.\"\n",
    "        print \"Mean score: \" + str(np.mean(self.scores))\n",
    "    \n",
    "# Example usage\n",
    "demo_train = imdb_sentiment_reader(dataset_type='train', sentiment='both')\n",
    "demo_test= imdb_sentiment_reader(dataset_type='val', sentiment='both')\n",
    "\"\"\"\n",
    "def demo_transform_func(filename, review, score):\n",
    "    return review\n",
    "\n",
    "class DemoEval:\n",
    "    def __init__(self):\n",
    "        pass\n",
    "    def evaluate(self, filename, old_review, new_review, old_score):\n",
    "        return old_score\n",
    "\n",
    "demo_runner = ExperimentRunner(demo_train, demo_test, demo_transform_func, \n",
    "                               evaluator=DemoEval(), verbose=True)\n",
    "demo_runner.run_experiment()\n",
    "\"\"\""
   ]
  },
  {
   "cell_type": "markdown",
   "metadata": {},
   "source": [
    "## Baseline"
   ]
  },
  {
   "cell_type": "code",
   "execution_count": 10,
   "metadata": {
    "collapsed": true
   },
   "outputs": [],
   "source": [
    "import nltk\n",
    "from nltk import word_tokenize"
   ]
  },
  {
   "cell_type": "code",
   "execution_count": 26,
   "metadata": {
    "collapsed": false
   },
   "outputs": [
    {
     "name": "stdout",
     "output_type": "stream",
     "text": [
      "Original review: \n",
      "I went and saw this movie last night after being coaxed to by a few friends of mine. I'll admit that I was reluctant to see it because from what I knew of Ashton Kutcher he was only able to do comedy. I was wrong. Kutcher played the character of Jake Fischer very well, and Kevin Costner played Ben Randall with such professionalism. The sign of a good movie is that it can toy with our emotions. This one did exactly that. The entire theater (which was sold out) was overcome by laughter during the first half of the movie, and were moved to tears during the second half. While exiting the theater I not only saw many women in tears, but many full grown men as well, trying desperately not to let anyone see them crying. This movie was great, and I suggest that you go see it before you judge.\n",
      "Transformed review:\n",
      "I went and saw this movie not last night after being coaxed to by a not few friends of mine . I 'll admit that I was not reluctant to see it because from what I knew of Ashton Kutcher he was not only not able to do comedy . I was not wrong . Kutcher played the character of Jake Fischer not very not well , and Kevin Costner played Ben Randall with not such professionalism . The sign of a not good movie is that it can toy with our emotions . This one did not exactly that . The not entire theater ( which was sold out ) was overcome by laughter during the not first half of the movie , and were moved to tears during the not second half . While exiting the theater I not not not only saw not many women in tears , but not many not full grown men as not well , trying not desperately not not to let anyone see them crying . This movie was not great , and I suggest that you go see it before you judge .\n"
     ]
    }
   ],
   "source": [
    "def baseline_transform_func(filename, review, score):\n",
    "    \"\"\"\n",
    "    Baseline: returns a review with 'not' inserted in front of any identified adjectives/adverbs.\n",
    "    \"\"\"\n",
    "    tagged_review = nltk.pos_tag(word_tokenize(review))\n",
    "    transformed_review = []\n",
    "    for tagged_word in tagged_review:\n",
    "        if tagged_word[1] in ['JJ', 'JJR', 'JJS', 'RB', 'RBR', 'RBS']:\n",
    "            transformed_review.append('not')\n",
    "        transformed_review.append(tagged_word[0])\n",
    "    return \" \".join(transformed_review)\n",
    "# Example usage:\n",
    "for (filename, review, score) in imdb_sentiment_reader(dataset_type='val', sentiment='pos'):\n",
    "    print \"Original review: \"\n",
    "    print review\n",
    "    print \"Transformed review:\" \n",
    "    transformed = baseline_transform_func(filename, review, score)\n",
    "    print transformed\n",
    "    break"
   ]
  },
  {
   "cell_type": "markdown",
   "metadata": {
    "collapsed": true
   },
   "source": [
    "## Baseline Evaluation"
   ]
  },
  {
   "cell_type": "code",
   "execution_count": 16,
   "metadata": {
    "collapsed": false
   },
   "outputs": [
    {
     "name": "stdout",
     "output_type": "stream",
     "text": [
      "Building positive bigram list...\n",
      "Now on: 0\n",
      "Now on: 1000\n",
      "Now on: 2000\n",
      "Now on: 3000\n",
      "Now on: 4000\n",
      "Now on: 5000\n",
      "Now on: 6000\n",
      "Now on: 7000\n",
      "Now on: 8000\n",
      "Now on: 9000\n",
      "Now on: 10000\n",
      "Now on: 11000\n",
      "Now on: 12000\n",
      "Building negative bigram list...\n",
      "Now on: 0\n",
      "Now on: 1000\n",
      "Now on: 2000\n",
      "Now on: 3000\n",
      "Now on: 4000\n",
      "Now on: 5000\n",
      "Now on: 6000\n",
      "Now on: 7000\n",
      "Now on: 8000\n",
      "Now on: 9000\n",
      "Now on: 10000\n",
      "Now on: 11000\n",
      "Now on: 12000\n",
      "Now evaluating: 0\n",
      "Current mean score: nan\n",
      "Finished evaluating 4999 test reviews.\n",
      "Mean score: 0.0384859418977\n"
     ]
    }
   ],
   "source": [
    "train_reader = imdb_sentiment_reader(dataset_type='train', sentiment='both')\n",
    "test_reader = imdb_sentiment_reader(dataset_type='val', sentiment='both')\n",
    "default_evaluator = DefaultEvaluator(verbose=True)\n",
    "baseline_runner = ExperimentRunner(train_reader, test_reader, baseline_transform_func, \n",
    "                               evaluator=default_evaluator, verbose=True)\n",
    "baseline_runner.run_experiment()"
   ]
  },
  {
   "cell_type": "code",
   "execution_count": 20,
   "metadata": {
    "collapsed": false
   },
   "outputs": [
    {
     "name": "stdout",
     "output_type": "stream",
     "text": [
      "0.356741526233\n"
     ]
    }
   ],
   "source": [
    "print np.median(baseline_runner.scores)"
   ]
  },
  {
   "cell_type": "markdown",
   "metadata": {},
   "source": [
    "## Oracle Evaluation"
   ]
  },
  {
   "cell_type": "code",
   "execution_count": 101,
   "metadata": {
    "collapsed": false
   },
   "outputs": [
    {
     "name": "stdout",
     "output_type": "stream",
     "text": [
      "10_7.txt\n",
      "0\n",
      "If you had asked me how the movie was throughout the film, I would have told you it was great! However, I left the theatre feeling unsatisfied. After thinking a little about it, I believe the problem was the pace of the ending. I feel that the majority of the movie moved kind of slow, and then the ending developed very fast. So, I would say the ending left me disappointed.<br /><br />I thought that the characters were well developed. Costner and Kutcher both portrayed their roles very well. Yes! Ashton Kutcher can act! Also, the different relationships between the characters seemed very real. Furthermore,I thought that the different plot lines were well developed. Overall, it was a good movie and I would recommend seeing it.<br /><br />In conclusion: Good Characters, Great Plot, Poorly Written/Edited Ending. Still, Go See It!!!\n",
      "If you had asked me how the movie was throughout the film, I would have told you it was terrible! I left the theatre feeling unsatisfied. After thinking a little about it, I believe the problem was the pace of the ending. I feel that the majority of the movie moved kind of slow, and then the ending developed very fast. So, I would say the ending left me disappointed.<br /><br />I thought that the characters were poorly developed. Costner and Kutcher both portrayed their roles horribly. No! Ashton Kutcher cannot act! Also, the different relationships between the characters seemed implausible. Furthermore,I thought that the different plot lines were poorly developed. Overall, it was a bad movie and I would not recommend seeing it.<br /><br />In conclusion: Bad Characters, Terrible Plot, Poorly Written/Edited Ending. Don't Go See It!!!\n",
      "Building positive bigram list...\n",
      "Now on: 0\n",
      "Now on: 1000\n",
      "Now on: 2000\n",
      "Now on: 3000\n",
      "Now on: 4000\n",
      "Now on: 5000\n",
      "Now on: 6000\n",
      "Now on: 7000\n",
      "Now on: 8000\n",
      "Now on: 9000\n",
      "Now on: 10000\n",
      "Now on: 11000\n",
      "Now on: 12000\n",
      "Building negative bigram list...\n",
      "Now on: 0\n",
      "Now on: 1000\n",
      "Now on: 2000\n",
      "Now on: 3000\n",
      "Now on: 4000\n",
      "Now on: 5000\n",
      "Now on: 6000\n",
      "Now on: 7000\n",
      "Now on: 8000\n",
      "Now on: 9000\n",
      "Now on: 10000\n",
      "Now on: 11000\n",
      "Now on: 12000\n",
      "Now evaluating: 0\n",
      "Current mean score: nan\n",
      "Now evaluating: 1\n",
      "Current mean score: 0.913289760349\n",
      "Now evaluating: 2\n",
      "Current mean score: 0.88000308913\n",
      "Now evaluating: 3\n",
      "Current mean score: 0.885342486592\n",
      "Now evaluating: 4\n",
      "Current mean score: 0.895559813385\n",
      "Now evaluating: 5\n",
      "Current mean score: 0.827792388523\n",
      "Now evaluating: 6\n",
      "Current mean score: 0.818605538724\n",
      "Now evaluating: 7\n",
      "Current mean score: 0.814024006293\n",
      "Now evaluating: 8\n",
      "Current mean score: 0.601325451382\n",
      "Now evaluating: 9\n",
      "Current mean score: 0.53451151234\n",
      "Now evaluating: 10\n",
      "Current mean score: 0.541280669644\n",
      "Now evaluating: 11\n",
      "Current mean score: 0.49207333604\n",
      "Now evaluating: 12\n",
      "Current mean score: 0.518778823449\n",
      "Now evaluating: 13\n",
      "Current mean score: 0.497722929728\n",
      "Now evaluating: 14\n",
      "Current mean score: 0.515173646679\n",
      "Now evaluating: 15\n",
      "Current mean score: 0.541576257876\n",
      "Now evaluating: 16\n",
      "Current mean score: 0.524712101486\n",
      "Now evaluating: 17\n",
      "Current mean score: 0.529033849526\n",
      "Now evaluating: 18\n",
      "Current mean score: 0.547606986478\n",
      "Finished evaluating 18 test reviews.\n",
      "Mean score: 0.518785566137\n"
     ]
    }
   ],
   "source": [
    "oracle_train_reader = imdb_sentiment_reader(dataset_type='train', sentiment='both')\n",
    "# Iterate over the 'train', which is a hacky way of just reading in the oracle original documents\n",
    "oracle_folder = \"../Oracle\"\n",
    "oracle_test_reader = imdb_sentiment_reader(dataset_type='train', sentiment='both', folder_location=oracle_folder_location)\n",
    "\n",
    "all_oracle_filenames = os.listdir(os.path.join(oracle_folder, 'oracle_transformed'))\n",
    "\n",
    "def oracle_transform_func(filename, review, score):\n",
    "    \"\"\"\n",
    "    Oracle transformation: find the corresponding review in the oracle_transformed directory.\n",
    "    \"\"\"\n",
    "    review_prefix = filename.split(\".\")[0]\n",
    "    matching_files = [oracle_file for oracle_file in all_oracle_filenames if oracle_file.startswith(review_prefix)]\n",
    "    if len(matching_files) != 1:\n",
    "        raise Exception(\"More than one matching oracle file: \" + str(matching_files))\n",
    "    else:\n",
    "        # Return the text of the transformed file\n",
    "        with open(os.path.join(oracle_folder, 'oracle_transformed', matching_files[0])) as f:\n",
    "            transformed = f.read()\n",
    "        return transformed.decode('utf-8')\n",
    "# Example use:\n",
    "for index, (filename, review, score) in enumerate(oracle_test_reader):\n",
    "    print filename\n",
    "    print index\n",
    "    print review\n",
    "    transformed = oracle_transform_func(filename, review, score)\n",
    "    print transformed\n",
    "    break\n",
    "\n",
    "default_evaluator = DefaultEvaluator(verbose=True)\n",
    "oracle_runner = ExperimentRunner(oracle_train_reader, oracle_test_reader, oracle_transform_func, \n",
    "                               evaluator=default_evaluator, verbose=True)\n",
    "oracle_runner.run_experiment()"
   ]
  },
  {
   "cell_type": "code",
   "execution_count": 102,
   "metadata": {
    "collapsed": false
   },
   "outputs": [
    {
     "name": "stdout",
     "output_type": "stream",
     "text": [
      "0.742032967033\n"
     ]
    }
   ],
   "source": [
    "print np.median(oracle_runner.scores)"
   ]
  },
  {
   "cell_type": "code",
   "execution_count": 4,
   "metadata": {
    "collapsed": false
   },
   "outputs": [
    {
     "name": "stdout",
     "output_type": "stream",
     "text": [
      "Original review: \n",
      "I went and saw this movie last night after being coaxed to by a few friends of mine. I'll admit that I was reluctant to see it because from what I knew of Ashton Kutcher he was only able to do comedy. I was wrong. Kutcher played the character of Jake Fischer very well, and Kevin Costner played Ben Randall with such professionalism. The sign of a good movie is that it can toy with our emotions. This one did exactly that. The entire theater (which was sold out) was overcome by laughter during the first half of the movie, and were moved to tears during the second half. While exiting the theater I not only saw many women in tears, but many full grown men as well, trying desperately not to let anyone see them crying. This movie was great, and I suggest that you go see it before you judge.\n",
      "Transformed review:\n",
      "[(u'I', 'PRP'), (u'went', 'VBD'), (u'and', 'CC'), (u'saw', 'VBD'), (u'this', 'DT'), (u'movie', 'NN'), (u'last', 'JJ'), (u'night', 'NN'), (u'after', 'IN'), (u'being', 'VBG'), (u'coaxed', 'VBN'), (u'to', 'TO'), (u'by', 'IN'), (u'a', 'DT'), (u'few', 'JJ'), (u'friends', 'NNS'), (u'of', 'IN'), (u'mine', 'NN'), (u'.', '.'), (u'I', 'PRP'), (u\"'ll\", 'MD'), (u'admit', 'VB'), (u'that', 'IN'), (u'I', 'PRP'), (u'was', 'VBD'), (u'reluctant', 'JJ'), (u'to', 'TO'), (u'see', 'VB'), (u'it', 'PRP'), (u'because', 'IN'), (u'from', 'IN'), (u'what', 'WP'), (u'I', 'PRP'), (u'knew', 'VBD'), (u'of', 'IN'), (u'Ashton', 'NNP'), (u'Kutcher', 'NNP'), (u'he', 'PRP'), (u'was', 'VBD'), (u'only', 'RB'), (u'able', 'JJ'), (u'to', 'TO'), (u'do', 'VB'), (u'comedy', 'NN'), (u'.', '.'), (u'I', 'PRP'), (u'was', 'VBD'), (u'wrong', 'JJ'), (u'.', '.'), (u'Kutcher', 'NNP'), (u'played', 'VBD'), (u'the', 'DT'), (u'character', 'NN'), (u'of', 'IN'), (u'Jake', 'NNP'), (u'Fischer', 'NNP'), (u'very', 'RB'), (u'well', 'RB'), (u',', ','), (u'and', 'CC'), (u'Kevin', 'NNP'), (u'Costner', 'NNP'), (u'played', 'VBD'), (u'Ben', 'NNP'), (u'Randall', 'NNP'), (u'with', 'IN'), (u'such', 'JJ'), (u'professionalism', 'NN'), (u'.', '.'), (u'The', 'DT'), (u'sign', 'NN'), (u'of', 'IN'), (u'a', 'DT'), (u'good', 'JJ'), (u'movie', 'NN'), (u'is', 'VBZ'), (u'that', 'IN'), (u'it', 'PRP'), (u'can', 'MD'), (u'toy', 'VB'), (u'with', 'IN'), (u'our', 'PRP$'), (u'emotions', 'NNS'), (u'.', '.'), (u'This', 'DT'), (u'one', 'CD'), (u'did', 'VBD'), (u'exactly', 'RB'), (u'that', 'IN'), (u'.', '.'), (u'The', 'DT'), (u'entire', 'JJ'), (u'theater', 'NN'), (u'(', '('), (u'which', 'WDT'), (u'was', 'VBD'), (u'sold', 'VBN'), (u'out', 'RP'), (u')', ')'), (u'was', 'VBD'), (u'overcome', 'VBN'), (u'by', 'IN'), (u'laughter', 'NN'), (u'during', 'IN'), (u'the', 'DT'), (u'first', 'JJ'), (u'half', 'NN'), (u'of', 'IN'), (u'the', 'DT'), (u'movie', 'NN'), (u',', ','), (u'and', 'CC'), (u'were', 'VBD'), (u'moved', 'VBN'), (u'to', 'TO'), (u'tears', 'NNS'), (u'during', 'IN'), (u'the', 'DT'), (u'second', 'JJ'), (u'half', 'NN'), (u'.', '.'), (u'While', 'IN'), (u'exiting', 'VBG'), (u'the', 'DT'), (u'theater', 'NN'), (u'I', 'PRP'), (u'not', 'RB'), (u'only', 'RB'), (u'saw', 'VBD'), (u'many', 'JJ'), (u'women', 'NNS'), (u'in', 'IN'), (u'tears', 'NNS'), (u',', ','), (u'but', 'CC'), (u'many', 'JJ'), (u'full', 'JJ'), (u'grown', 'VBN'), (u'men', 'NNS'), (u'as', 'IN'), (u'well', 'RB'), (u',', ','), (u'trying', 'VBG'), (u'desperately', 'RB'), (u'not', 'RB'), (u'to', 'TO'), (u'let', 'VB'), (u'anyone', 'NN'), (u'see', 'VB'), (u'them', 'PRP'), (u'crying', 'VBG'), (u'.', '.'), (u'This', 'DT'), (u'movie', 'NN'), (u'was', 'VBD'), (u'great', 'JJ'), (u',', ','), (u'and', 'CC'), (u'I', 'PRP'), (u'suggest', 'VBP'), (u'that', 'IN'), (u'you', 'PRP'), (u'go', 'VBP'), (u'see', 'VB'), (u'it', 'PRP'), (u'before', 'IN'), (u'you', 'PRP'), (u'judge', 'VBP'), (u'.', '.')]\n"
     ]
    }
   ],
   "source": [
    "def baseline_transform_func(filename, review, score):\n",
    "    \"\"\"\n",
    "    Baseline: returns a review with 'not' inserted in front of any identified adjectives/adverbs.\n",
    "    \"\"\"\n",
    "    tagged_review = nltk.pos_tag(word_tokenize(review))\n",
    "    print tagged_review\n",
    "    transformed_review = []\n",
    "    for tagged_word in tagged_review:\n",
    "        if tagged_word[1] in ['JJ', 'JJR', 'JJS', 'RB', 'RBR', 'RBS']:\n",
    "            transformed_review.append('not')\n",
    "        transformed_review.append(tagged_word[0])\n",
    "    return \" \".join(transformed_review)\n",
    "# Example usage:\n",
    "for (filename, review, score) in imdb_sentiment_reader(dataset_type='val', sentiment='pos'):\n",
    "    print \"Original review: \"\n",
    "    print review\n",
    "    print \"Transformed review:\" \n",
    "    transformed = baseline_transform_func(filename, review, score)\n",
    "    #print transformed\n",
    "    break"
   ]
  },
  {
   "cell_type": "code",
   "execution_count": null,
   "metadata": {
    "collapsed": true
   },
   "outputs": [],
   "source": []
  }
 ],
 "metadata": {
  "kernelspec": {
   "display_name": "Python 2",
   "language": "python",
   "name": "python2"
  },
  "language_info": {
   "codemirror_mode": {
    "name": "ipython",
    "version": 2
   },
   "file_extension": ".py",
   "mimetype": "text/x-python",
   "name": "python",
   "nbconvert_exporter": "python",
   "pygments_lexer": "ipython2",
   "version": "2.7.11"
  }
 },
 "nbformat": 4,
 "nbformat_minor": 0
}
