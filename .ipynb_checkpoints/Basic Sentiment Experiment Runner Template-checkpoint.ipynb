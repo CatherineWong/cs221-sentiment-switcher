{
 "cells": [
  {
   "cell_type": "markdown",
   "metadata": {},
   "source": [
    "## Sentiment Experiment Runner Template\n",
    "10/23/16 - Basic pipeline to run sentiment experiments on the IMDB movie review corpus.\n",
    "Uses the IMDB dataset folder (http://ai.stanford.edu/~amaas/data/sentiment/)."
   ]
  },
  {
   "cell_type": "code",
   "execution_count": 2,
   "metadata": {
    "collapsed": true
   },
   "outputs": [],
   "source": [
    "import os\n",
    "import math\n",
    "import numpy as np\n",
    "imdb_folder_location = \"../aclImdb\" # Change this to wherever your imbd folder is located"
   ]
  },
  {
   "cell_type": "code",
   "execution_count": 11,
   "metadata": {
    "collapsed": false
   },
   "outputs": [
    {
     "name": "stdout",
     "output_type": "stream",
     "text": [
      "2500_8.txt this movie was a sicky sweet cutesy romantic comedy, just the kind of movie i usually dislike but this one was just cute enough to keep me interested. it was really funny in one moment (probably why i liked it) and then just as serious in the next. plus, it had ellen in it and i've always had a soft spot for her.<br /><br />basically, the owner of a book store, helen (kate capshaw) finds a love letter in one of the old couches in her store. she thinks it is for her and goes crazy trying to figure out who sent it. she has kind of shut herself off from the world, so it really throws her for a loop. eventually, almost everyone connected with her finds this letter and they are all getting mixed signals which creates some really funny moments.<br /><br />like i said, i am usually not one for this type of movie but i really wound up enjoying it and recommend it highly. 8\n"
     ]
    }
   ],
   "source": [
    "def imdb_sentiment_reader(dataset_type='train', sentiment='both'):\n",
    "    \"\"\"\n",
    "    Iterator over the imdb dataset.\n",
    "    Also removes capitalization from all reviews.\n",
    "    Args:\n",
    "        is_train: ['train', 'val', 'test] - whether to iterate over the train, val, or test sets.\n",
    "        sentiment: ['pos', 'neg', 'both']: whether to iterate over just the positive, just the\n",
    "                   negative, or both.\n",
    "    Returns: Iterator over (filename, movie_review, sentiment_score) tuples. \n",
    "    \"\"\"\n",
    "    subfolder = 'train' if dataset_type=='train' else 'test'\n",
    "    dataset_path = os.path.join(imdb_folder_location, subfolder)\n",
    "    if sentiment=='pos' or sentiment=='both':\n",
    "        # Sort by the index\n",
    "        filenames = sorted(os.listdir(os.path.join(dataset_path, 'pos')), \n",
    "                                key=lambda filename: int(filename.split('_')[0]))\n",
    "        # Take a slice if these are for val/test\n",
    "        if dataset_type == 'val' or dataset_type == 'test':\n",
    "            cutoff = int(math.ceil(len(filenames) * .2))\n",
    "            if dataset_type == 'val':\n",
    "                filenames = filenames[:cutoff]\n",
    "            else:\n",
    "                filenames = filenames[cutoff:]\n",
    "        for filename in filenames:\n",
    "            sentiment_score = int(filename.split('_')[1].split('.')[0])\n",
    "            with open(os.path.join(dataset_path, 'pos', filename)) as f:\n",
    "                review = f.read()\n",
    "            yield filename, review.lower(), sentiment_score\n",
    "    if sentiment=='neg' or sentiment=='both':\n",
    "        # Sort by the index \n",
    "        filenames = sorted(os.listdir(os.path.join(dataset_path, 'neg')), \n",
    "                                key=lambda filename: int(filename.split('_')[0]))\n",
    "         # Take a slice if these are for val/test\n",
    "        if dataset_type == 'val' or dataset_type == 'test':\n",
    "            cutoff = int(math.ceil(len(filenames) * .2))\n",
    "            if dataset_type == 'val':\n",
    "                filenames = filenames[:cutoff]\n",
    "            else:\n",
    "                filenames = filenames[cutoff:]\n",
    "        for filename in filenames:\n",
    "            sentiment_score = int(filename.split('_')[1].split('.')[0])\n",
    "            with open(os.path.join(dataset_path, 'neg', filename)) as f:\n",
    "                review = f.read()\n",
    "            yield filename, review.lower(), sentiment_score\n",
    "    \n",
    "# Example Usage\n",
    "for filename, review, score in imdb_sentiment_reader(dataset_type='test', sentiment='both'):\n",
    "    print filename, review, score\n",
    "    break"
   ]
  },
  {
   "cell_type": "code",
   "execution_count": null,
   "metadata": {
    "collapsed": true
   },
   "outputs": [],
   "source": []
  },
  {
   "cell_type": "code",
   "execution_count": 4,
   "metadata": {
    "collapsed": false
   },
   "outputs": [
    {
     "name": "stdout",
     "output_type": "stream",
     "text": [
      "Now evaluating: 0\n",
      "Now evaluating: 1000\n",
      "Now evaluating: 2000\n",
      "Now evaluating: 3000\n",
      "Now evaluating: 4000\n",
      "Finished evaluating 4999 test reviews.\n",
      "Mean score: 5.5362\n"
     ]
    }
   ],
   "source": [
    "class ExperimentRunner():\n",
    "    \"\"\"\n",
    "    Runs a sentiment experiment runner experiment. \n",
    "    Trains on the training set, then iterates over the reviews in the test set,\n",
    "    transforming them using the transform_func and evaluating them using the eval_func.\n",
    "    \n",
    "    Outputs the average performance on the test set.\n",
    "    \n",
    "    Args:\n",
    "        train_reader: an iterator over (filename, review, score) tuples.\n",
    "        test_reader: an iterator over (filename, review, score) tuples.\n",
    "        transform_func: should take (filename, review, score) and return a transformed string review.\n",
    "        eval_func: should take (filename, old_review, new_review, old_sentiment_score) and return a score.\n",
    "        verbose: default = False\n",
    "    \"\"\"\n",
    "    def __init__(self, train_reader, test_reader, transform_func, eval_func, verbose=False):\n",
    "        self.train_reader = train_reader\n",
    "        self.test_reader = test_reader\n",
    "        self.transform_func = transform_func\n",
    "        self.eval_func = eval_func\n",
    "        self.verbose = verbose\n",
    "        self.scores = []\n",
    "\n",
    "    def run_experiment(self):\n",
    "        # Iterate over the test set, transforming the reviews and evaluating them\n",
    "        for index, (filename, review, sent_score) in enumerate(self.test_reader):\n",
    "            if self.verbose and index % 1000 == 0:\n",
    "                print \"Now evaluating: \" + str(index)\n",
    "            # Transform the review\n",
    "            transformed_review = self.transform_func(filename, review, sent_score)\n",
    "            # Evaluate the transformed review\n",
    "            new_score = self.eval_func(filename, review, transformed_review, sent_score)\n",
    "            self.scores.append(new_score)\n",
    "        if self.verbose:\n",
    "            print \"Finished evaluating \" + str(index) + \" test reviews.\"\n",
    "        print \"Mean score: \" + str(np.mean(self.scores))\n",
    "    \n",
    "# Example usage\n",
    "demo_train = imdb_sentiment_reader(dataset_type='train', sentiment='both')\n",
    "demo_test= imdb_sentiment_reader(dataset_type='val', sentiment='both')\n",
    "\n",
    "def demo_transform_func(filename, review, score):\n",
    "    return review\n",
    "\n",
    "def demo_eval_func(filename, old_review, new_review, old_score):\n",
    "    return old_score\n",
    "\n",
    "demo_runner = ExperimentRunner(demo_train, demo_test, demo_transform_func, \n",
    "                               demo_eval_func, verbose=True)\n",
    "demo_runner.run_experiment()"
   ]
  },
  {
   "cell_type": "markdown",
   "metadata": {},
   "source": [
    "## Baseline"
   ]
  },
  {
   "cell_type": "code",
   "execution_count": 8,
   "metadata": {
    "collapsed": true
   },
   "outputs": [],
   "source": [
    "import nltk\n",
    "from nltk import word_tokenize"
   ]
  },
  {
   "cell_type": "code",
   "execution_count": 23,
   "metadata": {
    "collapsed": false
   },
   "outputs": [
    {
     "name": "stdout",
     "output_type": "stream",
     "text": [
      "Original review: \n",
      "i went and saw this movie last night after being coaxed to by a few friends of mine. i'll admit that i was reluctant to see it because from what i knew of ashton kutcher he was only able to do comedy. i was wrong. kutcher played the character of jake fischer very well, and kevin costner played ben randall with such professionalism. the sign of a good movie is that it can toy with our emotions. this one did exactly that. the entire theater (which was sold out) was overcome by laughter during the first half of the movie, and were moved to tears during the second half. while exiting the theater i not only saw many women in tears, but many full grown men as well, trying desperately not to let anyone see them crying. this movie was great, and i suggest that you go see it before you judge.\n",
      "Transformed review:\n",
      "not i went and saw this movie not last night after being coaxed to by a not few friends of mine . not i 'll admit that i was not reluctant to see it because from what not i knew of ashton kutcher he was only not able to do comedy . i was not wrong . kutcher played the character of jake fischer very well , and kevin not costner not played ben randall with not such professionalism . the sign of a not good movie is that it can toy with our emotions . this one did exactly that . the not entire theater ( which was sold out ) was overcome by laughter during the not first half of the movie , and were moved to tears during the not second half . while exiting the theater i not only saw not many women in tears , but not many not full grown men as well , trying desperately not to let anyone see them crying . this movie was not great , and i suggest that you go see it before you judge .\n"
     ]
    }
   ],
   "source": [
    "def baseline_transform_func(filename, review, score):\n",
    "    \"\"\"\n",
    "    Baseline: returns a review with 'not' inserted in front of any identified adjectives/adverbs.\n",
    "    \"\"\"\n",
    "    tagged_review = nltk.pos_tag(word_tokenize(review))\n",
    "    transformed_review = []\n",
    "    for tagged_word in tagged_review:\n",
    "        if tagged_word[1] in ['JJ', 'JJR', 'JJS', 'RB', 'RBR', 'RBS']:\n",
    "            transformed_review.append('not')\n",
    "        transformed_review.append(tagged_word[0])\n",
    "    return \" \".join(transformed_review)\n",
    "# Example usage:\n",
    "for (filename, review, score) in imdb_sentiment_reader(dataset_type='val', sentiment='pos'):\n",
    "    print \"Original review: \"\n",
    "    print review\n",
    "    print \"Transformed review:\" \n",
    "    print baseline_transform_func(filename, review, score)\n",
    "    break"
   ]
  },
  {
   "cell_type": "code",
   "execution_count": null,
   "metadata": {
    "collapsed": true
   },
   "outputs": [],
   "source": []
  },
  {
   "cell_type": "code",
   "execution_count": null,
   "metadata": {
    "collapsed": true
   },
   "outputs": [],
   "source": []
  }
 ],
 "metadata": {
  "kernelspec": {
   "display_name": "Python 2",
   "language": "python",
   "name": "python2"
  },
  "language_info": {
   "codemirror_mode": {
    "name": "ipython",
    "version": 2
   },
   "file_extension": ".py",
   "mimetype": "text/x-python",
   "name": "python",
   "nbconvert_exporter": "python",
   "pygments_lexer": "ipython2",
   "version": "2.7.11"
  }
 },
 "nbformat": 4,
 "nbformat_minor": 0
}
