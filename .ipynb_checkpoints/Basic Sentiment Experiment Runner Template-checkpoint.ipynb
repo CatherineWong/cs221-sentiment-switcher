{
 "cells": [
  {
   "cell_type": "markdown",
   "metadata": {},
   "source": [
    "## Sentiment Experiment Runner Template\n",
    "10/23/16 - Basic pipeline to run sentiment experiments on the IMDB movie review corpus.\n",
    "Uses the IMDB dataset folder (http://ai.stanford.edu/~amaas/data/sentiment/)."
   ]
  },
  {
   "cell_type": "code",
   "execution_count": 41,
   "metadata": {
    "collapsed": true
   },
   "outputs": [],
   "source": [
    "import os\n",
    "import math\n",
    "imdb_folder_location = \"../aclImdb\" # Change this to wherever your imbd folder is located"
   ]
  },
  {
   "cell_type": "code",
   "execution_count": 50,
   "metadata": {
    "collapsed": false
   },
   "outputs": [
    {
     "name": "stdout",
     "output_type": "stream",
     "text": [
      "10000\n",
      "2500_2.txt 2 It's strange, while the film features full X-rated sex scenes and violent murders, it never feels as shocking as it ought to.<br /><br />A group of scientists go to an island in the Caribbean to investigate a radioactive incident. Upon their arrival, a mutated islander goes about the happy business of murdering the men and having his way with the women. Doesn't it always seem to work out that way.<br /><br />Among the sored acts we find a some lesbian encounters, a three-way with male prostitutes, assorted heterosexual couplings and the rape of an already dead body. Even though it's all fully explicit, it fails to ever shock or stir as it is meant to. As soon as the sex goes fully pornographic it just loses it's edge; the suspension of disbelief is broken and we realize we are just watching people having sex.<br /><br />There is some blood and gore with the murders, but given that this is a D'amato flick it's really tame. For a much more rounded experience watch the similar 'Erotic Nights of the Living Dead'.<br /><br />2/10\n"
     ]
    }
   ],
   "source": [
    "def imdb_sentiment_reader(dataset_type='train', sentiment='both'):\n",
    "    \"\"\"\n",
    "    Iterator over the imdb dataset.\n",
    "    Args:\n",
    "        is_train: ['train', 'val', 'test] - whether to iterate over the train, val, or test sets.\n",
    "        sentiment: ['pos', 'neg', 'both']: whether to iterate over just the positive, just the\n",
    "                   negative, or both.\n",
    "    Returns: Iterator over (filename, movie_review, sentiment_score) tuples. \n",
    "    \"\"\"\n",
    "    subfolder = 'train' if dataset_type=='train' else 'test'\n",
    "    dataset_path = os.path.join(imdb_folder_location, subfolder)\n",
    "    if sentiment=='pos' or sentiment=='both':\n",
    "        # Sort by the index\n",
    "        filenames = sorted(os.listdir(os.path.join(dataset_path, 'pos')), \n",
    "                                key=lambda filename: int(filename.split('_')[0]))\n",
    "        # Take a slice if these are for val/test\n",
    "        if dataset_type == 'val' or dataset_type == 'test':\n",
    "            cutoff = int(math.ceil(len(filenames) * .2))\n",
    "            if dataset_type == 'val':\n",
    "                filenames = filenames[:cutoff]\n",
    "            else:\n",
    "                filenames = filenames[cutoff:]\n",
    "        print len(filenames)\n",
    "        for filename in filenames:\n",
    "            sentiment_score = int(filename.split('_')[1].split('.')[0])\n",
    "            with open(os.path.join(dataset_path, 'pos', filename)) as f:\n",
    "                review = f.read()\n",
    "            yield filename, sentiment_score, review\n",
    "    if sentiment=='neg' or sentiment=='both':\n",
    "        # Sort by the index \n",
    "        filenames = sorted(os.listdir(os.path.join(dataset_path, 'neg')), \n",
    "                                key=lambda filename: int(filename.split('_')[0]))\n",
    "         # Take a slice if these are for val/test\n",
    "        if dataset_type == 'val' or dataset_type == 'test':\n",
    "            cutoff = int(math.ceil(len(filenames) * .2))\n",
    "            if dataset_type == 'val':\n",
    "                filenames = filenames[:cutoff]\n",
    "            else:\n",
    "                filenames = filenames[cutoff:]\n",
    "        for filename in filenames:\n",
    "            sentiment_score = int(filename.split('_')[1].split('.')[0])\n",
    "            with open(os.path.join(dataset_path, 'neg', filename)) as f:\n",
    "                review = f.read()\n",
    "            yield filename, sentiment_score, review\n",
    "    \n",
    "# Example Usage\n",
    "for filename, review, score in imdb_sentiment_reader(dataset_type='test', sentiment='neg'):\n",
    "    print filename, review, score\n",
    "    break"
   ]
  },
  {
   "cell_type": "code",
   "execution_count": null,
   "metadata": {
    "collapsed": true
   },
   "outputs": [],
   "source": [
    "class ExperimentRunner():\n",
    "    def __init__(self, train_reader, test_reader, transform_func, eval_func):\n",
    "        self.train_reader = train_reader\n",
    "        self.test_reader = test_reader"
   ]
  }
 ],
 "metadata": {
  "kernelspec": {
   "display_name": "Python 2",
   "language": "python",
   "name": "python2"
  },
  "language_info": {
   "codemirror_mode": {
    "name": "ipython",
    "version": 2
   },
   "file_extension": ".py",
   "mimetype": "text/x-python",
   "name": "python",
   "nbconvert_exporter": "python",
   "pygments_lexer": "ipython2",
   "version": "2.7.11"
  }
 },
 "nbformat": 4,
 "nbformat_minor": 0
}
